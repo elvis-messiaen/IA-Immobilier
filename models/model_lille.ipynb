{
 "cells": [
  {
   "cell_type": "code",
   "id": "initial_id",
   "metadata": {
    "collapsed": true,
    "ExecuteTime": {
     "end_time": "2025-06-23T10:28:28.361195Z",
     "start_time": "2025-06-23T10:28:27.417316Z"
    }
   },
   "source": [
    "import pandas as pd\n",
    "import numpy as np\n",
    "import matplotlib.pyplot as plt\n",
    "from sklearn.linear_model import LinearRegression\n",
    "from sklearn.model_selection import train_test_split\n",
    "from sklearn.metrics import mean_squared_error, r2_score\n",
    "from sklearn.preprocessing import StandardScaler\n",
    "import joblib\n",
    "import os"
   ],
   "outputs": [],
   "execution_count": 1
  },
  {
   "metadata": {
    "ExecuteTime": {
     "end_time": "2025-06-23T10:28:28.498468Z",
     "start_time": "2025-06-23T10:28:28.480748Z"
    }
   },
   "cell_type": "code",
   "source": "df = pd.read_csv(\"../data/lille_2022.csv\")",
   "id": "a33abb48b557ecf",
   "outputs": [],
   "execution_count": 2
  },
  {
   "metadata": {
    "ExecuteTime": {
     "end_time": "2025-06-23T10:28:29.279518Z",
     "start_time": "2025-06-23T10:28:29.270635Z"
    }
   },
   "cell_type": "code",
   "source": "df.head()",
   "id": "c882f72fd548b4b8",
   "outputs": [
    {
     "data": {
      "text/plain": [
       "   Identifiant de document  Reference document  1 Articles CGI  \\\n",
       "0                      NaN                 NaN             NaN   \n",
       "1                      NaN                 NaN             NaN   \n",
       "2                      NaN                 NaN             NaN   \n",
       "3                      NaN                 NaN             NaN   \n",
       "4                      NaN                 NaN             NaN   \n",
       "\n",
       "   2 Articles CGI  3 Articles CGI  4 Articles CGI  5 Articles CGI  \\\n",
       "0             NaN             NaN             NaN             NaN   \n",
       "1             NaN             NaN             NaN             NaN   \n",
       "2             NaN             NaN             NaN             NaN   \n",
       "3             NaN             NaN             NaN             NaN   \n",
       "4             NaN             NaN             NaN             NaN   \n",
       "\n",
       "   No disposition Date mutation Nature mutation  ...  Nombre de lots  \\\n",
       "0               1    03/01/2022           Vente  ...               0   \n",
       "1               1    03/01/2022           Vente  ...               2   \n",
       "2               1    03/01/2022           Vente  ...               2   \n",
       "3               1    03/01/2022           Vente  ...               1   \n",
       "4               1    03/01/2022           Vente  ...               1   \n",
       "\n",
       "   Code type local   Type local Identifiant local Surface reelle bati  \\\n",
       "0              1.0       Maison               NaN                82.0   \n",
       "1              2.0  Appartement               NaN                63.0   \n",
       "2              3.0   Dépendance               NaN                 0.0   \n",
       "3              3.0   Dépendance               NaN                 0.0   \n",
       "4              3.0   Dépendance               NaN                 0.0   \n",
       "\n",
       "  Nombre pieces principales  Nature culture Nature culture speciale  \\\n",
       "0                       5.0               S                     NaN   \n",
       "1                       3.0             NaN                     NaN   \n",
       "2                       0.0             NaN                     NaN   \n",
       "3                       0.0             NaN                     NaN   \n",
       "4                       0.0             NaN                     NaN   \n",
       "\n",
       "   Surface terrain      prix_m2  \n",
       "0             70.0  2681.707317  \n",
       "1              NaN  2936.507937  \n",
       "2              NaN          inf  \n",
       "3              NaN          inf  \n",
       "4              NaN          inf  \n",
       "\n",
       "[5 rows x 44 columns]"
      ],
      "text/html": [
       "<div>\n",
       "<style scoped>\n",
       "    .dataframe tbody tr th:only-of-type {\n",
       "        vertical-align: middle;\n",
       "    }\n",
       "\n",
       "    .dataframe tbody tr th {\n",
       "        vertical-align: top;\n",
       "    }\n",
       "\n",
       "    .dataframe thead th {\n",
       "        text-align: right;\n",
       "    }\n",
       "</style>\n",
       "<table border=\"1\" class=\"dataframe\">\n",
       "  <thead>\n",
       "    <tr style=\"text-align: right;\">\n",
       "      <th></th>\n",
       "      <th>Identifiant de document</th>\n",
       "      <th>Reference document</th>\n",
       "      <th>1 Articles CGI</th>\n",
       "      <th>2 Articles CGI</th>\n",
       "      <th>3 Articles CGI</th>\n",
       "      <th>4 Articles CGI</th>\n",
       "      <th>5 Articles CGI</th>\n",
       "      <th>No disposition</th>\n",
       "      <th>Date mutation</th>\n",
       "      <th>Nature mutation</th>\n",
       "      <th>...</th>\n",
       "      <th>Nombre de lots</th>\n",
       "      <th>Code type local</th>\n",
       "      <th>Type local</th>\n",
       "      <th>Identifiant local</th>\n",
       "      <th>Surface reelle bati</th>\n",
       "      <th>Nombre pieces principales</th>\n",
       "      <th>Nature culture</th>\n",
       "      <th>Nature culture speciale</th>\n",
       "      <th>Surface terrain</th>\n",
       "      <th>prix_m2</th>\n",
       "    </tr>\n",
       "  </thead>\n",
       "  <tbody>\n",
       "    <tr>\n",
       "      <th>0</th>\n",
       "      <td>NaN</td>\n",
       "      <td>NaN</td>\n",
       "      <td>NaN</td>\n",
       "      <td>NaN</td>\n",
       "      <td>NaN</td>\n",
       "      <td>NaN</td>\n",
       "      <td>NaN</td>\n",
       "      <td>1</td>\n",
       "      <td>03/01/2022</td>\n",
       "      <td>Vente</td>\n",
       "      <td>...</td>\n",
       "      <td>0</td>\n",
       "      <td>1.0</td>\n",
       "      <td>Maison</td>\n",
       "      <td>NaN</td>\n",
       "      <td>82.0</td>\n",
       "      <td>5.0</td>\n",
       "      <td>S</td>\n",
       "      <td>NaN</td>\n",
       "      <td>70.0</td>\n",
       "      <td>2681.707317</td>\n",
       "    </tr>\n",
       "    <tr>\n",
       "      <th>1</th>\n",
       "      <td>NaN</td>\n",
       "      <td>NaN</td>\n",
       "      <td>NaN</td>\n",
       "      <td>NaN</td>\n",
       "      <td>NaN</td>\n",
       "      <td>NaN</td>\n",
       "      <td>NaN</td>\n",
       "      <td>1</td>\n",
       "      <td>03/01/2022</td>\n",
       "      <td>Vente</td>\n",
       "      <td>...</td>\n",
       "      <td>2</td>\n",
       "      <td>2.0</td>\n",
       "      <td>Appartement</td>\n",
       "      <td>NaN</td>\n",
       "      <td>63.0</td>\n",
       "      <td>3.0</td>\n",
       "      <td>NaN</td>\n",
       "      <td>NaN</td>\n",
       "      <td>NaN</td>\n",
       "      <td>2936.507937</td>\n",
       "    </tr>\n",
       "    <tr>\n",
       "      <th>2</th>\n",
       "      <td>NaN</td>\n",
       "      <td>NaN</td>\n",
       "      <td>NaN</td>\n",
       "      <td>NaN</td>\n",
       "      <td>NaN</td>\n",
       "      <td>NaN</td>\n",
       "      <td>NaN</td>\n",
       "      <td>1</td>\n",
       "      <td>03/01/2022</td>\n",
       "      <td>Vente</td>\n",
       "      <td>...</td>\n",
       "      <td>2</td>\n",
       "      <td>3.0</td>\n",
       "      <td>Dépendance</td>\n",
       "      <td>NaN</td>\n",
       "      <td>0.0</td>\n",
       "      <td>0.0</td>\n",
       "      <td>NaN</td>\n",
       "      <td>NaN</td>\n",
       "      <td>NaN</td>\n",
       "      <td>inf</td>\n",
       "    </tr>\n",
       "    <tr>\n",
       "      <th>3</th>\n",
       "      <td>NaN</td>\n",
       "      <td>NaN</td>\n",
       "      <td>NaN</td>\n",
       "      <td>NaN</td>\n",
       "      <td>NaN</td>\n",
       "      <td>NaN</td>\n",
       "      <td>NaN</td>\n",
       "      <td>1</td>\n",
       "      <td>03/01/2022</td>\n",
       "      <td>Vente</td>\n",
       "      <td>...</td>\n",
       "      <td>1</td>\n",
       "      <td>3.0</td>\n",
       "      <td>Dépendance</td>\n",
       "      <td>NaN</td>\n",
       "      <td>0.0</td>\n",
       "      <td>0.0</td>\n",
       "      <td>NaN</td>\n",
       "      <td>NaN</td>\n",
       "      <td>NaN</td>\n",
       "      <td>inf</td>\n",
       "    </tr>\n",
       "    <tr>\n",
       "      <th>4</th>\n",
       "      <td>NaN</td>\n",
       "      <td>NaN</td>\n",
       "      <td>NaN</td>\n",
       "      <td>NaN</td>\n",
       "      <td>NaN</td>\n",
       "      <td>NaN</td>\n",
       "      <td>NaN</td>\n",
       "      <td>1</td>\n",
       "      <td>03/01/2022</td>\n",
       "      <td>Vente</td>\n",
       "      <td>...</td>\n",
       "      <td>1</td>\n",
       "      <td>3.0</td>\n",
       "      <td>Dépendance</td>\n",
       "      <td>NaN</td>\n",
       "      <td>0.0</td>\n",
       "      <td>0.0</td>\n",
       "      <td>NaN</td>\n",
       "      <td>NaN</td>\n",
       "      <td>NaN</td>\n",
       "      <td>inf</td>\n",
       "    </tr>\n",
       "  </tbody>\n",
       "</table>\n",
       "<p>5 rows × 44 columns</p>\n",
       "</div>"
      ]
     },
     "execution_count": 3,
     "metadata": {},
     "output_type": "execute_result"
    }
   ],
   "execution_count": 3
  },
  {
   "metadata": {
    "ExecuteTime": {
     "end_time": "2025-06-23T10:28:30.188658Z",
     "start_time": "2025-06-23T10:28:30.182320Z"
    }
   },
   "cell_type": "code",
   "source": "df.info()",
   "id": "a656b458d0ed0d56",
   "outputs": [
    {
     "name": "stdout",
     "output_type": "stream",
     "text": [
      "<class 'pandas.core.frame.DataFrame'>\n",
      "RangeIndex: 11354 entries, 0 to 11353\n",
      "Data columns (total 44 columns):\n",
      " #   Column                      Non-Null Count  Dtype  \n",
      "---  ------                      --------------  -----  \n",
      " 0   Identifiant de document     0 non-null      float64\n",
      " 1   Reference document          0 non-null      float64\n",
      " 2   1 Articles CGI              0 non-null      float64\n",
      " 3   2 Articles CGI              0 non-null      float64\n",
      " 4   3 Articles CGI              0 non-null      float64\n",
      " 5   4 Articles CGI              0 non-null      float64\n",
      " 6   5 Articles CGI              0 non-null      float64\n",
      " 7   No disposition              11354 non-null  int64  \n",
      " 8   Date mutation               11354 non-null  object \n",
      " 9   Nature mutation             11354 non-null  object \n",
      " 10  Valeur fonciere             11354 non-null  float64\n",
      " 11  No voie                     11248 non-null  float64\n",
      " 12  B/T/Q                       652 non-null    object \n",
      " 13  Type de voie                11328 non-null  object \n",
      " 14  Code voie                   11354 non-null  object \n",
      " 15  Voie                        11354 non-null  object \n",
      " 16  Code postal                 11354 non-null  float64\n",
      " 17  Commune                     11354 non-null  object \n",
      " 18  Code departement            11354 non-null  int64  \n",
      " 19  Code commune                11354 non-null  int64  \n",
      " 20  Prefixe de section          1528 non-null   float64\n",
      " 21  Section                     11354 non-null  object \n",
      " 22  No plan                     11354 non-null  int64  \n",
      " 23  No Volume                   0 non-null      float64\n",
      " 24  1er lot                     7682 non-null   float64\n",
      " 25  Surface Carrez du 1er lot   2442 non-null   object \n",
      " 26  2eme lot                    2601 non-null   float64\n",
      " 27  Surface Carrez du 2eme lot  613 non-null    object \n",
      " 28  3eme lot                    360 non-null    float64\n",
      " 29  Surface Carrez du 3eme lot  75 non-null     object \n",
      " 30  4eme lot                    106 non-null    float64\n",
      " 31  Surface Carrez du 4eme lot  19 non-null     object \n",
      " 32  5eme lot                    50 non-null     float64\n",
      " 33  Surface Carrez du 5eme lot  16 non-null     object \n",
      " 34  Nombre de lots              11354 non-null  int64  \n",
      " 35  Code type local             11354 non-null  float64\n",
      " 36  Type local                  11354 non-null  object \n",
      " 37  Identifiant local           0 non-null      float64\n",
      " 38  Surface reelle bati         11354 non-null  float64\n",
      " 39  Nombre pieces principales   11354 non-null  float64\n",
      " 40  Nature culture              3672 non-null   object \n",
      " 41  Nature culture speciale     0 non-null      float64\n",
      " 42  Surface terrain             3672 non-null   float64\n",
      " 43  prix_m2                     11354 non-null  float64\n",
      "dtypes: float64(24), int64(5), object(15)\n",
      "memory usage: 3.8+ MB\n"
     ]
    }
   ],
   "execution_count": 4
  },
  {
   "metadata": {
    "ExecuteTime": {
     "end_time": "2025-06-23T10:28:31.055065Z",
     "start_time": "2025-06-23T10:28:31.032532Z"
    }
   },
   "cell_type": "code",
   "source": "df.describe()",
   "id": "a8133fb71a44c416",
   "outputs": [
    {
     "name": "stderr",
     "output_type": "stream",
     "text": [
      "/Users/Simplon/Cours/api_rest/projets/IA&Immobilier/.venv/lib/python3.10/site-packages/pandas/core/nanops.py:1016: RuntimeWarning: invalid value encountered in subtract\n",
      "  sqr = _ensure_numeric((avg - values) ** 2)\n",
      "/Users/Simplon/Cours/api_rest/projets/IA&Immobilier/.venv/lib/python3.10/site-packages/numpy/lib/_function_base_impl.py:4653: RuntimeWarning: invalid value encountered in subtract\n",
      "  diff_b_a = subtract(b, a)\n"
     ]
    },
    {
     "data": {
      "text/plain": [
       "       Identifiant de document  Reference document  1 Articles CGI  \\\n",
       "count                      0.0                 0.0             0.0   \n",
       "mean                       NaN                 NaN             NaN   \n",
       "std                        NaN                 NaN             NaN   \n",
       "min                        NaN                 NaN             NaN   \n",
       "25%                        NaN                 NaN             NaN   \n",
       "50%                        NaN                 NaN             NaN   \n",
       "75%                        NaN                 NaN             NaN   \n",
       "max                        NaN                 NaN             NaN   \n",
       "\n",
       "       2 Articles CGI  3 Articles CGI  4 Articles CGI  5 Articles CGI  \\\n",
       "count             0.0             0.0             0.0             0.0   \n",
       "mean              NaN             NaN             NaN             NaN   \n",
       "std               NaN             NaN             NaN             NaN   \n",
       "min               NaN             NaN             NaN             NaN   \n",
       "25%               NaN             NaN             NaN             NaN   \n",
       "50%               NaN             NaN             NaN             NaN   \n",
       "75%               NaN             NaN             NaN             NaN   \n",
       "max               NaN             NaN             NaN             NaN   \n",
       "\n",
       "       No disposition  Valeur fonciere       No voie  ...     4eme lot  \\\n",
       "count    11354.000000     1.135400e+04  11248.000000  ...   106.000000   \n",
       "mean         1.003963     6.906027e+05    199.709015  ...    84.905660   \n",
       "std          0.062833     2.354745e+06   1072.930117  ...   373.543662   \n",
       "min          1.000000     1.000000e+00      1.000000  ...     3.000000   \n",
       "25%          1.000000     1.545000e+05     13.000000  ...     7.000000   \n",
       "50%          1.000000     2.275175e+05     35.000000  ...     9.000000   \n",
       "75%          1.000000     3.651500e+05     91.000000  ...    31.000000   \n",
       "max          2.000000     6.180000e+07   9999.000000  ...  3004.000000   \n",
       "\n",
       "          5eme lot  Nombre de lots  Code type local  Identifiant local  \\\n",
       "count    50.000000    11354.000000     11354.000000                0.0   \n",
       "mean     94.180000        0.957812         2.472521                NaN   \n",
       "std     346.065388        0.899357         0.789471                NaN   \n",
       "min       7.000000        0.000000         1.000000                NaN   \n",
       "25%       9.000000        0.000000         2.000000                NaN   \n",
       "50%      19.000000        1.000000         2.000000                NaN   \n",
       "75%      32.000000        1.000000         3.000000                NaN   \n",
       "max    2256.000000       17.000000         4.000000                NaN   \n",
       "\n",
       "       Surface reelle bati  Nombre pieces principales  \\\n",
       "count         11354.000000               11354.000000   \n",
       "mean             42.131760                   1.323146   \n",
       "std             175.379622                   1.666542   \n",
       "min               0.000000                   0.000000   \n",
       "25%               0.000000                   0.000000   \n",
       "50%              22.000000                   1.000000   \n",
       "75%              59.000000                   2.000000   \n",
       "max           10945.000000                  14.000000   \n",
       "\n",
       "       Nature culture speciale  Surface terrain       prix_m2  \n",
       "count                      0.0      3672.000000  1.135400e+04  \n",
       "mean                       NaN       236.449619           inf  \n",
       "std                        NaN       629.515964           NaN  \n",
       "min                        NaN         4.000000  1.347709e-04  \n",
       "25%                        NaN        78.000000  3.851514e+03  \n",
       "50%                        NaN       124.000000  1.685750e+04  \n",
       "75%                        NaN       221.000000           NaN  \n",
       "max                        NaN     18147.000000           inf  \n",
       "\n",
       "[8 rows x 29 columns]"
      ],
      "text/html": [
       "<div>\n",
       "<style scoped>\n",
       "    .dataframe tbody tr th:only-of-type {\n",
       "        vertical-align: middle;\n",
       "    }\n",
       "\n",
       "    .dataframe tbody tr th {\n",
       "        vertical-align: top;\n",
       "    }\n",
       "\n",
       "    .dataframe thead th {\n",
       "        text-align: right;\n",
       "    }\n",
       "</style>\n",
       "<table border=\"1\" class=\"dataframe\">\n",
       "  <thead>\n",
       "    <tr style=\"text-align: right;\">\n",
       "      <th></th>\n",
       "      <th>Identifiant de document</th>\n",
       "      <th>Reference document</th>\n",
       "      <th>1 Articles CGI</th>\n",
       "      <th>2 Articles CGI</th>\n",
       "      <th>3 Articles CGI</th>\n",
       "      <th>4 Articles CGI</th>\n",
       "      <th>5 Articles CGI</th>\n",
       "      <th>No disposition</th>\n",
       "      <th>Valeur fonciere</th>\n",
       "      <th>No voie</th>\n",
       "      <th>...</th>\n",
       "      <th>4eme lot</th>\n",
       "      <th>5eme lot</th>\n",
       "      <th>Nombre de lots</th>\n",
       "      <th>Code type local</th>\n",
       "      <th>Identifiant local</th>\n",
       "      <th>Surface reelle bati</th>\n",
       "      <th>Nombre pieces principales</th>\n",
       "      <th>Nature culture speciale</th>\n",
       "      <th>Surface terrain</th>\n",
       "      <th>prix_m2</th>\n",
       "    </tr>\n",
       "  </thead>\n",
       "  <tbody>\n",
       "    <tr>\n",
       "      <th>count</th>\n",
       "      <td>0.0</td>\n",
       "      <td>0.0</td>\n",
       "      <td>0.0</td>\n",
       "      <td>0.0</td>\n",
       "      <td>0.0</td>\n",
       "      <td>0.0</td>\n",
       "      <td>0.0</td>\n",
       "      <td>11354.000000</td>\n",
       "      <td>1.135400e+04</td>\n",
       "      <td>11248.000000</td>\n",
       "      <td>...</td>\n",
       "      <td>106.000000</td>\n",
       "      <td>50.000000</td>\n",
       "      <td>11354.000000</td>\n",
       "      <td>11354.000000</td>\n",
       "      <td>0.0</td>\n",
       "      <td>11354.000000</td>\n",
       "      <td>11354.000000</td>\n",
       "      <td>0.0</td>\n",
       "      <td>3672.000000</td>\n",
       "      <td>1.135400e+04</td>\n",
       "    </tr>\n",
       "    <tr>\n",
       "      <th>mean</th>\n",
       "      <td>NaN</td>\n",
       "      <td>NaN</td>\n",
       "      <td>NaN</td>\n",
       "      <td>NaN</td>\n",
       "      <td>NaN</td>\n",
       "      <td>NaN</td>\n",
       "      <td>NaN</td>\n",
       "      <td>1.003963</td>\n",
       "      <td>6.906027e+05</td>\n",
       "      <td>199.709015</td>\n",
       "      <td>...</td>\n",
       "      <td>84.905660</td>\n",
       "      <td>94.180000</td>\n",
       "      <td>0.957812</td>\n",
       "      <td>2.472521</td>\n",
       "      <td>NaN</td>\n",
       "      <td>42.131760</td>\n",
       "      <td>1.323146</td>\n",
       "      <td>NaN</td>\n",
       "      <td>236.449619</td>\n",
       "      <td>inf</td>\n",
       "    </tr>\n",
       "    <tr>\n",
       "      <th>std</th>\n",
       "      <td>NaN</td>\n",
       "      <td>NaN</td>\n",
       "      <td>NaN</td>\n",
       "      <td>NaN</td>\n",
       "      <td>NaN</td>\n",
       "      <td>NaN</td>\n",
       "      <td>NaN</td>\n",
       "      <td>0.062833</td>\n",
       "      <td>2.354745e+06</td>\n",
       "      <td>1072.930117</td>\n",
       "      <td>...</td>\n",
       "      <td>373.543662</td>\n",
       "      <td>346.065388</td>\n",
       "      <td>0.899357</td>\n",
       "      <td>0.789471</td>\n",
       "      <td>NaN</td>\n",
       "      <td>175.379622</td>\n",
       "      <td>1.666542</td>\n",
       "      <td>NaN</td>\n",
       "      <td>629.515964</td>\n",
       "      <td>NaN</td>\n",
       "    </tr>\n",
       "    <tr>\n",
       "      <th>min</th>\n",
       "      <td>NaN</td>\n",
       "      <td>NaN</td>\n",
       "      <td>NaN</td>\n",
       "      <td>NaN</td>\n",
       "      <td>NaN</td>\n",
       "      <td>NaN</td>\n",
       "      <td>NaN</td>\n",
       "      <td>1.000000</td>\n",
       "      <td>1.000000e+00</td>\n",
       "      <td>1.000000</td>\n",
       "      <td>...</td>\n",
       "      <td>3.000000</td>\n",
       "      <td>7.000000</td>\n",
       "      <td>0.000000</td>\n",
       "      <td>1.000000</td>\n",
       "      <td>NaN</td>\n",
       "      <td>0.000000</td>\n",
       "      <td>0.000000</td>\n",
       "      <td>NaN</td>\n",
       "      <td>4.000000</td>\n",
       "      <td>1.347709e-04</td>\n",
       "    </tr>\n",
       "    <tr>\n",
       "      <th>25%</th>\n",
       "      <td>NaN</td>\n",
       "      <td>NaN</td>\n",
       "      <td>NaN</td>\n",
       "      <td>NaN</td>\n",
       "      <td>NaN</td>\n",
       "      <td>NaN</td>\n",
       "      <td>NaN</td>\n",
       "      <td>1.000000</td>\n",
       "      <td>1.545000e+05</td>\n",
       "      <td>13.000000</td>\n",
       "      <td>...</td>\n",
       "      <td>7.000000</td>\n",
       "      <td>9.000000</td>\n",
       "      <td>0.000000</td>\n",
       "      <td>2.000000</td>\n",
       "      <td>NaN</td>\n",
       "      <td>0.000000</td>\n",
       "      <td>0.000000</td>\n",
       "      <td>NaN</td>\n",
       "      <td>78.000000</td>\n",
       "      <td>3.851514e+03</td>\n",
       "    </tr>\n",
       "    <tr>\n",
       "      <th>50%</th>\n",
       "      <td>NaN</td>\n",
       "      <td>NaN</td>\n",
       "      <td>NaN</td>\n",
       "      <td>NaN</td>\n",
       "      <td>NaN</td>\n",
       "      <td>NaN</td>\n",
       "      <td>NaN</td>\n",
       "      <td>1.000000</td>\n",
       "      <td>2.275175e+05</td>\n",
       "      <td>35.000000</td>\n",
       "      <td>...</td>\n",
       "      <td>9.000000</td>\n",
       "      <td>19.000000</td>\n",
       "      <td>1.000000</td>\n",
       "      <td>2.000000</td>\n",
       "      <td>NaN</td>\n",
       "      <td>22.000000</td>\n",
       "      <td>1.000000</td>\n",
       "      <td>NaN</td>\n",
       "      <td>124.000000</td>\n",
       "      <td>1.685750e+04</td>\n",
       "    </tr>\n",
       "    <tr>\n",
       "      <th>75%</th>\n",
       "      <td>NaN</td>\n",
       "      <td>NaN</td>\n",
       "      <td>NaN</td>\n",
       "      <td>NaN</td>\n",
       "      <td>NaN</td>\n",
       "      <td>NaN</td>\n",
       "      <td>NaN</td>\n",
       "      <td>1.000000</td>\n",
       "      <td>3.651500e+05</td>\n",
       "      <td>91.000000</td>\n",
       "      <td>...</td>\n",
       "      <td>31.000000</td>\n",
       "      <td>32.000000</td>\n",
       "      <td>1.000000</td>\n",
       "      <td>3.000000</td>\n",
       "      <td>NaN</td>\n",
       "      <td>59.000000</td>\n",
       "      <td>2.000000</td>\n",
       "      <td>NaN</td>\n",
       "      <td>221.000000</td>\n",
       "      <td>NaN</td>\n",
       "    </tr>\n",
       "    <tr>\n",
       "      <th>max</th>\n",
       "      <td>NaN</td>\n",
       "      <td>NaN</td>\n",
       "      <td>NaN</td>\n",
       "      <td>NaN</td>\n",
       "      <td>NaN</td>\n",
       "      <td>NaN</td>\n",
       "      <td>NaN</td>\n",
       "      <td>2.000000</td>\n",
       "      <td>6.180000e+07</td>\n",
       "      <td>9999.000000</td>\n",
       "      <td>...</td>\n",
       "      <td>3004.000000</td>\n",
       "      <td>2256.000000</td>\n",
       "      <td>17.000000</td>\n",
       "      <td>4.000000</td>\n",
       "      <td>NaN</td>\n",
       "      <td>10945.000000</td>\n",
       "      <td>14.000000</td>\n",
       "      <td>NaN</td>\n",
       "      <td>18147.000000</td>\n",
       "      <td>inf</td>\n",
       "    </tr>\n",
       "  </tbody>\n",
       "</table>\n",
       "<p>8 rows × 29 columns</p>\n",
       "</div>"
      ]
     },
     "execution_count": 5,
     "metadata": {},
     "output_type": "execute_result"
    }
   ],
   "execution_count": 5
  },
  {
   "metadata": {
    "ExecuteTime": {
     "end_time": "2025-06-23T10:28:35.522240Z",
     "start_time": "2025-06-23T10:28:35.511714Z"
    }
   },
   "cell_type": "code",
   "source": [
    "df = df[df[\"Nombre pieces principales\"] >= 4.0]\n",
    "df.head(20)"
   ],
   "id": "43e8d0c39c64e533",
   "outputs": [
    {
     "data": {
      "text/plain": [
       "     Identifiant de document  Reference document  1 Articles CGI  \\\n",
       "0                        NaN                 NaN             NaN   \n",
       "18                       NaN                 NaN             NaN   \n",
       "20                       NaN                 NaN             NaN   \n",
       "23                       NaN                 NaN             NaN   \n",
       "25                       NaN                 NaN             NaN   \n",
       "26                       NaN                 NaN             NaN   \n",
       "48                       NaN                 NaN             NaN   \n",
       "53                       NaN                 NaN             NaN   \n",
       "58                       NaN                 NaN             NaN   \n",
       "62                       NaN                 NaN             NaN   \n",
       "65                       NaN                 NaN             NaN   \n",
       "66                       NaN                 NaN             NaN   \n",
       "82                       NaN                 NaN             NaN   \n",
       "102                      NaN                 NaN             NaN   \n",
       "113                      NaN                 NaN             NaN   \n",
       "123                      NaN                 NaN             NaN   \n",
       "129                      NaN                 NaN             NaN   \n",
       "141                      NaN                 NaN             NaN   \n",
       "144                      NaN                 NaN             NaN   \n",
       "153                      NaN                 NaN             NaN   \n",
       "\n",
       "     2 Articles CGI  3 Articles CGI  4 Articles CGI  5 Articles CGI  \\\n",
       "0               NaN             NaN             NaN             NaN   \n",
       "18              NaN             NaN             NaN             NaN   \n",
       "20              NaN             NaN             NaN             NaN   \n",
       "23              NaN             NaN             NaN             NaN   \n",
       "25              NaN             NaN             NaN             NaN   \n",
       "26              NaN             NaN             NaN             NaN   \n",
       "48              NaN             NaN             NaN             NaN   \n",
       "53              NaN             NaN             NaN             NaN   \n",
       "58              NaN             NaN             NaN             NaN   \n",
       "62              NaN             NaN             NaN             NaN   \n",
       "65              NaN             NaN             NaN             NaN   \n",
       "66              NaN             NaN             NaN             NaN   \n",
       "82              NaN             NaN             NaN             NaN   \n",
       "102             NaN             NaN             NaN             NaN   \n",
       "113             NaN             NaN             NaN             NaN   \n",
       "123             NaN             NaN             NaN             NaN   \n",
       "129             NaN             NaN             NaN             NaN   \n",
       "141             NaN             NaN             NaN             NaN   \n",
       "144             NaN             NaN             NaN             NaN   \n",
       "153             NaN             NaN             NaN             NaN   \n",
       "\n",
       "     No disposition Date mutation Nature mutation  ...  Nombre de lots  \\\n",
       "0                 1    03/01/2022           Vente  ...               0   \n",
       "18                1    05/01/2022           Vente  ...               0   \n",
       "20                1    06/01/2022           Vente  ...               0   \n",
       "23                1    06/01/2022           Vente  ...               1   \n",
       "25                1    06/01/2022           Vente  ...               0   \n",
       "26                1    06/01/2022           Vente  ...               2   \n",
       "48                1    12/01/2022           Vente  ...               0   \n",
       "53                1    10/01/2022           Vente  ...               0   \n",
       "58                1    04/01/2022           Vente  ...               2   \n",
       "62                1    07/01/2022           Vente  ...               1   \n",
       "65                1    04/01/2022           Vente  ...               0   \n",
       "66                1    04/01/2022           Vente  ...               0   \n",
       "82                1    14/01/2022           Vente  ...               0   \n",
       "102               1    14/01/2022           Vente  ...               0   \n",
       "113               1    12/01/2022           Vente  ...               1   \n",
       "123               1    14/01/2022           Vente  ...               0   \n",
       "129               1    10/01/2022           Vente  ...               0   \n",
       "141               1    10/01/2022           Vente  ...               4   \n",
       "144               1    13/01/2022           Vente  ...               0   \n",
       "153               1    18/01/2022           Vente  ...               0   \n",
       "\n",
       "     Code type local   Type local Identifiant local Surface reelle bati  \\\n",
       "0                1.0       Maison               NaN                82.0   \n",
       "18               1.0       Maison               NaN               165.0   \n",
       "20               1.0       Maison               NaN                96.0   \n",
       "23               2.0  Appartement               NaN                92.0   \n",
       "25               1.0       Maison               NaN                60.0   \n",
       "26               2.0  Appartement               NaN                70.0   \n",
       "48               1.0       Maison               NaN                91.0   \n",
       "53               1.0       Maison               NaN                80.0   \n",
       "58               2.0  Appartement               NaN               105.0   \n",
       "62               2.0  Appartement               NaN               120.0   \n",
       "65               1.0       Maison               NaN                64.0   \n",
       "66               1.0       Maison               NaN               180.0   \n",
       "82               1.0       Maison               NaN                78.0   \n",
       "102              1.0       Maison               NaN               160.0   \n",
       "113              2.0  Appartement               NaN                71.0   \n",
       "123              1.0       Maison               NaN                63.0   \n",
       "129              1.0       Maison               NaN               138.0   \n",
       "141              2.0  Appartement               NaN               120.0   \n",
       "144              1.0       Maison               NaN               120.0   \n",
       "153              1.0       Maison               NaN               140.0   \n",
       "\n",
       "    Nombre pieces principales  Nature culture Nature culture speciale  \\\n",
       "0                         5.0               S                     NaN   \n",
       "18                        4.0               S                     NaN   \n",
       "20                        5.0               S                     NaN   \n",
       "23                        4.0             NaN                     NaN   \n",
       "25                        5.0               S                     NaN   \n",
       "26                        4.0             NaN                     NaN   \n",
       "48                        5.0               S                     NaN   \n",
       "53                        5.0               S                     NaN   \n",
       "58                        4.0             NaN                     NaN   \n",
       "62                        4.0             NaN                     NaN   \n",
       "65                        4.0               S                     NaN   \n",
       "66                        7.0               S                     NaN   \n",
       "82                        5.0               S                     NaN   \n",
       "102                       6.0               S                     NaN   \n",
       "113                       4.0             NaN                     NaN   \n",
       "123                       5.0               S                     NaN   \n",
       "129                       7.0               S                     NaN   \n",
       "141                       5.0             NaN                     NaN   \n",
       "144                       7.0               S                     NaN   \n",
       "153                       6.0               S                     NaN   \n",
       "\n",
       "     Surface terrain      prix_m2  \n",
       "0               70.0  2681.707317  \n",
       "18             121.0  1848.484848  \n",
       "20              99.0  2395.833333  \n",
       "23               NaN  3989.130435  \n",
       "25              32.0  1916.666667  \n",
       "26               NaN  2428.571429  \n",
       "48             176.0  2835.164835  \n",
       "53              92.0  2962.500000  \n",
       "58               NaN  3383.809524  \n",
       "62               NaN  3937.500000  \n",
       "65             127.0  3545.312500  \n",
       "66             215.0  4460.666667  \n",
       "82             216.0  5000.000000  \n",
       "102            174.0  4001.687500  \n",
       "113              NaN  3238.028169  \n",
       "123             97.0  4158.730159  \n",
       "129            123.0  2195.652174  \n",
       "141              NaN  3791.666667  \n",
       "144            121.0  6960.000000  \n",
       "153            165.0  7857.142857  \n",
       "\n",
       "[20 rows x 44 columns]"
      ],
      "text/html": [
       "<div>\n",
       "<style scoped>\n",
       "    .dataframe tbody tr th:only-of-type {\n",
       "        vertical-align: middle;\n",
       "    }\n",
       "\n",
       "    .dataframe tbody tr th {\n",
       "        vertical-align: top;\n",
       "    }\n",
       "\n",
       "    .dataframe thead th {\n",
       "        text-align: right;\n",
       "    }\n",
       "</style>\n",
       "<table border=\"1\" class=\"dataframe\">\n",
       "  <thead>\n",
       "    <tr style=\"text-align: right;\">\n",
       "      <th></th>\n",
       "      <th>Identifiant de document</th>\n",
       "      <th>Reference document</th>\n",
       "      <th>1 Articles CGI</th>\n",
       "      <th>2 Articles CGI</th>\n",
       "      <th>3 Articles CGI</th>\n",
       "      <th>4 Articles CGI</th>\n",
       "      <th>5 Articles CGI</th>\n",
       "      <th>No disposition</th>\n",
       "      <th>Date mutation</th>\n",
       "      <th>Nature mutation</th>\n",
       "      <th>...</th>\n",
       "      <th>Nombre de lots</th>\n",
       "      <th>Code type local</th>\n",
       "      <th>Type local</th>\n",
       "      <th>Identifiant local</th>\n",
       "      <th>Surface reelle bati</th>\n",
       "      <th>Nombre pieces principales</th>\n",
       "      <th>Nature culture</th>\n",
       "      <th>Nature culture speciale</th>\n",
       "      <th>Surface terrain</th>\n",
       "      <th>prix_m2</th>\n",
       "    </tr>\n",
       "  </thead>\n",
       "  <tbody>\n",
       "    <tr>\n",
       "      <th>0</th>\n",
       "      <td>NaN</td>\n",
       "      <td>NaN</td>\n",
       "      <td>NaN</td>\n",
       "      <td>NaN</td>\n",
       "      <td>NaN</td>\n",
       "      <td>NaN</td>\n",
       "      <td>NaN</td>\n",
       "      <td>1</td>\n",
       "      <td>03/01/2022</td>\n",
       "      <td>Vente</td>\n",
       "      <td>...</td>\n",
       "      <td>0</td>\n",
       "      <td>1.0</td>\n",
       "      <td>Maison</td>\n",
       "      <td>NaN</td>\n",
       "      <td>82.0</td>\n",
       "      <td>5.0</td>\n",
       "      <td>S</td>\n",
       "      <td>NaN</td>\n",
       "      <td>70.0</td>\n",
       "      <td>2681.707317</td>\n",
       "    </tr>\n",
       "    <tr>\n",
       "      <th>18</th>\n",
       "      <td>NaN</td>\n",
       "      <td>NaN</td>\n",
       "      <td>NaN</td>\n",
       "      <td>NaN</td>\n",
       "      <td>NaN</td>\n",
       "      <td>NaN</td>\n",
       "      <td>NaN</td>\n",
       "      <td>1</td>\n",
       "      <td>05/01/2022</td>\n",
       "      <td>Vente</td>\n",
       "      <td>...</td>\n",
       "      <td>0</td>\n",
       "      <td>1.0</td>\n",
       "      <td>Maison</td>\n",
       "      <td>NaN</td>\n",
       "      <td>165.0</td>\n",
       "      <td>4.0</td>\n",
       "      <td>S</td>\n",
       "      <td>NaN</td>\n",
       "      <td>121.0</td>\n",
       "      <td>1848.484848</td>\n",
       "    </tr>\n",
       "    <tr>\n",
       "      <th>20</th>\n",
       "      <td>NaN</td>\n",
       "      <td>NaN</td>\n",
       "      <td>NaN</td>\n",
       "      <td>NaN</td>\n",
       "      <td>NaN</td>\n",
       "      <td>NaN</td>\n",
       "      <td>NaN</td>\n",
       "      <td>1</td>\n",
       "      <td>06/01/2022</td>\n",
       "      <td>Vente</td>\n",
       "      <td>...</td>\n",
       "      <td>0</td>\n",
       "      <td>1.0</td>\n",
       "      <td>Maison</td>\n",
       "      <td>NaN</td>\n",
       "      <td>96.0</td>\n",
       "      <td>5.0</td>\n",
       "      <td>S</td>\n",
       "      <td>NaN</td>\n",
       "      <td>99.0</td>\n",
       "      <td>2395.833333</td>\n",
       "    </tr>\n",
       "    <tr>\n",
       "      <th>23</th>\n",
       "      <td>NaN</td>\n",
       "      <td>NaN</td>\n",
       "      <td>NaN</td>\n",
       "      <td>NaN</td>\n",
       "      <td>NaN</td>\n",
       "      <td>NaN</td>\n",
       "      <td>NaN</td>\n",
       "      <td>1</td>\n",
       "      <td>06/01/2022</td>\n",
       "      <td>Vente</td>\n",
       "      <td>...</td>\n",
       "      <td>1</td>\n",
       "      <td>2.0</td>\n",
       "      <td>Appartement</td>\n",
       "      <td>NaN</td>\n",
       "      <td>92.0</td>\n",
       "      <td>4.0</td>\n",
       "      <td>NaN</td>\n",
       "      <td>NaN</td>\n",
       "      <td>NaN</td>\n",
       "      <td>3989.130435</td>\n",
       "    </tr>\n",
       "    <tr>\n",
       "      <th>25</th>\n",
       "      <td>NaN</td>\n",
       "      <td>NaN</td>\n",
       "      <td>NaN</td>\n",
       "      <td>NaN</td>\n",
       "      <td>NaN</td>\n",
       "      <td>NaN</td>\n",
       "      <td>NaN</td>\n",
       "      <td>1</td>\n",
       "      <td>06/01/2022</td>\n",
       "      <td>Vente</td>\n",
       "      <td>...</td>\n",
       "      <td>0</td>\n",
       "      <td>1.0</td>\n",
       "      <td>Maison</td>\n",
       "      <td>NaN</td>\n",
       "      <td>60.0</td>\n",
       "      <td>5.0</td>\n",
       "      <td>S</td>\n",
       "      <td>NaN</td>\n",
       "      <td>32.0</td>\n",
       "      <td>1916.666667</td>\n",
       "    </tr>\n",
       "    <tr>\n",
       "      <th>26</th>\n",
       "      <td>NaN</td>\n",
       "      <td>NaN</td>\n",
       "      <td>NaN</td>\n",
       "      <td>NaN</td>\n",
       "      <td>NaN</td>\n",
       "      <td>NaN</td>\n",
       "      <td>NaN</td>\n",
       "      <td>1</td>\n",
       "      <td>06/01/2022</td>\n",
       "      <td>Vente</td>\n",
       "      <td>...</td>\n",
       "      <td>2</td>\n",
       "      <td>2.0</td>\n",
       "      <td>Appartement</td>\n",
       "      <td>NaN</td>\n",
       "      <td>70.0</td>\n",
       "      <td>4.0</td>\n",
       "      <td>NaN</td>\n",
       "      <td>NaN</td>\n",
       "      <td>NaN</td>\n",
       "      <td>2428.571429</td>\n",
       "    </tr>\n",
       "    <tr>\n",
       "      <th>48</th>\n",
       "      <td>NaN</td>\n",
       "      <td>NaN</td>\n",
       "      <td>NaN</td>\n",
       "      <td>NaN</td>\n",
       "      <td>NaN</td>\n",
       "      <td>NaN</td>\n",
       "      <td>NaN</td>\n",
       "      <td>1</td>\n",
       "      <td>12/01/2022</td>\n",
       "      <td>Vente</td>\n",
       "      <td>...</td>\n",
       "      <td>0</td>\n",
       "      <td>1.0</td>\n",
       "      <td>Maison</td>\n",
       "      <td>NaN</td>\n",
       "      <td>91.0</td>\n",
       "      <td>5.0</td>\n",
       "      <td>S</td>\n",
       "      <td>NaN</td>\n",
       "      <td>176.0</td>\n",
       "      <td>2835.164835</td>\n",
       "    </tr>\n",
       "    <tr>\n",
       "      <th>53</th>\n",
       "      <td>NaN</td>\n",
       "      <td>NaN</td>\n",
       "      <td>NaN</td>\n",
       "      <td>NaN</td>\n",
       "      <td>NaN</td>\n",
       "      <td>NaN</td>\n",
       "      <td>NaN</td>\n",
       "      <td>1</td>\n",
       "      <td>10/01/2022</td>\n",
       "      <td>Vente</td>\n",
       "      <td>...</td>\n",
       "      <td>0</td>\n",
       "      <td>1.0</td>\n",
       "      <td>Maison</td>\n",
       "      <td>NaN</td>\n",
       "      <td>80.0</td>\n",
       "      <td>5.0</td>\n",
       "      <td>S</td>\n",
       "      <td>NaN</td>\n",
       "      <td>92.0</td>\n",
       "      <td>2962.500000</td>\n",
       "    </tr>\n",
       "    <tr>\n",
       "      <th>58</th>\n",
       "      <td>NaN</td>\n",
       "      <td>NaN</td>\n",
       "      <td>NaN</td>\n",
       "      <td>NaN</td>\n",
       "      <td>NaN</td>\n",
       "      <td>NaN</td>\n",
       "      <td>NaN</td>\n",
       "      <td>1</td>\n",
       "      <td>04/01/2022</td>\n",
       "      <td>Vente</td>\n",
       "      <td>...</td>\n",
       "      <td>2</td>\n",
       "      <td>2.0</td>\n",
       "      <td>Appartement</td>\n",
       "      <td>NaN</td>\n",
       "      <td>105.0</td>\n",
       "      <td>4.0</td>\n",
       "      <td>NaN</td>\n",
       "      <td>NaN</td>\n",
       "      <td>NaN</td>\n",
       "      <td>3383.809524</td>\n",
       "    </tr>\n",
       "    <tr>\n",
       "      <th>62</th>\n",
       "      <td>NaN</td>\n",
       "      <td>NaN</td>\n",
       "      <td>NaN</td>\n",
       "      <td>NaN</td>\n",
       "      <td>NaN</td>\n",
       "      <td>NaN</td>\n",
       "      <td>NaN</td>\n",
       "      <td>1</td>\n",
       "      <td>07/01/2022</td>\n",
       "      <td>Vente</td>\n",
       "      <td>...</td>\n",
       "      <td>1</td>\n",
       "      <td>2.0</td>\n",
       "      <td>Appartement</td>\n",
       "      <td>NaN</td>\n",
       "      <td>120.0</td>\n",
       "      <td>4.0</td>\n",
       "      <td>NaN</td>\n",
       "      <td>NaN</td>\n",
       "      <td>NaN</td>\n",
       "      <td>3937.500000</td>\n",
       "    </tr>\n",
       "    <tr>\n",
       "      <th>65</th>\n",
       "      <td>NaN</td>\n",
       "      <td>NaN</td>\n",
       "      <td>NaN</td>\n",
       "      <td>NaN</td>\n",
       "      <td>NaN</td>\n",
       "      <td>NaN</td>\n",
       "      <td>NaN</td>\n",
       "      <td>1</td>\n",
       "      <td>04/01/2022</td>\n",
       "      <td>Vente</td>\n",
       "      <td>...</td>\n",
       "      <td>0</td>\n",
       "      <td>1.0</td>\n",
       "      <td>Maison</td>\n",
       "      <td>NaN</td>\n",
       "      <td>64.0</td>\n",
       "      <td>4.0</td>\n",
       "      <td>S</td>\n",
       "      <td>NaN</td>\n",
       "      <td>127.0</td>\n",
       "      <td>3545.312500</td>\n",
       "    </tr>\n",
       "    <tr>\n",
       "      <th>66</th>\n",
       "      <td>NaN</td>\n",
       "      <td>NaN</td>\n",
       "      <td>NaN</td>\n",
       "      <td>NaN</td>\n",
       "      <td>NaN</td>\n",
       "      <td>NaN</td>\n",
       "      <td>NaN</td>\n",
       "      <td>1</td>\n",
       "      <td>04/01/2022</td>\n",
       "      <td>Vente</td>\n",
       "      <td>...</td>\n",
       "      <td>0</td>\n",
       "      <td>1.0</td>\n",
       "      <td>Maison</td>\n",
       "      <td>NaN</td>\n",
       "      <td>180.0</td>\n",
       "      <td>7.0</td>\n",
       "      <td>S</td>\n",
       "      <td>NaN</td>\n",
       "      <td>215.0</td>\n",
       "      <td>4460.666667</td>\n",
       "    </tr>\n",
       "    <tr>\n",
       "      <th>82</th>\n",
       "      <td>NaN</td>\n",
       "      <td>NaN</td>\n",
       "      <td>NaN</td>\n",
       "      <td>NaN</td>\n",
       "      <td>NaN</td>\n",
       "      <td>NaN</td>\n",
       "      <td>NaN</td>\n",
       "      <td>1</td>\n",
       "      <td>14/01/2022</td>\n",
       "      <td>Vente</td>\n",
       "      <td>...</td>\n",
       "      <td>0</td>\n",
       "      <td>1.0</td>\n",
       "      <td>Maison</td>\n",
       "      <td>NaN</td>\n",
       "      <td>78.0</td>\n",
       "      <td>5.0</td>\n",
       "      <td>S</td>\n",
       "      <td>NaN</td>\n",
       "      <td>216.0</td>\n",
       "      <td>5000.000000</td>\n",
       "    </tr>\n",
       "    <tr>\n",
       "      <th>102</th>\n",
       "      <td>NaN</td>\n",
       "      <td>NaN</td>\n",
       "      <td>NaN</td>\n",
       "      <td>NaN</td>\n",
       "      <td>NaN</td>\n",
       "      <td>NaN</td>\n",
       "      <td>NaN</td>\n",
       "      <td>1</td>\n",
       "      <td>14/01/2022</td>\n",
       "      <td>Vente</td>\n",
       "      <td>...</td>\n",
       "      <td>0</td>\n",
       "      <td>1.0</td>\n",
       "      <td>Maison</td>\n",
       "      <td>NaN</td>\n",
       "      <td>160.0</td>\n",
       "      <td>6.0</td>\n",
       "      <td>S</td>\n",
       "      <td>NaN</td>\n",
       "      <td>174.0</td>\n",
       "      <td>4001.687500</td>\n",
       "    </tr>\n",
       "    <tr>\n",
       "      <th>113</th>\n",
       "      <td>NaN</td>\n",
       "      <td>NaN</td>\n",
       "      <td>NaN</td>\n",
       "      <td>NaN</td>\n",
       "      <td>NaN</td>\n",
       "      <td>NaN</td>\n",
       "      <td>NaN</td>\n",
       "      <td>1</td>\n",
       "      <td>12/01/2022</td>\n",
       "      <td>Vente</td>\n",
       "      <td>...</td>\n",
       "      <td>1</td>\n",
       "      <td>2.0</td>\n",
       "      <td>Appartement</td>\n",
       "      <td>NaN</td>\n",
       "      <td>71.0</td>\n",
       "      <td>4.0</td>\n",
       "      <td>NaN</td>\n",
       "      <td>NaN</td>\n",
       "      <td>NaN</td>\n",
       "      <td>3238.028169</td>\n",
       "    </tr>\n",
       "    <tr>\n",
       "      <th>123</th>\n",
       "      <td>NaN</td>\n",
       "      <td>NaN</td>\n",
       "      <td>NaN</td>\n",
       "      <td>NaN</td>\n",
       "      <td>NaN</td>\n",
       "      <td>NaN</td>\n",
       "      <td>NaN</td>\n",
       "      <td>1</td>\n",
       "      <td>14/01/2022</td>\n",
       "      <td>Vente</td>\n",
       "      <td>...</td>\n",
       "      <td>0</td>\n",
       "      <td>1.0</td>\n",
       "      <td>Maison</td>\n",
       "      <td>NaN</td>\n",
       "      <td>63.0</td>\n",
       "      <td>5.0</td>\n",
       "      <td>S</td>\n",
       "      <td>NaN</td>\n",
       "      <td>97.0</td>\n",
       "      <td>4158.730159</td>\n",
       "    </tr>\n",
       "    <tr>\n",
       "      <th>129</th>\n",
       "      <td>NaN</td>\n",
       "      <td>NaN</td>\n",
       "      <td>NaN</td>\n",
       "      <td>NaN</td>\n",
       "      <td>NaN</td>\n",
       "      <td>NaN</td>\n",
       "      <td>NaN</td>\n",
       "      <td>1</td>\n",
       "      <td>10/01/2022</td>\n",
       "      <td>Vente</td>\n",
       "      <td>...</td>\n",
       "      <td>0</td>\n",
       "      <td>1.0</td>\n",
       "      <td>Maison</td>\n",
       "      <td>NaN</td>\n",
       "      <td>138.0</td>\n",
       "      <td>7.0</td>\n",
       "      <td>S</td>\n",
       "      <td>NaN</td>\n",
       "      <td>123.0</td>\n",
       "      <td>2195.652174</td>\n",
       "    </tr>\n",
       "    <tr>\n",
       "      <th>141</th>\n",
       "      <td>NaN</td>\n",
       "      <td>NaN</td>\n",
       "      <td>NaN</td>\n",
       "      <td>NaN</td>\n",
       "      <td>NaN</td>\n",
       "      <td>NaN</td>\n",
       "      <td>NaN</td>\n",
       "      <td>1</td>\n",
       "      <td>10/01/2022</td>\n",
       "      <td>Vente</td>\n",
       "      <td>...</td>\n",
       "      <td>4</td>\n",
       "      <td>2.0</td>\n",
       "      <td>Appartement</td>\n",
       "      <td>NaN</td>\n",
       "      <td>120.0</td>\n",
       "      <td>5.0</td>\n",
       "      <td>NaN</td>\n",
       "      <td>NaN</td>\n",
       "      <td>NaN</td>\n",
       "      <td>3791.666667</td>\n",
       "    </tr>\n",
       "    <tr>\n",
       "      <th>144</th>\n",
       "      <td>NaN</td>\n",
       "      <td>NaN</td>\n",
       "      <td>NaN</td>\n",
       "      <td>NaN</td>\n",
       "      <td>NaN</td>\n",
       "      <td>NaN</td>\n",
       "      <td>NaN</td>\n",
       "      <td>1</td>\n",
       "      <td>13/01/2022</td>\n",
       "      <td>Vente</td>\n",
       "      <td>...</td>\n",
       "      <td>0</td>\n",
       "      <td>1.0</td>\n",
       "      <td>Maison</td>\n",
       "      <td>NaN</td>\n",
       "      <td>120.0</td>\n",
       "      <td>7.0</td>\n",
       "      <td>S</td>\n",
       "      <td>NaN</td>\n",
       "      <td>121.0</td>\n",
       "      <td>6960.000000</td>\n",
       "    </tr>\n",
       "    <tr>\n",
       "      <th>153</th>\n",
       "      <td>NaN</td>\n",
       "      <td>NaN</td>\n",
       "      <td>NaN</td>\n",
       "      <td>NaN</td>\n",
       "      <td>NaN</td>\n",
       "      <td>NaN</td>\n",
       "      <td>NaN</td>\n",
       "      <td>1</td>\n",
       "      <td>18/01/2022</td>\n",
       "      <td>Vente</td>\n",
       "      <td>...</td>\n",
       "      <td>0</td>\n",
       "      <td>1.0</td>\n",
       "      <td>Maison</td>\n",
       "      <td>NaN</td>\n",
       "      <td>140.0</td>\n",
       "      <td>6.0</td>\n",
       "      <td>S</td>\n",
       "      <td>NaN</td>\n",
       "      <td>165.0</td>\n",
       "      <td>7857.142857</td>\n",
       "    </tr>\n",
       "  </tbody>\n",
       "</table>\n",
       "<p>20 rows × 44 columns</p>\n",
       "</div>"
      ]
     },
     "execution_count": 6,
     "metadata": {},
     "output_type": "execute_result"
    }
   ],
   "execution_count": 6
  },
  {
   "metadata": {
    "ExecuteTime": {
     "end_time": "2025-06-23T10:28:36.241859Z",
     "start_time": "2025-06-23T10:28:36.239873Z"
    }
   },
   "cell_type": "code",
   "source": "df.shape[0]",
   "id": "acdfa4cd9efc299d",
   "outputs": [
    {
     "data": {
      "text/plain": [
       "1379"
      ]
     },
     "execution_count": 7,
     "metadata": {},
     "output_type": "execute_result"
    }
   ],
   "execution_count": 7
  },
  {
   "metadata": {
    "ExecuteTime": {
     "end_time": "2025-06-23T10:28:38.390111Z",
     "start_time": "2025-06-23T10:28:38.380891Z"
    }
   },
   "cell_type": "code",
   "source": [
    "df[\"prix_m2\"] = df[\"Valeur fonciere\"] / df[\"Surface reelle bati\"]\n",
    "df.head(20)"
   ],
   "id": "2f92df46dda5e5b5",
   "outputs": [
    {
     "data": {
      "text/plain": [
       "     Identifiant de document  Reference document  1 Articles CGI  \\\n",
       "0                        NaN                 NaN             NaN   \n",
       "18                       NaN                 NaN             NaN   \n",
       "20                       NaN                 NaN             NaN   \n",
       "23                       NaN                 NaN             NaN   \n",
       "25                       NaN                 NaN             NaN   \n",
       "26                       NaN                 NaN             NaN   \n",
       "48                       NaN                 NaN             NaN   \n",
       "53                       NaN                 NaN             NaN   \n",
       "58                       NaN                 NaN             NaN   \n",
       "62                       NaN                 NaN             NaN   \n",
       "65                       NaN                 NaN             NaN   \n",
       "66                       NaN                 NaN             NaN   \n",
       "82                       NaN                 NaN             NaN   \n",
       "102                      NaN                 NaN             NaN   \n",
       "113                      NaN                 NaN             NaN   \n",
       "123                      NaN                 NaN             NaN   \n",
       "129                      NaN                 NaN             NaN   \n",
       "141                      NaN                 NaN             NaN   \n",
       "144                      NaN                 NaN             NaN   \n",
       "153                      NaN                 NaN             NaN   \n",
       "\n",
       "     2 Articles CGI  3 Articles CGI  4 Articles CGI  5 Articles CGI  \\\n",
       "0               NaN             NaN             NaN             NaN   \n",
       "18              NaN             NaN             NaN             NaN   \n",
       "20              NaN             NaN             NaN             NaN   \n",
       "23              NaN             NaN             NaN             NaN   \n",
       "25              NaN             NaN             NaN             NaN   \n",
       "26              NaN             NaN             NaN             NaN   \n",
       "48              NaN             NaN             NaN             NaN   \n",
       "53              NaN             NaN             NaN             NaN   \n",
       "58              NaN             NaN             NaN             NaN   \n",
       "62              NaN             NaN             NaN             NaN   \n",
       "65              NaN             NaN             NaN             NaN   \n",
       "66              NaN             NaN             NaN             NaN   \n",
       "82              NaN             NaN             NaN             NaN   \n",
       "102             NaN             NaN             NaN             NaN   \n",
       "113             NaN             NaN             NaN             NaN   \n",
       "123             NaN             NaN             NaN             NaN   \n",
       "129             NaN             NaN             NaN             NaN   \n",
       "141             NaN             NaN             NaN             NaN   \n",
       "144             NaN             NaN             NaN             NaN   \n",
       "153             NaN             NaN             NaN             NaN   \n",
       "\n",
       "     No disposition Date mutation Nature mutation  ...  Nombre de lots  \\\n",
       "0                 1    03/01/2022           Vente  ...               0   \n",
       "18                1    05/01/2022           Vente  ...               0   \n",
       "20                1    06/01/2022           Vente  ...               0   \n",
       "23                1    06/01/2022           Vente  ...               1   \n",
       "25                1    06/01/2022           Vente  ...               0   \n",
       "26                1    06/01/2022           Vente  ...               2   \n",
       "48                1    12/01/2022           Vente  ...               0   \n",
       "53                1    10/01/2022           Vente  ...               0   \n",
       "58                1    04/01/2022           Vente  ...               2   \n",
       "62                1    07/01/2022           Vente  ...               1   \n",
       "65                1    04/01/2022           Vente  ...               0   \n",
       "66                1    04/01/2022           Vente  ...               0   \n",
       "82                1    14/01/2022           Vente  ...               0   \n",
       "102               1    14/01/2022           Vente  ...               0   \n",
       "113               1    12/01/2022           Vente  ...               1   \n",
       "123               1    14/01/2022           Vente  ...               0   \n",
       "129               1    10/01/2022           Vente  ...               0   \n",
       "141               1    10/01/2022           Vente  ...               4   \n",
       "144               1    13/01/2022           Vente  ...               0   \n",
       "153               1    18/01/2022           Vente  ...               0   \n",
       "\n",
       "     Code type local   Type local Identifiant local Surface reelle bati  \\\n",
       "0                1.0       Maison               NaN                82.0   \n",
       "18               1.0       Maison               NaN               165.0   \n",
       "20               1.0       Maison               NaN                96.0   \n",
       "23               2.0  Appartement               NaN                92.0   \n",
       "25               1.0       Maison               NaN                60.0   \n",
       "26               2.0  Appartement               NaN                70.0   \n",
       "48               1.0       Maison               NaN                91.0   \n",
       "53               1.0       Maison               NaN                80.0   \n",
       "58               2.0  Appartement               NaN               105.0   \n",
       "62               2.0  Appartement               NaN               120.0   \n",
       "65               1.0       Maison               NaN                64.0   \n",
       "66               1.0       Maison               NaN               180.0   \n",
       "82               1.0       Maison               NaN                78.0   \n",
       "102              1.0       Maison               NaN               160.0   \n",
       "113              2.0  Appartement               NaN                71.0   \n",
       "123              1.0       Maison               NaN                63.0   \n",
       "129              1.0       Maison               NaN               138.0   \n",
       "141              2.0  Appartement               NaN               120.0   \n",
       "144              1.0       Maison               NaN               120.0   \n",
       "153              1.0       Maison               NaN               140.0   \n",
       "\n",
       "    Nombre pieces principales  Nature culture Nature culture speciale  \\\n",
       "0                         5.0               S                     NaN   \n",
       "18                        4.0               S                     NaN   \n",
       "20                        5.0               S                     NaN   \n",
       "23                        4.0             NaN                     NaN   \n",
       "25                        5.0               S                     NaN   \n",
       "26                        4.0             NaN                     NaN   \n",
       "48                        5.0               S                     NaN   \n",
       "53                        5.0               S                     NaN   \n",
       "58                        4.0             NaN                     NaN   \n",
       "62                        4.0             NaN                     NaN   \n",
       "65                        4.0               S                     NaN   \n",
       "66                        7.0               S                     NaN   \n",
       "82                        5.0               S                     NaN   \n",
       "102                       6.0               S                     NaN   \n",
       "113                       4.0             NaN                     NaN   \n",
       "123                       5.0               S                     NaN   \n",
       "129                       7.0               S                     NaN   \n",
       "141                       5.0             NaN                     NaN   \n",
       "144                       7.0               S                     NaN   \n",
       "153                       6.0               S                     NaN   \n",
       "\n",
       "     Surface terrain      prix_m2  \n",
       "0               70.0  2681.707317  \n",
       "18             121.0  1848.484848  \n",
       "20              99.0  2395.833333  \n",
       "23               NaN  3989.130435  \n",
       "25              32.0  1916.666667  \n",
       "26               NaN  2428.571429  \n",
       "48             176.0  2835.164835  \n",
       "53              92.0  2962.500000  \n",
       "58               NaN  3383.809524  \n",
       "62               NaN  3937.500000  \n",
       "65             127.0  3545.312500  \n",
       "66             215.0  4460.666667  \n",
       "82             216.0  5000.000000  \n",
       "102            174.0  4001.687500  \n",
       "113              NaN  3238.028169  \n",
       "123             97.0  4158.730159  \n",
       "129            123.0  2195.652174  \n",
       "141              NaN  3791.666667  \n",
       "144            121.0  6960.000000  \n",
       "153            165.0  7857.142857  \n",
       "\n",
       "[20 rows x 44 columns]"
      ],
      "text/html": [
       "<div>\n",
       "<style scoped>\n",
       "    .dataframe tbody tr th:only-of-type {\n",
       "        vertical-align: middle;\n",
       "    }\n",
       "\n",
       "    .dataframe tbody tr th {\n",
       "        vertical-align: top;\n",
       "    }\n",
       "\n",
       "    .dataframe thead th {\n",
       "        text-align: right;\n",
       "    }\n",
       "</style>\n",
       "<table border=\"1\" class=\"dataframe\">\n",
       "  <thead>\n",
       "    <tr style=\"text-align: right;\">\n",
       "      <th></th>\n",
       "      <th>Identifiant de document</th>\n",
       "      <th>Reference document</th>\n",
       "      <th>1 Articles CGI</th>\n",
       "      <th>2 Articles CGI</th>\n",
       "      <th>3 Articles CGI</th>\n",
       "      <th>4 Articles CGI</th>\n",
       "      <th>5 Articles CGI</th>\n",
       "      <th>No disposition</th>\n",
       "      <th>Date mutation</th>\n",
       "      <th>Nature mutation</th>\n",
       "      <th>...</th>\n",
       "      <th>Nombre de lots</th>\n",
       "      <th>Code type local</th>\n",
       "      <th>Type local</th>\n",
       "      <th>Identifiant local</th>\n",
       "      <th>Surface reelle bati</th>\n",
       "      <th>Nombre pieces principales</th>\n",
       "      <th>Nature culture</th>\n",
       "      <th>Nature culture speciale</th>\n",
       "      <th>Surface terrain</th>\n",
       "      <th>prix_m2</th>\n",
       "    </tr>\n",
       "  </thead>\n",
       "  <tbody>\n",
       "    <tr>\n",
       "      <th>0</th>\n",
       "      <td>NaN</td>\n",
       "      <td>NaN</td>\n",
       "      <td>NaN</td>\n",
       "      <td>NaN</td>\n",
       "      <td>NaN</td>\n",
       "      <td>NaN</td>\n",
       "      <td>NaN</td>\n",
       "      <td>1</td>\n",
       "      <td>03/01/2022</td>\n",
       "      <td>Vente</td>\n",
       "      <td>...</td>\n",
       "      <td>0</td>\n",
       "      <td>1.0</td>\n",
       "      <td>Maison</td>\n",
       "      <td>NaN</td>\n",
       "      <td>82.0</td>\n",
       "      <td>5.0</td>\n",
       "      <td>S</td>\n",
       "      <td>NaN</td>\n",
       "      <td>70.0</td>\n",
       "      <td>2681.707317</td>\n",
       "    </tr>\n",
       "    <tr>\n",
       "      <th>18</th>\n",
       "      <td>NaN</td>\n",
       "      <td>NaN</td>\n",
       "      <td>NaN</td>\n",
       "      <td>NaN</td>\n",
       "      <td>NaN</td>\n",
       "      <td>NaN</td>\n",
       "      <td>NaN</td>\n",
       "      <td>1</td>\n",
       "      <td>05/01/2022</td>\n",
       "      <td>Vente</td>\n",
       "      <td>...</td>\n",
       "      <td>0</td>\n",
       "      <td>1.0</td>\n",
       "      <td>Maison</td>\n",
       "      <td>NaN</td>\n",
       "      <td>165.0</td>\n",
       "      <td>4.0</td>\n",
       "      <td>S</td>\n",
       "      <td>NaN</td>\n",
       "      <td>121.0</td>\n",
       "      <td>1848.484848</td>\n",
       "    </tr>\n",
       "    <tr>\n",
       "      <th>20</th>\n",
       "      <td>NaN</td>\n",
       "      <td>NaN</td>\n",
       "      <td>NaN</td>\n",
       "      <td>NaN</td>\n",
       "      <td>NaN</td>\n",
       "      <td>NaN</td>\n",
       "      <td>NaN</td>\n",
       "      <td>1</td>\n",
       "      <td>06/01/2022</td>\n",
       "      <td>Vente</td>\n",
       "      <td>...</td>\n",
       "      <td>0</td>\n",
       "      <td>1.0</td>\n",
       "      <td>Maison</td>\n",
       "      <td>NaN</td>\n",
       "      <td>96.0</td>\n",
       "      <td>5.0</td>\n",
       "      <td>S</td>\n",
       "      <td>NaN</td>\n",
       "      <td>99.0</td>\n",
       "      <td>2395.833333</td>\n",
       "    </tr>\n",
       "    <tr>\n",
       "      <th>23</th>\n",
       "      <td>NaN</td>\n",
       "      <td>NaN</td>\n",
       "      <td>NaN</td>\n",
       "      <td>NaN</td>\n",
       "      <td>NaN</td>\n",
       "      <td>NaN</td>\n",
       "      <td>NaN</td>\n",
       "      <td>1</td>\n",
       "      <td>06/01/2022</td>\n",
       "      <td>Vente</td>\n",
       "      <td>...</td>\n",
       "      <td>1</td>\n",
       "      <td>2.0</td>\n",
       "      <td>Appartement</td>\n",
       "      <td>NaN</td>\n",
       "      <td>92.0</td>\n",
       "      <td>4.0</td>\n",
       "      <td>NaN</td>\n",
       "      <td>NaN</td>\n",
       "      <td>NaN</td>\n",
       "      <td>3989.130435</td>\n",
       "    </tr>\n",
       "    <tr>\n",
       "      <th>25</th>\n",
       "      <td>NaN</td>\n",
       "      <td>NaN</td>\n",
       "      <td>NaN</td>\n",
       "      <td>NaN</td>\n",
       "      <td>NaN</td>\n",
       "      <td>NaN</td>\n",
       "      <td>NaN</td>\n",
       "      <td>1</td>\n",
       "      <td>06/01/2022</td>\n",
       "      <td>Vente</td>\n",
       "      <td>...</td>\n",
       "      <td>0</td>\n",
       "      <td>1.0</td>\n",
       "      <td>Maison</td>\n",
       "      <td>NaN</td>\n",
       "      <td>60.0</td>\n",
       "      <td>5.0</td>\n",
       "      <td>S</td>\n",
       "      <td>NaN</td>\n",
       "      <td>32.0</td>\n",
       "      <td>1916.666667</td>\n",
       "    </tr>\n",
       "    <tr>\n",
       "      <th>26</th>\n",
       "      <td>NaN</td>\n",
       "      <td>NaN</td>\n",
       "      <td>NaN</td>\n",
       "      <td>NaN</td>\n",
       "      <td>NaN</td>\n",
       "      <td>NaN</td>\n",
       "      <td>NaN</td>\n",
       "      <td>1</td>\n",
       "      <td>06/01/2022</td>\n",
       "      <td>Vente</td>\n",
       "      <td>...</td>\n",
       "      <td>2</td>\n",
       "      <td>2.0</td>\n",
       "      <td>Appartement</td>\n",
       "      <td>NaN</td>\n",
       "      <td>70.0</td>\n",
       "      <td>4.0</td>\n",
       "      <td>NaN</td>\n",
       "      <td>NaN</td>\n",
       "      <td>NaN</td>\n",
       "      <td>2428.571429</td>\n",
       "    </tr>\n",
       "    <tr>\n",
       "      <th>48</th>\n",
       "      <td>NaN</td>\n",
       "      <td>NaN</td>\n",
       "      <td>NaN</td>\n",
       "      <td>NaN</td>\n",
       "      <td>NaN</td>\n",
       "      <td>NaN</td>\n",
       "      <td>NaN</td>\n",
       "      <td>1</td>\n",
       "      <td>12/01/2022</td>\n",
       "      <td>Vente</td>\n",
       "      <td>...</td>\n",
       "      <td>0</td>\n",
       "      <td>1.0</td>\n",
       "      <td>Maison</td>\n",
       "      <td>NaN</td>\n",
       "      <td>91.0</td>\n",
       "      <td>5.0</td>\n",
       "      <td>S</td>\n",
       "      <td>NaN</td>\n",
       "      <td>176.0</td>\n",
       "      <td>2835.164835</td>\n",
       "    </tr>\n",
       "    <tr>\n",
       "      <th>53</th>\n",
       "      <td>NaN</td>\n",
       "      <td>NaN</td>\n",
       "      <td>NaN</td>\n",
       "      <td>NaN</td>\n",
       "      <td>NaN</td>\n",
       "      <td>NaN</td>\n",
       "      <td>NaN</td>\n",
       "      <td>1</td>\n",
       "      <td>10/01/2022</td>\n",
       "      <td>Vente</td>\n",
       "      <td>...</td>\n",
       "      <td>0</td>\n",
       "      <td>1.0</td>\n",
       "      <td>Maison</td>\n",
       "      <td>NaN</td>\n",
       "      <td>80.0</td>\n",
       "      <td>5.0</td>\n",
       "      <td>S</td>\n",
       "      <td>NaN</td>\n",
       "      <td>92.0</td>\n",
       "      <td>2962.500000</td>\n",
       "    </tr>\n",
       "    <tr>\n",
       "      <th>58</th>\n",
       "      <td>NaN</td>\n",
       "      <td>NaN</td>\n",
       "      <td>NaN</td>\n",
       "      <td>NaN</td>\n",
       "      <td>NaN</td>\n",
       "      <td>NaN</td>\n",
       "      <td>NaN</td>\n",
       "      <td>1</td>\n",
       "      <td>04/01/2022</td>\n",
       "      <td>Vente</td>\n",
       "      <td>...</td>\n",
       "      <td>2</td>\n",
       "      <td>2.0</td>\n",
       "      <td>Appartement</td>\n",
       "      <td>NaN</td>\n",
       "      <td>105.0</td>\n",
       "      <td>4.0</td>\n",
       "      <td>NaN</td>\n",
       "      <td>NaN</td>\n",
       "      <td>NaN</td>\n",
       "      <td>3383.809524</td>\n",
       "    </tr>\n",
       "    <tr>\n",
       "      <th>62</th>\n",
       "      <td>NaN</td>\n",
       "      <td>NaN</td>\n",
       "      <td>NaN</td>\n",
       "      <td>NaN</td>\n",
       "      <td>NaN</td>\n",
       "      <td>NaN</td>\n",
       "      <td>NaN</td>\n",
       "      <td>1</td>\n",
       "      <td>07/01/2022</td>\n",
       "      <td>Vente</td>\n",
       "      <td>...</td>\n",
       "      <td>1</td>\n",
       "      <td>2.0</td>\n",
       "      <td>Appartement</td>\n",
       "      <td>NaN</td>\n",
       "      <td>120.0</td>\n",
       "      <td>4.0</td>\n",
       "      <td>NaN</td>\n",
       "      <td>NaN</td>\n",
       "      <td>NaN</td>\n",
       "      <td>3937.500000</td>\n",
       "    </tr>\n",
       "    <tr>\n",
       "      <th>65</th>\n",
       "      <td>NaN</td>\n",
       "      <td>NaN</td>\n",
       "      <td>NaN</td>\n",
       "      <td>NaN</td>\n",
       "      <td>NaN</td>\n",
       "      <td>NaN</td>\n",
       "      <td>NaN</td>\n",
       "      <td>1</td>\n",
       "      <td>04/01/2022</td>\n",
       "      <td>Vente</td>\n",
       "      <td>...</td>\n",
       "      <td>0</td>\n",
       "      <td>1.0</td>\n",
       "      <td>Maison</td>\n",
       "      <td>NaN</td>\n",
       "      <td>64.0</td>\n",
       "      <td>4.0</td>\n",
       "      <td>S</td>\n",
       "      <td>NaN</td>\n",
       "      <td>127.0</td>\n",
       "      <td>3545.312500</td>\n",
       "    </tr>\n",
       "    <tr>\n",
       "      <th>66</th>\n",
       "      <td>NaN</td>\n",
       "      <td>NaN</td>\n",
       "      <td>NaN</td>\n",
       "      <td>NaN</td>\n",
       "      <td>NaN</td>\n",
       "      <td>NaN</td>\n",
       "      <td>NaN</td>\n",
       "      <td>1</td>\n",
       "      <td>04/01/2022</td>\n",
       "      <td>Vente</td>\n",
       "      <td>...</td>\n",
       "      <td>0</td>\n",
       "      <td>1.0</td>\n",
       "      <td>Maison</td>\n",
       "      <td>NaN</td>\n",
       "      <td>180.0</td>\n",
       "      <td>7.0</td>\n",
       "      <td>S</td>\n",
       "      <td>NaN</td>\n",
       "      <td>215.0</td>\n",
       "      <td>4460.666667</td>\n",
       "    </tr>\n",
       "    <tr>\n",
       "      <th>82</th>\n",
       "      <td>NaN</td>\n",
       "      <td>NaN</td>\n",
       "      <td>NaN</td>\n",
       "      <td>NaN</td>\n",
       "      <td>NaN</td>\n",
       "      <td>NaN</td>\n",
       "      <td>NaN</td>\n",
       "      <td>1</td>\n",
       "      <td>14/01/2022</td>\n",
       "      <td>Vente</td>\n",
       "      <td>...</td>\n",
       "      <td>0</td>\n",
       "      <td>1.0</td>\n",
       "      <td>Maison</td>\n",
       "      <td>NaN</td>\n",
       "      <td>78.0</td>\n",
       "      <td>5.0</td>\n",
       "      <td>S</td>\n",
       "      <td>NaN</td>\n",
       "      <td>216.0</td>\n",
       "      <td>5000.000000</td>\n",
       "    </tr>\n",
       "    <tr>\n",
       "      <th>102</th>\n",
       "      <td>NaN</td>\n",
       "      <td>NaN</td>\n",
       "      <td>NaN</td>\n",
       "      <td>NaN</td>\n",
       "      <td>NaN</td>\n",
       "      <td>NaN</td>\n",
       "      <td>NaN</td>\n",
       "      <td>1</td>\n",
       "      <td>14/01/2022</td>\n",
       "      <td>Vente</td>\n",
       "      <td>...</td>\n",
       "      <td>0</td>\n",
       "      <td>1.0</td>\n",
       "      <td>Maison</td>\n",
       "      <td>NaN</td>\n",
       "      <td>160.0</td>\n",
       "      <td>6.0</td>\n",
       "      <td>S</td>\n",
       "      <td>NaN</td>\n",
       "      <td>174.0</td>\n",
       "      <td>4001.687500</td>\n",
       "    </tr>\n",
       "    <tr>\n",
       "      <th>113</th>\n",
       "      <td>NaN</td>\n",
       "      <td>NaN</td>\n",
       "      <td>NaN</td>\n",
       "      <td>NaN</td>\n",
       "      <td>NaN</td>\n",
       "      <td>NaN</td>\n",
       "      <td>NaN</td>\n",
       "      <td>1</td>\n",
       "      <td>12/01/2022</td>\n",
       "      <td>Vente</td>\n",
       "      <td>...</td>\n",
       "      <td>1</td>\n",
       "      <td>2.0</td>\n",
       "      <td>Appartement</td>\n",
       "      <td>NaN</td>\n",
       "      <td>71.0</td>\n",
       "      <td>4.0</td>\n",
       "      <td>NaN</td>\n",
       "      <td>NaN</td>\n",
       "      <td>NaN</td>\n",
       "      <td>3238.028169</td>\n",
       "    </tr>\n",
       "    <tr>\n",
       "      <th>123</th>\n",
       "      <td>NaN</td>\n",
       "      <td>NaN</td>\n",
       "      <td>NaN</td>\n",
       "      <td>NaN</td>\n",
       "      <td>NaN</td>\n",
       "      <td>NaN</td>\n",
       "      <td>NaN</td>\n",
       "      <td>1</td>\n",
       "      <td>14/01/2022</td>\n",
       "      <td>Vente</td>\n",
       "      <td>...</td>\n",
       "      <td>0</td>\n",
       "      <td>1.0</td>\n",
       "      <td>Maison</td>\n",
       "      <td>NaN</td>\n",
       "      <td>63.0</td>\n",
       "      <td>5.0</td>\n",
       "      <td>S</td>\n",
       "      <td>NaN</td>\n",
       "      <td>97.0</td>\n",
       "      <td>4158.730159</td>\n",
       "    </tr>\n",
       "    <tr>\n",
       "      <th>129</th>\n",
       "      <td>NaN</td>\n",
       "      <td>NaN</td>\n",
       "      <td>NaN</td>\n",
       "      <td>NaN</td>\n",
       "      <td>NaN</td>\n",
       "      <td>NaN</td>\n",
       "      <td>NaN</td>\n",
       "      <td>1</td>\n",
       "      <td>10/01/2022</td>\n",
       "      <td>Vente</td>\n",
       "      <td>...</td>\n",
       "      <td>0</td>\n",
       "      <td>1.0</td>\n",
       "      <td>Maison</td>\n",
       "      <td>NaN</td>\n",
       "      <td>138.0</td>\n",
       "      <td>7.0</td>\n",
       "      <td>S</td>\n",
       "      <td>NaN</td>\n",
       "      <td>123.0</td>\n",
       "      <td>2195.652174</td>\n",
       "    </tr>\n",
       "    <tr>\n",
       "      <th>141</th>\n",
       "      <td>NaN</td>\n",
       "      <td>NaN</td>\n",
       "      <td>NaN</td>\n",
       "      <td>NaN</td>\n",
       "      <td>NaN</td>\n",
       "      <td>NaN</td>\n",
       "      <td>NaN</td>\n",
       "      <td>1</td>\n",
       "      <td>10/01/2022</td>\n",
       "      <td>Vente</td>\n",
       "      <td>...</td>\n",
       "      <td>4</td>\n",
       "      <td>2.0</td>\n",
       "      <td>Appartement</td>\n",
       "      <td>NaN</td>\n",
       "      <td>120.0</td>\n",
       "      <td>5.0</td>\n",
       "      <td>NaN</td>\n",
       "      <td>NaN</td>\n",
       "      <td>NaN</td>\n",
       "      <td>3791.666667</td>\n",
       "    </tr>\n",
       "    <tr>\n",
       "      <th>144</th>\n",
       "      <td>NaN</td>\n",
       "      <td>NaN</td>\n",
       "      <td>NaN</td>\n",
       "      <td>NaN</td>\n",
       "      <td>NaN</td>\n",
       "      <td>NaN</td>\n",
       "      <td>NaN</td>\n",
       "      <td>1</td>\n",
       "      <td>13/01/2022</td>\n",
       "      <td>Vente</td>\n",
       "      <td>...</td>\n",
       "      <td>0</td>\n",
       "      <td>1.0</td>\n",
       "      <td>Maison</td>\n",
       "      <td>NaN</td>\n",
       "      <td>120.0</td>\n",
       "      <td>7.0</td>\n",
       "      <td>S</td>\n",
       "      <td>NaN</td>\n",
       "      <td>121.0</td>\n",
       "      <td>6960.000000</td>\n",
       "    </tr>\n",
       "    <tr>\n",
       "      <th>153</th>\n",
       "      <td>NaN</td>\n",
       "      <td>NaN</td>\n",
       "      <td>NaN</td>\n",
       "      <td>NaN</td>\n",
       "      <td>NaN</td>\n",
       "      <td>NaN</td>\n",
       "      <td>NaN</td>\n",
       "      <td>1</td>\n",
       "      <td>18/01/2022</td>\n",
       "      <td>Vente</td>\n",
       "      <td>...</td>\n",
       "      <td>0</td>\n",
       "      <td>1.0</td>\n",
       "      <td>Maison</td>\n",
       "      <td>NaN</td>\n",
       "      <td>140.0</td>\n",
       "      <td>6.0</td>\n",
       "      <td>S</td>\n",
       "      <td>NaN</td>\n",
       "      <td>165.0</td>\n",
       "      <td>7857.142857</td>\n",
       "    </tr>\n",
       "  </tbody>\n",
       "</table>\n",
       "<p>20 rows × 44 columns</p>\n",
       "</div>"
      ]
     },
     "execution_count": 8,
     "metadata": {},
     "output_type": "execute_result"
    }
   ],
   "execution_count": 8
  },
  {
   "metadata": {
    "ExecuteTime": {
     "end_time": "2025-06-23T10:28:41.877913Z",
     "start_time": "2025-06-23T10:28:41.874988Z"
    }
   },
   "cell_type": "code",
   "source": [
    "df_appartements = df[df[\"Type local\"] == \"Appartement\"]\n",
    "df_appartements.shape[0]"
   ],
   "id": "c2f39dc745d737c7",
   "outputs": [
    {
     "data": {
      "text/plain": [
       "561"
      ]
     },
     "execution_count": 9,
     "metadata": {},
     "output_type": "execute_result"
    }
   ],
   "execution_count": 9
  },
  {
   "metadata": {
    "ExecuteTime": {
     "end_time": "2025-06-23T10:28:42.395031Z",
     "start_time": "2025-06-23T10:28:42.392087Z"
    }
   },
   "cell_type": "code",
   "source": [
    "df_maisons = df[df[\"Type local\"] == \"Maison\"]\n",
    "df_maisons.shape[0]"
   ],
   "id": "424dafbe94e6e6e6",
   "outputs": [
    {
     "data": {
      "text/plain": [
       "818"
      ]
     },
     "execution_count": 10,
     "metadata": {},
     "output_type": "execute_result"
    }
   ],
   "execution_count": 10
  },
  {
   "metadata": {
    "ExecuteTime": {
     "end_time": "2025-06-23T10:28:43.185290Z",
     "start_time": "2025-06-23T10:28:43.178942Z"
    }
   },
   "cell_type": "code",
   "source": [
    "df_appartements = df_appartements[[\"Surface reelle bati\", \"Nombre pieces principales\", \"Type local\", \"Surface terrain\", \"Nombre de lots\", \"Valeur fonciere\", \"prix_m2\"]]\n",
    "df_appartements.head(25)\n"
   ],
   "id": "9f776d48a6b13367",
   "outputs": [
    {
     "data": {
      "text/plain": [
       "     Surface reelle bati  Nombre pieces principales   Type local  \\\n",
       "23                  92.0                        4.0  Appartement   \n",
       "26                  70.0                        4.0  Appartement   \n",
       "58                 105.0                        4.0  Appartement   \n",
       "62                 120.0                        4.0  Appartement   \n",
       "113                 71.0                        4.0  Appartement   \n",
       "141                120.0                        5.0  Appartement   \n",
       "156                149.0                        5.0  Appartement   \n",
       "169                142.0                        6.0  Appartement   \n",
       "224                128.0                        5.0  Appartement   \n",
       "245                 76.0                        4.0  Appartement   \n",
       "266                 91.0                        4.0  Appartement   \n",
       "272                146.0                        4.0  Appartement   \n",
       "277                 84.0                        4.0  Appartement   \n",
       "327                100.0                        4.0  Appartement   \n",
       "339                 85.0                        4.0  Appartement   \n",
       "390                132.0                        5.0  Appartement   \n",
       "394                116.0                        4.0  Appartement   \n",
       "439                 71.0                        4.0  Appartement   \n",
       "445                 88.0                        4.0  Appartement   \n",
       "494                 71.0                        4.0  Appartement   \n",
       "503                116.0                        4.0  Appartement   \n",
       "509                 94.0                        4.0  Appartement   \n",
       "528                100.0                        4.0  Appartement   \n",
       "543                110.0                        4.0  Appartement   \n",
       "572                 65.0                        4.0  Appartement   \n",
       "\n",
       "     Surface terrain  Nombre de lots  Valeur fonciere      prix_m2  \n",
       "23               NaN               1         367000.0  3989.130435  \n",
       "26               NaN               2         170000.0  2428.571429  \n",
       "58               NaN               2         355300.0  3383.809524  \n",
       "62               NaN               1         472500.0  3937.500000  \n",
       "113              NaN               1         229900.0  3238.028169  \n",
       "141              NaN               4         455000.0  3791.666667  \n",
       "156              NaN               1         595250.0  3994.966443  \n",
       "169              NaN               1              1.0     0.007042  \n",
       "224              NaN               2         426300.0  3330.468750  \n",
       "245              NaN               2         205000.0  2697.368421  \n",
       "266              NaN               1         212770.0  2338.131868  \n",
       "272              NaN               1         558000.0  3821.917808  \n",
       "277              NaN               1         225000.0  2678.571429  \n",
       "327              NaN               1         389200.0  3892.000000  \n",
       "339              NaN               1         368587.0  4336.317647  \n",
       "390              NaN               1         710000.0  5378.787879  \n",
       "394            155.0               0         170000.0  1465.517241  \n",
       "439              NaN               1         160000.0  2253.521127  \n",
       "445              NaN               2         295000.0  3352.272727  \n",
       "494              NaN               2         242000.0  3408.450704  \n",
       "503              NaN               1         491780.0  4239.482759  \n",
       "509              NaN               1         420000.0  4468.085106  \n",
       "528              NaN               1         302500.0  3025.000000  \n",
       "543              NaN               2         344000.0  3127.272727  \n",
       "572              NaN               2         185000.0  2846.153846  "
      ],
      "text/html": [
       "<div>\n",
       "<style scoped>\n",
       "    .dataframe tbody tr th:only-of-type {\n",
       "        vertical-align: middle;\n",
       "    }\n",
       "\n",
       "    .dataframe tbody tr th {\n",
       "        vertical-align: top;\n",
       "    }\n",
       "\n",
       "    .dataframe thead th {\n",
       "        text-align: right;\n",
       "    }\n",
       "</style>\n",
       "<table border=\"1\" class=\"dataframe\">\n",
       "  <thead>\n",
       "    <tr style=\"text-align: right;\">\n",
       "      <th></th>\n",
       "      <th>Surface reelle bati</th>\n",
       "      <th>Nombre pieces principales</th>\n",
       "      <th>Type local</th>\n",
       "      <th>Surface terrain</th>\n",
       "      <th>Nombre de lots</th>\n",
       "      <th>Valeur fonciere</th>\n",
       "      <th>prix_m2</th>\n",
       "    </tr>\n",
       "  </thead>\n",
       "  <tbody>\n",
       "    <tr>\n",
       "      <th>23</th>\n",
       "      <td>92.0</td>\n",
       "      <td>4.0</td>\n",
       "      <td>Appartement</td>\n",
       "      <td>NaN</td>\n",
       "      <td>1</td>\n",
       "      <td>367000.0</td>\n",
       "      <td>3989.130435</td>\n",
       "    </tr>\n",
       "    <tr>\n",
       "      <th>26</th>\n",
       "      <td>70.0</td>\n",
       "      <td>4.0</td>\n",
       "      <td>Appartement</td>\n",
       "      <td>NaN</td>\n",
       "      <td>2</td>\n",
       "      <td>170000.0</td>\n",
       "      <td>2428.571429</td>\n",
       "    </tr>\n",
       "    <tr>\n",
       "      <th>58</th>\n",
       "      <td>105.0</td>\n",
       "      <td>4.0</td>\n",
       "      <td>Appartement</td>\n",
       "      <td>NaN</td>\n",
       "      <td>2</td>\n",
       "      <td>355300.0</td>\n",
       "      <td>3383.809524</td>\n",
       "    </tr>\n",
       "    <tr>\n",
       "      <th>62</th>\n",
       "      <td>120.0</td>\n",
       "      <td>4.0</td>\n",
       "      <td>Appartement</td>\n",
       "      <td>NaN</td>\n",
       "      <td>1</td>\n",
       "      <td>472500.0</td>\n",
       "      <td>3937.500000</td>\n",
       "    </tr>\n",
       "    <tr>\n",
       "      <th>113</th>\n",
       "      <td>71.0</td>\n",
       "      <td>4.0</td>\n",
       "      <td>Appartement</td>\n",
       "      <td>NaN</td>\n",
       "      <td>1</td>\n",
       "      <td>229900.0</td>\n",
       "      <td>3238.028169</td>\n",
       "    </tr>\n",
       "    <tr>\n",
       "      <th>141</th>\n",
       "      <td>120.0</td>\n",
       "      <td>5.0</td>\n",
       "      <td>Appartement</td>\n",
       "      <td>NaN</td>\n",
       "      <td>4</td>\n",
       "      <td>455000.0</td>\n",
       "      <td>3791.666667</td>\n",
       "    </tr>\n",
       "    <tr>\n",
       "      <th>156</th>\n",
       "      <td>149.0</td>\n",
       "      <td>5.0</td>\n",
       "      <td>Appartement</td>\n",
       "      <td>NaN</td>\n",
       "      <td>1</td>\n",
       "      <td>595250.0</td>\n",
       "      <td>3994.966443</td>\n",
       "    </tr>\n",
       "    <tr>\n",
       "      <th>169</th>\n",
       "      <td>142.0</td>\n",
       "      <td>6.0</td>\n",
       "      <td>Appartement</td>\n",
       "      <td>NaN</td>\n",
       "      <td>1</td>\n",
       "      <td>1.0</td>\n",
       "      <td>0.007042</td>\n",
       "    </tr>\n",
       "    <tr>\n",
       "      <th>224</th>\n",
       "      <td>128.0</td>\n",
       "      <td>5.0</td>\n",
       "      <td>Appartement</td>\n",
       "      <td>NaN</td>\n",
       "      <td>2</td>\n",
       "      <td>426300.0</td>\n",
       "      <td>3330.468750</td>\n",
       "    </tr>\n",
       "    <tr>\n",
       "      <th>245</th>\n",
       "      <td>76.0</td>\n",
       "      <td>4.0</td>\n",
       "      <td>Appartement</td>\n",
       "      <td>NaN</td>\n",
       "      <td>2</td>\n",
       "      <td>205000.0</td>\n",
       "      <td>2697.368421</td>\n",
       "    </tr>\n",
       "    <tr>\n",
       "      <th>266</th>\n",
       "      <td>91.0</td>\n",
       "      <td>4.0</td>\n",
       "      <td>Appartement</td>\n",
       "      <td>NaN</td>\n",
       "      <td>1</td>\n",
       "      <td>212770.0</td>\n",
       "      <td>2338.131868</td>\n",
       "    </tr>\n",
       "    <tr>\n",
       "      <th>272</th>\n",
       "      <td>146.0</td>\n",
       "      <td>4.0</td>\n",
       "      <td>Appartement</td>\n",
       "      <td>NaN</td>\n",
       "      <td>1</td>\n",
       "      <td>558000.0</td>\n",
       "      <td>3821.917808</td>\n",
       "    </tr>\n",
       "    <tr>\n",
       "      <th>277</th>\n",
       "      <td>84.0</td>\n",
       "      <td>4.0</td>\n",
       "      <td>Appartement</td>\n",
       "      <td>NaN</td>\n",
       "      <td>1</td>\n",
       "      <td>225000.0</td>\n",
       "      <td>2678.571429</td>\n",
       "    </tr>\n",
       "    <tr>\n",
       "      <th>327</th>\n",
       "      <td>100.0</td>\n",
       "      <td>4.0</td>\n",
       "      <td>Appartement</td>\n",
       "      <td>NaN</td>\n",
       "      <td>1</td>\n",
       "      <td>389200.0</td>\n",
       "      <td>3892.000000</td>\n",
       "    </tr>\n",
       "    <tr>\n",
       "      <th>339</th>\n",
       "      <td>85.0</td>\n",
       "      <td>4.0</td>\n",
       "      <td>Appartement</td>\n",
       "      <td>NaN</td>\n",
       "      <td>1</td>\n",
       "      <td>368587.0</td>\n",
       "      <td>4336.317647</td>\n",
       "    </tr>\n",
       "    <tr>\n",
       "      <th>390</th>\n",
       "      <td>132.0</td>\n",
       "      <td>5.0</td>\n",
       "      <td>Appartement</td>\n",
       "      <td>NaN</td>\n",
       "      <td>1</td>\n",
       "      <td>710000.0</td>\n",
       "      <td>5378.787879</td>\n",
       "    </tr>\n",
       "    <tr>\n",
       "      <th>394</th>\n",
       "      <td>116.0</td>\n",
       "      <td>4.0</td>\n",
       "      <td>Appartement</td>\n",
       "      <td>155.0</td>\n",
       "      <td>0</td>\n",
       "      <td>170000.0</td>\n",
       "      <td>1465.517241</td>\n",
       "    </tr>\n",
       "    <tr>\n",
       "      <th>439</th>\n",
       "      <td>71.0</td>\n",
       "      <td>4.0</td>\n",
       "      <td>Appartement</td>\n",
       "      <td>NaN</td>\n",
       "      <td>1</td>\n",
       "      <td>160000.0</td>\n",
       "      <td>2253.521127</td>\n",
       "    </tr>\n",
       "    <tr>\n",
       "      <th>445</th>\n",
       "      <td>88.0</td>\n",
       "      <td>4.0</td>\n",
       "      <td>Appartement</td>\n",
       "      <td>NaN</td>\n",
       "      <td>2</td>\n",
       "      <td>295000.0</td>\n",
       "      <td>3352.272727</td>\n",
       "    </tr>\n",
       "    <tr>\n",
       "      <th>494</th>\n",
       "      <td>71.0</td>\n",
       "      <td>4.0</td>\n",
       "      <td>Appartement</td>\n",
       "      <td>NaN</td>\n",
       "      <td>2</td>\n",
       "      <td>242000.0</td>\n",
       "      <td>3408.450704</td>\n",
       "    </tr>\n",
       "    <tr>\n",
       "      <th>503</th>\n",
       "      <td>116.0</td>\n",
       "      <td>4.0</td>\n",
       "      <td>Appartement</td>\n",
       "      <td>NaN</td>\n",
       "      <td>1</td>\n",
       "      <td>491780.0</td>\n",
       "      <td>4239.482759</td>\n",
       "    </tr>\n",
       "    <tr>\n",
       "      <th>509</th>\n",
       "      <td>94.0</td>\n",
       "      <td>4.0</td>\n",
       "      <td>Appartement</td>\n",
       "      <td>NaN</td>\n",
       "      <td>1</td>\n",
       "      <td>420000.0</td>\n",
       "      <td>4468.085106</td>\n",
       "    </tr>\n",
       "    <tr>\n",
       "      <th>528</th>\n",
       "      <td>100.0</td>\n",
       "      <td>4.0</td>\n",
       "      <td>Appartement</td>\n",
       "      <td>NaN</td>\n",
       "      <td>1</td>\n",
       "      <td>302500.0</td>\n",
       "      <td>3025.000000</td>\n",
       "    </tr>\n",
       "    <tr>\n",
       "      <th>543</th>\n",
       "      <td>110.0</td>\n",
       "      <td>4.0</td>\n",
       "      <td>Appartement</td>\n",
       "      <td>NaN</td>\n",
       "      <td>2</td>\n",
       "      <td>344000.0</td>\n",
       "      <td>3127.272727</td>\n",
       "    </tr>\n",
       "    <tr>\n",
       "      <th>572</th>\n",
       "      <td>65.0</td>\n",
       "      <td>4.0</td>\n",
       "      <td>Appartement</td>\n",
       "      <td>NaN</td>\n",
       "      <td>2</td>\n",
       "      <td>185000.0</td>\n",
       "      <td>2846.153846</td>\n",
       "    </tr>\n",
       "  </tbody>\n",
       "</table>\n",
       "</div>"
      ]
     },
     "execution_count": 11,
     "metadata": {},
     "output_type": "execute_result"
    }
   ],
   "execution_count": 11
  },
  {
   "metadata": {
    "ExecuteTime": {
     "end_time": "2025-06-23T10:28:47.624669Z",
     "start_time": "2025-06-23T10:28:47.618303Z"
    }
   },
   "cell_type": "code",
   "source": [
    "df_maisons = df_appartements[[\"Surface reelle bati\", \"Nombre pieces principales\", \"Type local\", \"Surface terrain\", \"Nombre de lots\", \"Valeur fonciere\", \"prix_m2\"]]\n",
    "df_maisons.head(25)"
   ],
   "id": "ba55a684112273bc",
   "outputs": [
    {
     "data": {
      "text/plain": [
       "     Surface reelle bati  Nombre pieces principales   Type local  \\\n",
       "23                  92.0                        4.0  Appartement   \n",
       "26                  70.0                        4.0  Appartement   \n",
       "58                 105.0                        4.0  Appartement   \n",
       "62                 120.0                        4.0  Appartement   \n",
       "113                 71.0                        4.0  Appartement   \n",
       "141                120.0                        5.0  Appartement   \n",
       "156                149.0                        5.0  Appartement   \n",
       "169                142.0                        6.0  Appartement   \n",
       "224                128.0                        5.0  Appartement   \n",
       "245                 76.0                        4.0  Appartement   \n",
       "266                 91.0                        4.0  Appartement   \n",
       "272                146.0                        4.0  Appartement   \n",
       "277                 84.0                        4.0  Appartement   \n",
       "327                100.0                        4.0  Appartement   \n",
       "339                 85.0                        4.0  Appartement   \n",
       "390                132.0                        5.0  Appartement   \n",
       "394                116.0                        4.0  Appartement   \n",
       "439                 71.0                        4.0  Appartement   \n",
       "445                 88.0                        4.0  Appartement   \n",
       "494                 71.0                        4.0  Appartement   \n",
       "503                116.0                        4.0  Appartement   \n",
       "509                 94.0                        4.0  Appartement   \n",
       "528                100.0                        4.0  Appartement   \n",
       "543                110.0                        4.0  Appartement   \n",
       "572                 65.0                        4.0  Appartement   \n",
       "\n",
       "     Surface terrain  Nombre de lots  Valeur fonciere      prix_m2  \n",
       "23               NaN               1         367000.0  3989.130435  \n",
       "26               NaN               2         170000.0  2428.571429  \n",
       "58               NaN               2         355300.0  3383.809524  \n",
       "62               NaN               1         472500.0  3937.500000  \n",
       "113              NaN               1         229900.0  3238.028169  \n",
       "141              NaN               4         455000.0  3791.666667  \n",
       "156              NaN               1         595250.0  3994.966443  \n",
       "169              NaN               1              1.0     0.007042  \n",
       "224              NaN               2         426300.0  3330.468750  \n",
       "245              NaN               2         205000.0  2697.368421  \n",
       "266              NaN               1         212770.0  2338.131868  \n",
       "272              NaN               1         558000.0  3821.917808  \n",
       "277              NaN               1         225000.0  2678.571429  \n",
       "327              NaN               1         389200.0  3892.000000  \n",
       "339              NaN               1         368587.0  4336.317647  \n",
       "390              NaN               1         710000.0  5378.787879  \n",
       "394            155.0               0         170000.0  1465.517241  \n",
       "439              NaN               1         160000.0  2253.521127  \n",
       "445              NaN               2         295000.0  3352.272727  \n",
       "494              NaN               2         242000.0  3408.450704  \n",
       "503              NaN               1         491780.0  4239.482759  \n",
       "509              NaN               1         420000.0  4468.085106  \n",
       "528              NaN               1         302500.0  3025.000000  \n",
       "543              NaN               2         344000.0  3127.272727  \n",
       "572              NaN               2         185000.0  2846.153846  "
      ],
      "text/html": [
       "<div>\n",
       "<style scoped>\n",
       "    .dataframe tbody tr th:only-of-type {\n",
       "        vertical-align: middle;\n",
       "    }\n",
       "\n",
       "    .dataframe tbody tr th {\n",
       "        vertical-align: top;\n",
       "    }\n",
       "\n",
       "    .dataframe thead th {\n",
       "        text-align: right;\n",
       "    }\n",
       "</style>\n",
       "<table border=\"1\" class=\"dataframe\">\n",
       "  <thead>\n",
       "    <tr style=\"text-align: right;\">\n",
       "      <th></th>\n",
       "      <th>Surface reelle bati</th>\n",
       "      <th>Nombre pieces principales</th>\n",
       "      <th>Type local</th>\n",
       "      <th>Surface terrain</th>\n",
       "      <th>Nombre de lots</th>\n",
       "      <th>Valeur fonciere</th>\n",
       "      <th>prix_m2</th>\n",
       "    </tr>\n",
       "  </thead>\n",
       "  <tbody>\n",
       "    <tr>\n",
       "      <th>23</th>\n",
       "      <td>92.0</td>\n",
       "      <td>4.0</td>\n",
       "      <td>Appartement</td>\n",
       "      <td>NaN</td>\n",
       "      <td>1</td>\n",
       "      <td>367000.0</td>\n",
       "      <td>3989.130435</td>\n",
       "    </tr>\n",
       "    <tr>\n",
       "      <th>26</th>\n",
       "      <td>70.0</td>\n",
       "      <td>4.0</td>\n",
       "      <td>Appartement</td>\n",
       "      <td>NaN</td>\n",
       "      <td>2</td>\n",
       "      <td>170000.0</td>\n",
       "      <td>2428.571429</td>\n",
       "    </tr>\n",
       "    <tr>\n",
       "      <th>58</th>\n",
       "      <td>105.0</td>\n",
       "      <td>4.0</td>\n",
       "      <td>Appartement</td>\n",
       "      <td>NaN</td>\n",
       "      <td>2</td>\n",
       "      <td>355300.0</td>\n",
       "      <td>3383.809524</td>\n",
       "    </tr>\n",
       "    <tr>\n",
       "      <th>62</th>\n",
       "      <td>120.0</td>\n",
       "      <td>4.0</td>\n",
       "      <td>Appartement</td>\n",
       "      <td>NaN</td>\n",
       "      <td>1</td>\n",
       "      <td>472500.0</td>\n",
       "      <td>3937.500000</td>\n",
       "    </tr>\n",
       "    <tr>\n",
       "      <th>113</th>\n",
       "      <td>71.0</td>\n",
       "      <td>4.0</td>\n",
       "      <td>Appartement</td>\n",
       "      <td>NaN</td>\n",
       "      <td>1</td>\n",
       "      <td>229900.0</td>\n",
       "      <td>3238.028169</td>\n",
       "    </tr>\n",
       "    <tr>\n",
       "      <th>141</th>\n",
       "      <td>120.0</td>\n",
       "      <td>5.0</td>\n",
       "      <td>Appartement</td>\n",
       "      <td>NaN</td>\n",
       "      <td>4</td>\n",
       "      <td>455000.0</td>\n",
       "      <td>3791.666667</td>\n",
       "    </tr>\n",
       "    <tr>\n",
       "      <th>156</th>\n",
       "      <td>149.0</td>\n",
       "      <td>5.0</td>\n",
       "      <td>Appartement</td>\n",
       "      <td>NaN</td>\n",
       "      <td>1</td>\n",
       "      <td>595250.0</td>\n",
       "      <td>3994.966443</td>\n",
       "    </tr>\n",
       "    <tr>\n",
       "      <th>169</th>\n",
       "      <td>142.0</td>\n",
       "      <td>6.0</td>\n",
       "      <td>Appartement</td>\n",
       "      <td>NaN</td>\n",
       "      <td>1</td>\n",
       "      <td>1.0</td>\n",
       "      <td>0.007042</td>\n",
       "    </tr>\n",
       "    <tr>\n",
       "      <th>224</th>\n",
       "      <td>128.0</td>\n",
       "      <td>5.0</td>\n",
       "      <td>Appartement</td>\n",
       "      <td>NaN</td>\n",
       "      <td>2</td>\n",
       "      <td>426300.0</td>\n",
       "      <td>3330.468750</td>\n",
       "    </tr>\n",
       "    <tr>\n",
       "      <th>245</th>\n",
       "      <td>76.0</td>\n",
       "      <td>4.0</td>\n",
       "      <td>Appartement</td>\n",
       "      <td>NaN</td>\n",
       "      <td>2</td>\n",
       "      <td>205000.0</td>\n",
       "      <td>2697.368421</td>\n",
       "    </tr>\n",
       "    <tr>\n",
       "      <th>266</th>\n",
       "      <td>91.0</td>\n",
       "      <td>4.0</td>\n",
       "      <td>Appartement</td>\n",
       "      <td>NaN</td>\n",
       "      <td>1</td>\n",
       "      <td>212770.0</td>\n",
       "      <td>2338.131868</td>\n",
       "    </tr>\n",
       "    <tr>\n",
       "      <th>272</th>\n",
       "      <td>146.0</td>\n",
       "      <td>4.0</td>\n",
       "      <td>Appartement</td>\n",
       "      <td>NaN</td>\n",
       "      <td>1</td>\n",
       "      <td>558000.0</td>\n",
       "      <td>3821.917808</td>\n",
       "    </tr>\n",
       "    <tr>\n",
       "      <th>277</th>\n",
       "      <td>84.0</td>\n",
       "      <td>4.0</td>\n",
       "      <td>Appartement</td>\n",
       "      <td>NaN</td>\n",
       "      <td>1</td>\n",
       "      <td>225000.0</td>\n",
       "      <td>2678.571429</td>\n",
       "    </tr>\n",
       "    <tr>\n",
       "      <th>327</th>\n",
       "      <td>100.0</td>\n",
       "      <td>4.0</td>\n",
       "      <td>Appartement</td>\n",
       "      <td>NaN</td>\n",
       "      <td>1</td>\n",
       "      <td>389200.0</td>\n",
       "      <td>3892.000000</td>\n",
       "    </tr>\n",
       "    <tr>\n",
       "      <th>339</th>\n",
       "      <td>85.0</td>\n",
       "      <td>4.0</td>\n",
       "      <td>Appartement</td>\n",
       "      <td>NaN</td>\n",
       "      <td>1</td>\n",
       "      <td>368587.0</td>\n",
       "      <td>4336.317647</td>\n",
       "    </tr>\n",
       "    <tr>\n",
       "      <th>390</th>\n",
       "      <td>132.0</td>\n",
       "      <td>5.0</td>\n",
       "      <td>Appartement</td>\n",
       "      <td>NaN</td>\n",
       "      <td>1</td>\n",
       "      <td>710000.0</td>\n",
       "      <td>5378.787879</td>\n",
       "    </tr>\n",
       "    <tr>\n",
       "      <th>394</th>\n",
       "      <td>116.0</td>\n",
       "      <td>4.0</td>\n",
       "      <td>Appartement</td>\n",
       "      <td>155.0</td>\n",
       "      <td>0</td>\n",
       "      <td>170000.0</td>\n",
       "      <td>1465.517241</td>\n",
       "    </tr>\n",
       "    <tr>\n",
       "      <th>439</th>\n",
       "      <td>71.0</td>\n",
       "      <td>4.0</td>\n",
       "      <td>Appartement</td>\n",
       "      <td>NaN</td>\n",
       "      <td>1</td>\n",
       "      <td>160000.0</td>\n",
       "      <td>2253.521127</td>\n",
       "    </tr>\n",
       "    <tr>\n",
       "      <th>445</th>\n",
       "      <td>88.0</td>\n",
       "      <td>4.0</td>\n",
       "      <td>Appartement</td>\n",
       "      <td>NaN</td>\n",
       "      <td>2</td>\n",
       "      <td>295000.0</td>\n",
       "      <td>3352.272727</td>\n",
       "    </tr>\n",
       "    <tr>\n",
       "      <th>494</th>\n",
       "      <td>71.0</td>\n",
       "      <td>4.0</td>\n",
       "      <td>Appartement</td>\n",
       "      <td>NaN</td>\n",
       "      <td>2</td>\n",
       "      <td>242000.0</td>\n",
       "      <td>3408.450704</td>\n",
       "    </tr>\n",
       "    <tr>\n",
       "      <th>503</th>\n",
       "      <td>116.0</td>\n",
       "      <td>4.0</td>\n",
       "      <td>Appartement</td>\n",
       "      <td>NaN</td>\n",
       "      <td>1</td>\n",
       "      <td>491780.0</td>\n",
       "      <td>4239.482759</td>\n",
       "    </tr>\n",
       "    <tr>\n",
       "      <th>509</th>\n",
       "      <td>94.0</td>\n",
       "      <td>4.0</td>\n",
       "      <td>Appartement</td>\n",
       "      <td>NaN</td>\n",
       "      <td>1</td>\n",
       "      <td>420000.0</td>\n",
       "      <td>4468.085106</td>\n",
       "    </tr>\n",
       "    <tr>\n",
       "      <th>528</th>\n",
       "      <td>100.0</td>\n",
       "      <td>4.0</td>\n",
       "      <td>Appartement</td>\n",
       "      <td>NaN</td>\n",
       "      <td>1</td>\n",
       "      <td>302500.0</td>\n",
       "      <td>3025.000000</td>\n",
       "    </tr>\n",
       "    <tr>\n",
       "      <th>543</th>\n",
       "      <td>110.0</td>\n",
       "      <td>4.0</td>\n",
       "      <td>Appartement</td>\n",
       "      <td>NaN</td>\n",
       "      <td>2</td>\n",
       "      <td>344000.0</td>\n",
       "      <td>3127.272727</td>\n",
       "    </tr>\n",
       "    <tr>\n",
       "      <th>572</th>\n",
       "      <td>65.0</td>\n",
       "      <td>4.0</td>\n",
       "      <td>Appartement</td>\n",
       "      <td>NaN</td>\n",
       "      <td>2</td>\n",
       "      <td>185000.0</td>\n",
       "      <td>2846.153846</td>\n",
       "    </tr>\n",
       "  </tbody>\n",
       "</table>\n",
       "</div>"
      ]
     },
     "execution_count": 12,
     "metadata": {},
     "output_type": "execute_result"
    }
   ],
   "execution_count": 12
  },
  {
   "metadata": {
    "ExecuteTime": {
     "end_time": "2025-06-23T10:28:51.445211Z",
     "start_time": "2025-06-23T10:28:51.442429Z"
    }
   },
   "cell_type": "code",
   "source": [
    "# Je ne supprime pas les lignes avec des valeurs manquantes sur terrain Sinon le dataset ne permet plus de faire des estimations\n",
    "df_appartements.isna().sum()"
   ],
   "id": "4dff8c30c6c7b1d0",
   "outputs": [
    {
     "data": {
      "text/plain": [
       "Surface reelle bati            0\n",
       "Nombre pieces principales      0\n",
       "Type local                     0\n",
       "Surface terrain              508\n",
       "Nombre de lots                 0\n",
       "Valeur fonciere                0\n",
       "prix_m2                        0\n",
       "dtype: int64"
      ]
     },
     "execution_count": 13,
     "metadata": {},
     "output_type": "execute_result"
    }
   ],
   "execution_count": 13
  },
  {
   "metadata": {
    "ExecuteTime": {
     "end_time": "2025-06-23T10:28:54.377726Z",
     "start_time": "2025-06-23T10:28:54.374678Z"
    }
   },
   "cell_type": "code",
   "source": [
    "# Je ne supprime pas les lignes avec des valeurs manquantes sur terrain Sinon le dataset ne permet plus de faire des estimations\n",
    "df_maisons.isna().sum()"
   ],
   "id": "e9287dc1c03a6bc4",
   "outputs": [
    {
     "data": {
      "text/plain": [
       "Surface reelle bati            0\n",
       "Nombre pieces principales      0\n",
       "Type local                     0\n",
       "Surface terrain              508\n",
       "Nombre de lots                 0\n",
       "Valeur fonciere                0\n",
       "prix_m2                        0\n",
       "dtype: int64"
      ]
     },
     "execution_count": 14,
     "metadata": {},
     "output_type": "execute_result"
    }
   ],
   "execution_count": 14
  },
  {
   "metadata": {
    "ExecuteTime": {
     "end_time": "2025-06-23T10:28:55.682943Z",
     "start_time": "2025-06-23T10:28:55.680783Z"
    }
   },
   "cell_type": "code",
   "source": "df_appartements.shape[0]",
   "id": "4b1c1e5315fe9b74",
   "outputs": [
    {
     "data": {
      "text/plain": [
       "561"
      ]
     },
     "execution_count": 15,
     "metadata": {},
     "output_type": "execute_result"
    }
   ],
   "execution_count": 15
  },
  {
   "metadata": {
    "ExecuteTime": {
     "end_time": "2025-06-23T10:28:58.702427Z",
     "start_time": "2025-06-23T10:28:58.699851Z"
    }
   },
   "cell_type": "code",
   "source": [
    "def remove_outliers_iqr(df, column):\n",
    "    \"\"\"\n",
    "    Supprime les valeurs aberrantes d'une colonne numérique dans un DataFrame,\n",
    "    en utilisant la méthode de l'IQR. Modifie le DataFrame en place et affiche\n",
    "    le nombre de lignes supprimées.\n",
    "    \"\"\"\n",
    "    Q1 = df[column].quantile(0.25)\n",
    "    Q3 = df[column].quantile(0.75)\n",
    "    IQR = Q3 - Q1\n",
    "    lower_bound = Q1 - 1.5 * IQR\n",
    "    upper_bound = Q3 + 1.5 * IQR\n",
    "\n",
    "    outlier_indices = df[(df[column] < lower_bound) | (df[column] > upper_bound)].index\n",
    "    nb_outliers = len(outlier_indices)\n",
    "\n",
    "    df.drop(outlier_indices, inplace=True)\n",
    "    print(f\"{nb_outliers} valeur(s) aberrante(s) supprimée(s) dans la colonne '{column}'.\")\n"
   ],
   "id": "b3afeab3cb61846f",
   "outputs": [],
   "execution_count": 16
  },
  {
   "metadata": {
    "ExecuteTime": {
     "end_time": "2025-06-23T10:29:04.139747Z",
     "start_time": "2025-06-23T10:29:04.136115Z"
    }
   },
   "cell_type": "code",
   "source": [
    "remove_outliers_iqr(df_appartements, \"prix_m2\")\n",
    "df_appartements.shape[0]"
   ],
   "id": "2bc09c2be6c21787",
   "outputs": [
    {
     "name": "stdout",
     "output_type": "stream",
     "text": [
      "63 valeur(s) aberrante(s) supprimée(s) dans la colonne 'prix_m2'.\n"
     ]
    },
    {
     "data": {
      "text/plain": [
       "498"
      ]
     },
     "execution_count": 17,
     "metadata": {},
     "output_type": "execute_result"
    }
   ],
   "execution_count": 17
  },
  {
   "metadata": {
    "ExecuteTime": {
     "end_time": "2025-06-23T10:29:04.928511Z",
     "start_time": "2025-06-23T10:29:04.925255Z"
    }
   },
   "cell_type": "code",
   "source": [
    "remove_outliers_iqr(df_appartements, \"Valeur fonciere\")\n",
    "df_appartements.shape[0]"
   ],
   "id": "3d58863e2f128da4",
   "outputs": [
    {
     "name": "stdout",
     "output_type": "stream",
     "text": [
      "18 valeur(s) aberrante(s) supprimée(s) dans la colonne 'Valeur fonciere'.\n"
     ]
    },
    {
     "data": {
      "text/plain": [
       "480"
      ]
     },
     "execution_count": 18,
     "metadata": {},
     "output_type": "execute_result"
    }
   ],
   "execution_count": 18
  },
  {
   "metadata": {
    "ExecuteTime": {
     "end_time": "2025-06-23T10:29:05.700953Z",
     "start_time": "2025-06-23T10:29:05.697249Z"
    }
   },
   "cell_type": "code",
   "source": [
    "remove_outliers_iqr(df_appartements, \"Surface reelle bati\")\n",
    "df_appartements.shape[0]"
   ],
   "id": "5f4374c63a49503b",
   "outputs": [
    {
     "name": "stdout",
     "output_type": "stream",
     "text": [
      "20 valeur(s) aberrante(s) supprimée(s) dans la colonne 'Surface reelle bati'.\n"
     ]
    },
    {
     "data": {
      "text/plain": [
       "460"
      ]
     },
     "execution_count": 19,
     "metadata": {},
     "output_type": "execute_result"
    }
   ],
   "execution_count": 19
  },
  {
   "metadata": {
    "ExecuteTime": {
     "end_time": "2025-06-23T10:29:09.588107Z",
     "start_time": "2025-06-23T10:29:09.584546Z"
    }
   },
   "cell_type": "code",
   "source": [
    "remove_outliers_iqr(df_maisons, \"prix_m2\")\n",
    "df_maisons.shape[0]"
   ],
   "id": "c035d2473263c5c",
   "outputs": [
    {
     "name": "stdout",
     "output_type": "stream",
     "text": [
      "63 valeur(s) aberrante(s) supprimée(s) dans la colonne 'prix_m2'.\n"
     ]
    },
    {
     "data": {
      "text/plain": [
       "498"
      ]
     },
     "execution_count": 20,
     "metadata": {},
     "output_type": "execute_result"
    }
   ],
   "execution_count": 20
  },
  {
   "metadata": {
    "ExecuteTime": {
     "end_time": "2025-06-23T10:29:15.573012Z",
     "start_time": "2025-06-23T10:29:15.569377Z"
    }
   },
   "cell_type": "code",
   "source": [
    "remove_outliers_iqr(df_maisons, \"Valeur fonciere\")\n",
    "df_maisons.shape[0]"
   ],
   "id": "5e3c14aa7b1847b5",
   "outputs": [
    {
     "name": "stdout",
     "output_type": "stream",
     "text": [
      "18 valeur(s) aberrante(s) supprimée(s) dans la colonne 'Valeur fonciere'.\n"
     ]
    },
    {
     "data": {
      "text/plain": [
       "480"
      ]
     },
     "execution_count": 21,
     "metadata": {},
     "output_type": "execute_result"
    }
   ],
   "execution_count": 21
  },
  {
   "metadata": {
    "ExecuteTime": {
     "end_time": "2025-06-23T10:29:18.604507Z",
     "start_time": "2025-06-23T10:29:18.601192Z"
    }
   },
   "cell_type": "code",
   "source": [
    "remove_outliers_iqr(df_maisons, \"Surface reelle bati\")\n",
    "df_maisons.shape[0]"
   ],
   "id": "654d32889642e66c",
   "outputs": [
    {
     "name": "stdout",
     "output_type": "stream",
     "text": [
      "20 valeur(s) aberrante(s) supprimée(s) dans la colonne 'Surface reelle bati'.\n"
     ]
    },
    {
     "data": {
      "text/plain": [
       "460"
      ]
     },
     "execution_count": 22,
     "metadata": {},
     "output_type": "execute_result"
    }
   ],
   "execution_count": 22
  },
  {
   "metadata": {},
   "cell_type": "markdown",
   "source": "modele LinearRegression",
   "id": "b6da360400e435b7"
  },
  {
   "metadata": {
    "ExecuteTime": {
     "end_time": "2025-06-23T10:29:21.287877Z",
     "start_time": "2025-06-23T10:29:21.285067Z"
    }
   },
   "cell_type": "code",
   "source": [
    "X = df_appartements[['Valeur fonciere']].values\n",
    "y = df_appartements[[\"prix_m2\"]].values\n",
    "\n",
    "from sklearn.model_selection import train_test_split\n",
    "X_train, X_test, y_train, y_test = train_test_split(X, y, test_size=0.2, random_state=42)"
   ],
   "id": "f1efe906e68ec38f",
   "outputs": [],
   "execution_count": 23
  },
  {
   "metadata": {
    "ExecuteTime": {
     "end_time": "2025-06-23T10:29:23.686570Z",
     "start_time": "2025-06-23T10:29:23.684270Z"
    }
   },
   "cell_type": "code",
   "source": [
    "scaler_X = StandardScaler()\n",
    "scaler_y = StandardScaler()\n",
    "\n",
    "X_train_scaled = scaler_X.fit_transform(X_train)\n",
    "y_train_scaled = scaler_y.fit_transform(y_train)\n",
    "\n",
    "X_test_scaled = scaler_X.transform(X_test)\n",
    "y_test_scaled = scaler_y.transform(y_test)\n"
   ],
   "id": "815d3bdcfced4f8",
   "outputs": [],
   "execution_count": 24
  },
  {
   "metadata": {
    "ExecuteTime": {
     "end_time": "2025-06-23T10:29:28.875955Z",
     "start_time": "2025-06-23T10:29:28.860206Z"
    }
   },
   "cell_type": "code",
   "source": [
    "from sklearn.linear_model import Ridge\n",
    "from sklearn.model_selection import GridSearchCV\n",
    "\n",
    "param_grid = {\n",
    "    'alpha': [0.01, 0.1, 1.0, 10.0, 100.0]\n",
    "}\n",
    "\n",
    "grid = GridSearchCV(Ridge(), param_grid, cv=5)\n",
    "grid.fit(X_train_scaled, y_train_scaled)\n",
    "\n",
    "model = grid.best_estimator_\n",
    "print(\"Meilleur paramètre alpha :\", grid.best_params_)"
   ],
   "id": "522427e21bd5e20d",
   "outputs": [
    {
     "name": "stdout",
     "output_type": "stream",
     "text": [
      "Meilleur paramètre alpha : {'alpha': 10.0}\n"
     ]
    }
   ],
   "execution_count": 25
  },
  {
   "metadata": {
    "ExecuteTime": {
     "end_time": "2025-06-23T10:29:30.318215Z",
     "start_time": "2025-06-23T10:29:30.257475Z"
    }
   },
   "cell_type": "code",
   "source": [
    "import matplotlib.pyplot as plt\n",
    "\n",
    "y_train_pred_scaled = model.predict(X_train_scaled)\n",
    "\n",
    "plt.scatter(X_train_scaled, y_train_scaled, color='blue', label='Train')\n",
    "plt.plot(X_train_scaled, y_train_pred_scaled, color='red', label='Régression')\n",
    "plt.title(\"Régression linéaire standardisée – Appartements\")\n",
    "plt.xlabel(\"Valeur foncière (standardisée)\")\n",
    "plt.ylabel(\"Prix m² (standardisé)\")\n",
    "plt.legend()\n",
    "plt.grid(True)\n",
    "plt.show()"
   ],
   "id": "33352803edca9815",
   "outputs": [
    {
     "data": {
      "text/plain": [
       "<Figure size 640x480 with 1 Axes>"
      ],
      "image/png": "[encoded data removed]"
     },
     "metadata": {},
     "output_type": "display_data"
    }
   ],
   "execution_count": 26
  },
  {
   "metadata": {
    "ExecuteTime": {
     "end_time": "2025-06-23T10:29:39.336350Z",
     "start_time": "2025-06-23T10:29:39.333757Z"
    }
   },
   "cell_type": "code",
   "source": [
    "y_pred_scaled = model.predict(X_test_scaled)\n",
    "mse_linear_app = mean_squared_error(y_test_scaled, y_pred_scaled)\n",
    "\n",
    "print(\"MSE Appartements :\", mse_linear_app)\n",
    "print(\"RMSE Appartements :\", np.sqrt(mse_linear_app))\n",
    "print(\"R² Appartements :\", r2_score(y_test_scaled, y_pred_scaled))"
   ],
   "id": "d2636f369f3b3d53",
   "outputs": [
    {
     "name": "stdout",
     "output_type": "stream",
     "text": [
      "MSE Appartements : 0.24161331976743028\n",
      "RMSE Appartements : 0.49154177825229695\n",
      "R² Appartements : 0.6417747618402536\n"
     ]
    }
   ],
   "execution_count": 27
  },
  {
   "metadata": {
    "ExecuteTime": {
     "end_time": "2025-06-23T10:29:41.864757Z",
     "start_time": "2025-06-23T10:29:41.815600Z"
    }
   },
   "cell_type": "code",
   "source": [
    "plt.scatter(X_test_scaled, y_test_scaled, color='green', label='Valeur cible')\n",
    "plt.scatter(X_test_scaled, y_pred_scaled, color='pink', label='Prédiction')\n",
    "plt.title(\"Valeurs réelles vs prédictions – Appartements\")\n",
    "plt.xlabel(\"Valeur foncière (standardisée)\")\n",
    "plt.ylabel(\"Prix m² (standardisé)\")\n",
    "plt.legend()\n",
    "plt.grid(True)\n",
    "plt.show()"
   ],
   "id": "604ffd2d995cbbce",
   "outputs": [
    {
     "data": {
      "text/plain": [
       "<Figure size 640x480 with 1 Axes>"
      ],
      "image/png": "[encoded data removed]"
     },
     "metadata": {},
     "output_type": "display_data"
    }
   ],
   "execution_count": 28
  },
  {
   "metadata": {
    "ExecuteTime": {
     "end_time": "2025-06-23T10:42:36.613064Z",
     "start_time": "2025-06-23T10:42:36.610209Z"
    }
   },
   "cell_type": "code",
   "source": [
    "import os\n",
    "\n",
    "racine = \"sauvegardes\"\n",
    "modeles = [\"LinearRegression\", \"DecisionTreeRegressor\", \"RandomForestRegressor\", \"XGBRegressor\"]\n",
    "types_bien = [\"appartements\", \"maisons\"]\n",
    "\n",
    "for modele in modeles:\n",
    "    for type_bien in types_bien:\n",
    "        os.makedirs(os.path.join(racine, modele, type_bien), exist_ok=True)"
   ],
   "id": "aa59e189b46a0ed3",
   "outputs": [],
   "execution_count": 33
  },
  {
   "metadata": {
    "ExecuteTime": {
     "end_time": "2025-06-23T11:53:11.514468Z",
     "start_time": "2025-06-23T11:53:11.510648Z"
    }
   },
   "cell_type": "code",
   "source": [
    "os.makedirs(\"sauvegardes\", exist_ok=True)\n",
    "\n",
    "joblib.dump(model, \"sauvegardes/LinearRegression/appartements/app_model_regression.pkl\")\n",
    "joblib.dump(scaler_X, \"sauvegardes/LinearRegression/appartements/app_scaler_X.pkl\")\n",
    "joblib.dump(scaler_y, \"sauvegardes/LinearRegression/appartements/app_scaler_y.pkl\")"
   ],
   "id": "359023ba2cb43e77",
   "outputs": [
    {
     "data": {
      "text/plain": [
       "['sauvegardes/LinearRegression/appartements/app_scaler_y.pkl']"
      ]
     },
     "execution_count": 36,
     "metadata": {},
     "output_type": "execute_result"
    }
   ],
   "execution_count": 36
  },
  {
   "metadata": {
    "ExecuteTime": {
     "end_time": "2025-06-23T11:54:53.817370Z",
     "start_time": "2025-06-23T11:54:53.813841Z"
    }
   },
   "cell_type": "code",
   "source": [
    "X = df_maisons[['Valeur fonciere']].values\n",
    "y = df_maisons[[\"prix_m2\"]].values\n",
    "\n",
    "from sklearn.model_selection import train_test_split\n",
    "X_train, X_test, y_train, y_test = train_test_split(X, y, test_size=0.2, random_state=42)"
   ],
   "id": "40a1f5475b93efe3",
   "outputs": [],
   "execution_count": 37
  },
  {
   "metadata": {
    "ExecuteTime": {
     "end_time": "2025-06-23T11:54:55.567608Z",
     "start_time": "2025-06-23T11:54:55.565052Z"
    }
   },
   "cell_type": "code",
   "source": [
    "from sklearn.preprocessing import StandardScaler\n",
    "\n",
    "scaler_X = StandardScaler()\n",
    "scaler_y = StandardScaler()\n",
    "\n",
    "X_train_scaled = scaler_X.fit_transform(X_train)\n",
    "y_train_scaled = scaler_y.fit_transform(y_train)\n",
    "\n",
    "X_test_scaled = scaler_X.transform(X_test)\n",
    "y_test_scaled = scaler_y.transform(y_test)"
   ],
   "id": "23784570199ddfcd",
   "outputs": [],
   "execution_count": 38
  },
  {
   "metadata": {
    "ExecuteTime": {
     "end_time": "2025-06-23T11:55:03.191330Z",
     "start_time": "2025-06-23T11:55:03.175638Z"
    }
   },
   "cell_type": "code",
   "source": [
    "from sklearn.linear_model import Ridge\n",
    "from sklearn.model_selection import GridSearchCV\n",
    "\n",
    "param_grid = {\n",
    "    'alpha': [0.01, 0.1, 1.0, 10.0, 100.0]\n",
    "}\n",
    "\n",
    "grid = GridSearchCV(Ridge(), param_grid, cv=5)\n",
    "grid.fit(X_train_scaled, y_train_scaled)\n",
    "\n",
    "model = grid.best_estimator_\n",
    "print(\"Meilleur paramètre alpha :\", grid.best_params_)"
   ],
   "id": "d9daf12ac0addc75",
   "outputs": [
    {
     "name": "stdout",
     "output_type": "stream",
     "text": [
      "Meilleur paramètre alpha : {'alpha': 10.0}\n"
     ]
    }
   ],
   "execution_count": 39
  },
  {
   "metadata": {
    "ExecuteTime": {
     "end_time": "2025-06-23T11:55:06.255794Z",
     "start_time": "2025-06-23T11:55:06.206112Z"
    }
   },
   "cell_type": "code",
   "source": [
    "import matplotlib.pyplot as plt\n",
    "\n",
    "y_train_pred_scaled = model.predict(X_train_scaled)\n",
    "\n",
    "plt.scatter(X_train_scaled, y_train_scaled, color='blue', label='Train')\n",
    "plt.plot(X_train_scaled, y_train_pred_scaled, color='red', label='Régression')\n",
    "plt.title(\"Régression linéaire standardisée – Maisons\")\n",
    "plt.xlabel(\"Valeur foncière (standardisée)\")\n",
    "plt.ylabel(\"Prix m² (standardisé)\")\n",
    "plt.legend()\n",
    "plt.grid(True)\n",
    "plt.show()"
   ],
   "id": "b555c51b220f17f4",
   "outputs": [
    {
     "data": {
      "text/plain": [
       "<Figure size 640x480 with 1 Axes>"
      ],
      "image/png": "[encoded data removed]"
     },
     "metadata": {},
     "output_type": "display_data"
    }
   ],
   "execution_count": 40
  },
  {
   "metadata": {
    "ExecuteTime": {
     "end_time": "2025-06-23T11:55:10.142949Z",
     "start_time": "2025-06-23T11:55:10.140104Z"
    }
   },
   "cell_type": "code",
   "source": [
    "from sklearn.metrics import mean_squared_error, r2_score\n",
    "import numpy as np\n",
    "\n",
    "y_pred_scaled = model.predict(X_test_scaled)\n",
    "mse_linear_mais = mean_squared_error(y_test_scaled, y_pred_scaled)\n",
    "\n",
    "print(\"MSE Maisons :\", mse_linear_mais)\n",
    "print(\"RMSE Maisons :\", np.sqrt(mse_linear_mais))\n",
    "print(\"R² Maisons :\", r2_score(y_test_scaled, y_pred_scaled))"
   ],
   "id": "79e74a8983dc7a20",
   "outputs": [
    {
     "name": "stdout",
     "output_type": "stream",
     "text": [
      "MSE Maisons : 0.24161331976743028\n",
      "RMSE Maisons : 0.49154177825229695\n",
      "R² Maisons : 0.6417747618402536\n"
     ]
    }
   ],
   "execution_count": 41
  },
  {
   "metadata": {
    "ExecuteTime": {
     "end_time": "2025-06-23T11:55:12.816432Z",
     "start_time": "2025-06-23T11:55:12.766999Z"
    }
   },
   "cell_type": "code",
   "source": [
    "plt.scatter(X_test_scaled, y_test_scaled, color='green', label='Valeur cible')\n",
    "plt.scatter(X_test_scaled, y_pred_scaled, color='pink', label='Prédiction')\n",
    "plt.title(\"Valeurs réelles vs prédictions – Maisons\")\n",
    "plt.xlabel(\"Valeur foncière (standardisée)\")\n",
    "plt.ylabel(\"Prix m² (standardisé)\")\n",
    "plt.legend()\n",
    "plt.grid(True)\n",
    "plt.show()"
   ],
   "id": "a06abaf782ab749",
   "outputs": [
    {
     "data": {
      "text/plain": [
       "<Figure size 640x480 with 1 Axes>"
      ],
      "image/png": "[encoded data removed]"
     },
     "metadata": {},
     "output_type": "display_data"
    }
   ],
   "execution_count": 42
  },
  {
   "metadata": {
    "ExecuteTime": {
     "end_time": "2025-06-23T11:55:16.740525Z",
     "start_time": "2025-06-23T11:55:16.737307Z"
    }
   },
   "cell_type": "code",
   "source": [
    "os.makedirs(\"sauvegardes\", exist_ok=True)\n",
    "\n",
    "joblib.dump(model, \"sauvegardes/LinearRegression/maisons/app_model_regression.pkl\")\n",
    "joblib.dump(scaler_X, \"sauvegardes/LinearRegression/maisons/app_scaler_X.pkl\")\n",
    "joblib.dump(scaler_y, \"sauvegardes/LinearRegression/maisons/app_scaler_y.pkl\")"
   ],
   "id": "7e549b5541ed296c",
   "outputs": [
    {
     "data": {
      "text/plain": [
       "['sauvegardes/LinearRegression/maisons/app_scaler_y.pkl']"
      ]
     },
     "execution_count": 43,
     "metadata": {},
     "output_type": "execute_result"
    }
   ],
   "execution_count": 43
  },
  {
   "metadata": {},
   "cell_type": "markdown",
   "source": "modèle DecisionTreeRegressor",
   "id": "a0ffe468279e213b"
  },
  {
   "metadata": {
    "ExecuteTime": {
     "end_time": "2025-06-23T11:55:37.768111Z",
     "start_time": "2025-06-23T11:55:37.682927Z"
    }
   },
   "cell_type": "code",
   "source": [
    "import numpy as np\n",
    "import matplotlib.pyplot as plt\n",
    "from sklearn.model_selection import train_test_split\n",
    "from sklearn.preprocessing import StandardScaler\n",
    "from sklearn.tree import DecisionTreeRegressor\n",
    "from sklearn.metrics import mean_squared_error, r2_score\n"
   ],
   "id": "105b227f7c1f6588",
   "outputs": [],
   "execution_count": 44
  },
  {
   "metadata": {
    "ExecuteTime": {
     "end_time": "2025-06-23T11:55:42.395907Z",
     "start_time": "2025-06-23T11:55:42.393085Z"
    }
   },
   "cell_type": "code",
   "source": [
    "X = df_appartements[['Valeur fonciere']].values\n",
    "y = df_appartements[[\"prix_m2\"]].values\n",
    "\n",
    "from sklearn.model_selection import train_test_split\n",
    "X_train, X_test, y_train, y_test = train_test_split(X, y, test_size=0.2, random_state=42)"
   ],
   "id": "3b3419a0432b6cd2",
   "outputs": [],
   "execution_count": 45
  },
  {
   "metadata": {
    "ExecuteTime": {
     "end_time": "2025-06-23T11:55:44.840870Z",
     "start_time": "2025-06-23T11:55:44.838181Z"
    }
   },
   "cell_type": "code",
   "source": [
    "scaler_X = StandardScaler()\n",
    "scaler_y = StandardScaler()\n",
    "\n",
    "X_train_scaled = scaler_X.fit_transform(X_train)\n",
    "y_train_scaled = scaler_y.fit_transform(y_train)\n",
    "\n",
    "X_test_scaled = scaler_X.transform(X_test)\n",
    "y_test_scaled = scaler_y.transform(y_test)"
   ],
   "id": "cd17ddff6529b622",
   "outputs": [],
   "execution_count": 46
  },
  {
   "metadata": {
    "ExecuteTime": {
     "end_time": "2025-06-23T11:55:47.577557Z",
     "start_time": "2025-06-23T11:55:47.534883Z"
    }
   },
   "cell_type": "code",
   "source": [
    "from sklearn.tree import DecisionTreeRegressor\n",
    "from sklearn.model_selection import GridSearchCV\n",
    "\n",
    "param_grid = {\n",
    "    'max_depth': [2, 4, 6, 8, 10],\n",
    "    'min_samples_split': [2, 5, 10]\n",
    "}\n",
    "\n",
    "grid = GridSearchCV(DecisionTreeRegressor(random_state=42), param_grid, cv=5)\n",
    "grid.fit(X_train_scaled, y_train_scaled)\n",
    "\n",
    "model = grid.best_estimator_\n",
    "print(\"Meilleurs paramètres (Appartements) :\", grid.best_params_)"
   ],
   "id": "4456483e3458611e",
   "outputs": [
    {
     "name": "stdout",
     "output_type": "stream",
     "text": [
      "Meilleurs paramètres (Appartements) : {'max_depth': 4, 'min_samples_split': 2}\n"
     ]
    }
   ],
   "execution_count": 47
  },
  {
   "metadata": {
    "ExecuteTime": {
     "end_time": "2025-06-23T11:55:51.164228Z",
     "start_time": "2025-06-23T11:55:51.067771Z"
    }
   },
   "cell_type": "code",
   "source": [
    "import matplotlib.pyplot as plt\n",
    "\n",
    "y_train_pred_scaled = model.predict(X_train_scaled)\n",
    "\n",
    "plt.scatter(X_train_scaled, y_train_scaled, color='blue', label='Train')\n",
    "plt.scatter(X_train_scaled, y_train_pred_scaled, color='red', label='Prédiction')\n",
    "plt.title(\"Arbre de décision – Entraînement (Appartements)\")\n",
    "plt.xlabel(\"Valeur foncière (standardisée)\")\n",
    "plt.ylabel(\"Prix m² (standardisé)\")\n",
    "plt.legend()\n",
    "plt.grid(True)\n",
    "plt.show()"
   ],
   "id": "f5edeb83648c65fd",
   "outputs": [
    {
     "data": {
      "text/plain": [
       "<Figure size 640x480 with 1 Axes>"
      ],
      "image/png": "[encoded data removed]"
     },
     "metadata": {},
     "output_type": "display_data"
    }
   ],
   "execution_count": 48
  },
  {
   "metadata": {
    "ExecuteTime": {
     "end_time": "2025-06-23T11:55:54.139773Z",
     "start_time": "2025-06-23T11:55:54.137089Z"
    }
   },
   "cell_type": "code",
   "source": [
    "from sklearn.metrics import mean_squared_error, r2_score\n",
    "import numpy as np\n",
    "\n",
    "y_pred_scaled = model.predict(X_test_scaled)\n",
    "mse_tree_app = mean_squared_error(y_test_scaled, y_pred_scaled)\n",
    "\n",
    "print(\"MSE Appartements :\", mse_tree_app)\n",
    "print(\"RMSE Appartements :\", np.sqrt(mse_tree_app))\n",
    "print(\"R² Appartements :\", r2_score(y_test_scaled, y_pred_scaled))"
   ],
   "id": "fd28b8cc4429d5a4",
   "outputs": [
    {
     "name": "stdout",
     "output_type": "stream",
     "text": [
      "MSE Appartements : 0.25218743673677985\n",
      "RMSE Appartements : 0.502182672676766\n",
      "R² Appartements : 0.6260971676855919\n"
     ]
    }
   ],
   "execution_count": 49
  },
  {
   "metadata": {
    "ExecuteTime": {
     "end_time": "2025-06-23T11:56:12.000884Z",
     "start_time": "2025-06-23T11:56:11.953563Z"
    }
   },
   "cell_type": "code",
   "source": [
    "plt.scatter(X_test_scaled, y_test_scaled, color='green', label='Valeur cible')\n",
    "plt.scatter(X_test_scaled, y_pred_scaled, color='pink', label='Prédiction')\n",
    "plt.title(\"Arbre de décision – Prédictions (Appartements)\")\n",
    "plt.xlabel(\"Valeur foncière (standardisée)\")\n",
    "plt.ylabel(\"Prix m² (standardisé)\")\n",
    "plt.legend()\n",
    "plt.grid(True)\n",
    "plt.show()"
   ],
   "id": "ec595e5f9d30ac9d",
   "outputs": [
    {
     "data": {
      "text/plain": [
       "<Figure size 640x480 with 1 Axes>"
      ],
      "image/png": "[encoded data removed]"
     },
     "metadata": {},
     "output_type": "display_data"
    }
   ],
   "execution_count": 50
  },
  {
   "metadata": {
    "ExecuteTime": {
     "end_time": "2025-06-23T11:57:07.058889Z",
     "start_time": "2025-06-23T11:57:07.054972Z"
    }
   },
   "cell_type": "code",
   "source": [
    "os.makedirs(\"sauvegardes\", exist_ok=True)\n",
    "\n",
    "joblib.dump(model, \"sauvegardes/DecisionTreeRegressor/appartements/app_model_regression.pkl\")\n",
    "joblib.dump(scaler_X, \"sauvegardes/DecisionTreeRegressor/appartements/app_scaler_X.pkl\")\n",
    "joblib.dump(scaler_y, \"sauvegardes/DecisionTreeRegressor/appartements/app_scaler_y.pkl\")"
   ],
   "id": "42a92cc1e6712abb",
   "outputs": [
    {
     "data": {
      "text/plain": [
       "['sauvegardes/DecisionTreeRegressor/appartements/app_scaler_y.pkl']"
      ]
     },
     "execution_count": 51,
     "metadata": {},
     "output_type": "execute_result"
    }
   ],
   "execution_count": 51
  },
  {
   "metadata": {
    "ExecuteTime": {
     "end_time": "2025-06-23T11:57:26.828678Z",
     "start_time": "2025-06-23T11:57:26.825923Z"
    }
   },
   "cell_type": "code",
   "source": [
    "X = df_maisons[['Valeur fonciere']].values\n",
    "y = df_maisons[[\"prix_m2\"]].values\n",
    "\n",
    "from sklearn.model_selection import train_test_split\n",
    "X_train, X_test, y_train, y_test = train_test_split(X, y, test_size=0.2, random_state=42)"
   ],
   "id": "4c7e1c4bddf3216e",
   "outputs": [],
   "execution_count": 52
  },
  {
   "metadata": {
    "ExecuteTime": {
     "end_time": "2025-06-23T11:57:28.580715Z",
     "start_time": "2025-06-23T11:57:28.578428Z"
    }
   },
   "cell_type": "code",
   "source": [
    "from sklearn.preprocessing import StandardScaler\n",
    "\n",
    "scaler_X = StandardScaler()\n",
    "scaler_y = StandardScaler()\n",
    "\n",
    "X_train_scaled = scaler_X.fit_transform(X_train)\n",
    "y_train_scaled = scaler_y.fit_transform(y_train)\n",
    "\n",
    "X_test_scaled = scaler_X.transform(X_test)\n",
    "y_test_scaled = scaler_y.transform(y_test)"
   ],
   "id": "ea4ca0ac058a65b",
   "outputs": [],
   "execution_count": 53
  },
  {
   "metadata": {
    "ExecuteTime": {
     "end_time": "2025-06-23T11:57:31.977318Z",
     "start_time": "2025-06-23T11:57:31.934023Z"
    }
   },
   "cell_type": "code",
   "source": [
    "from sklearn.tree import DecisionTreeRegressor\n",
    "from sklearn.model_selection import GridSearchCV\n",
    "\n",
    "param_grid = {\n",
    "    'max_depth': [2, 4, 6, 8, 10],\n",
    "    'min_samples_split': [2, 5, 10]\n",
    "}\n",
    "\n",
    "grid = GridSearchCV(DecisionTreeRegressor(random_state=42), param_grid, cv=5)\n",
    "grid.fit(X_train_scaled, y_train_scaled)\n",
    "\n",
    "model = grid.best_estimator_\n",
    "print(\"Meilleurs paramètres (Maisons) :\", grid.best_params_)"
   ],
   "id": "d602ed45d1c4cec6",
   "outputs": [
    {
     "name": "stdout",
     "output_type": "stream",
     "text": [
      "Meilleurs paramètres (Maisons) : {'max_depth': 4, 'min_samples_split': 2}\n"
     ]
    }
   ],
   "execution_count": 54
  },
  {
   "metadata": {
    "ExecuteTime": {
     "end_time": "2025-06-23T11:57:35.091621Z",
     "start_time": "2025-06-23T11:57:35.041040Z"
    }
   },
   "cell_type": "code",
   "source": [
    "import matplotlib.pyplot as plt\n",
    "\n",
    "y_train_pred_scaled = model.predict(X_train_scaled)\n",
    "\n",
    "plt.scatter(X_train_scaled, y_train_scaled, color='blue', label='Train')\n",
    "plt.scatter(X_train_scaled, y_train_pred_scaled, color='red', label='Prédiction')\n",
    "plt.title(\"Arbre de décision – Entraînement (Maisons)\")\n",
    "plt.xlabel(\"Valeur foncière (standardisée)\")\n",
    "plt.ylabel(\"Prix m² (standardisé)\")\n",
    "plt.legend()\n",
    "plt.grid(True)\n",
    "plt.show()"
   ],
   "id": "6024442fbbaddaf",
   "outputs": [
    {
     "data": {
      "text/plain": [
       "<Figure size 640x480 with 1 Axes>"
      ],
      "image/png": "[encoded data removed]"
     },
     "metadata": {},
     "output_type": "display_data"
    }
   ],
   "execution_count": 55
  },
  {
   "metadata": {
    "ExecuteTime": {
     "end_time": "2025-06-23T11:57:38.896995Z",
     "start_time": "2025-06-23T11:57:38.894349Z"
    }
   },
   "cell_type": "code",
   "source": [
    "from sklearn.metrics import mean_squared_error, r2_score\n",
    "import numpy as np\n",
    "\n",
    "y_pred_scaled = model.predict(X_test_scaled)\n",
    "mse_tree_mais = mean_squared_error(y_test_scaled, y_pred_scaled)\n",
    "\n",
    "print(\"MSE Maisons :\", mse_tree_mais)\n",
    "print(\"RMSE Maisons :\", np.sqrt(mse_tree_mais))\n",
    "print(\"R² Maisons :\", r2_score(y_test_scaled, y_pred_scaled))"
   ],
   "id": "b291b6fd1bae75fd",
   "outputs": [
    {
     "name": "stdout",
     "output_type": "stream",
     "text": [
      "MSE Maisons : 0.25218743673677985\n",
      "RMSE Maisons : 0.502182672676766\n",
      "R² Maisons : 0.6260971676855919\n"
     ]
    }
   ],
   "execution_count": 56
  },
  {
   "metadata": {
    "ExecuteTime": {
     "end_time": "2025-06-23T11:57:43.292245Z",
     "start_time": "2025-06-23T11:57:43.246017Z"
    }
   },
   "cell_type": "code",
   "source": [
    "plt.scatter(X_test_scaled, y_test_scaled, color='green', label='Valeur cible')\n",
    "plt.scatter(X_test_scaled, y_pred_scaled, color='pink', label='Prédiction')\n",
    "plt.title(\"Arbre de décision – Prédictions (Maisons)\")\n",
    "plt.xlabel(\"Valeur foncière (standardisée)\")\n",
    "plt.ylabel(\"Prix m² (standardisé)\")\n",
    "plt.legend()\n",
    "plt.grid(True)\n",
    "plt.show()"
   ],
   "id": "59b688bcf8647324",
   "outputs": [
    {
     "data": {
      "text/plain": [
       "<Figure size 640x480 with 1 Axes>"
      ],
      "image/png": "[encoded data removed]"
     },
     "metadata": {},
     "output_type": "display_data"
    }
   ],
   "execution_count": 57
  },
  {
   "metadata": {
    "ExecuteTime": {
     "end_time": "2025-06-23T11:58:08.716532Z",
     "start_time": "2025-06-23T11:58:08.713034Z"
    }
   },
   "cell_type": "code",
   "source": [
    "os.makedirs(\"sauvegardes\", exist_ok=True)\n",
    "\n",
    "joblib.dump(model, \"sauvegardes/DecisionTreeRegressor/maisons/app_model_regression.pkl\")\n",
    "joblib.dump(scaler_X, \"sauvegardes/DecisionTreeRegressor/maisons/app_scaler_X.pkl\")\n",
    "joblib.dump(scaler_y, \"sauvegardes/DecisionTreeRegressor/maisons/app_scaler_y.pkl\")"
   ],
   "id": "4b85c2022b92e4f0",
   "outputs": [
    {
     "data": {
      "text/plain": [
       "['sauvegardes/DecisionTreeRegressor/maisons/app_scaler_y.pkl']"
      ]
     },
     "execution_count": 58,
     "metadata": {},
     "output_type": "execute_result"
    }
   ],
   "execution_count": 58
  },
  {
   "metadata": {},
   "cell_type": "markdown",
   "source": "modèle RandomForestRegressor",
   "id": "9d30688d383cdb9c"
  },
  {
   "metadata": {
    "ExecuteTime": {
     "end_time": "2025-06-23T11:58:25.488711Z",
     "start_time": "2025-06-23T11:58:25.486048Z"
    }
   },
   "cell_type": "code",
   "source": [
    "X = df_appartements[['Valeur fonciere']].values\n",
    "y = df_appartements[[\"prix_m2\"]].values\n",
    "\n",
    "from sklearn.model_selection import train_test_split\n",
    "X_train, X_test, y_train, y_test = train_test_split(X, y, test_size=0.2, random_state=42)"
   ],
   "id": "7e0d35dab2430e7d",
   "outputs": [],
   "execution_count": 59
  },
  {
   "metadata": {
    "ExecuteTime": {
     "end_time": "2025-06-23T11:58:30.887993Z",
     "start_time": "2025-06-23T11:58:30.885539Z"
    }
   },
   "cell_type": "code",
   "source": [
    "from sklearn.preprocessing import StandardScaler\n",
    "\n",
    "scaler_X = StandardScaler()\n",
    "scaler_y = StandardScaler()\n",
    "\n",
    "X_train_scaled = scaler_X.fit_transform(X_train)\n",
    "y_train_scaled = scaler_y.fit_transform(y_train)\n",
    "\n",
    "X_test_scaled = scaler_X.transform(X_test)\n",
    "y_test_scaled = scaler_y.transform(y_test)"
   ],
   "id": "25e82947abf14473",
   "outputs": [],
   "execution_count": 61
  },
  {
   "metadata": {
    "ExecuteTime": {
     "end_time": "2025-06-23T11:58:34.928641Z",
     "start_time": "2025-06-23T11:58:32.892538Z"
    }
   },
   "cell_type": "code",
   "source": [
    "from sklearn.ensemble import RandomForestRegressor\n",
    "from sklearn.model_selection import GridSearchCV\n",
    "\n",
    "param_grid = {\n",
    "    'n_estimators': [50, 100],\n",
    "    'max_depth': [None, 4, 6, 8],\n",
    "    'min_samples_split': [2, 5]\n",
    "}\n",
    "\n",
    "grid = GridSearchCV(RandomForestRegressor(random_state=42), param_grid, cv=5)\n",
    "grid.fit(X_train_scaled, y_train_scaled.ravel())\n",
    "\n",
    "model = grid.best_estimator_\n",
    "print(\"Meilleurs paramètres (Appartements) :\", grid.best_params_)"
   ],
   "id": "6b82e1bf9b2d4e4a",
   "outputs": [
    {
     "name": "stdout",
     "output_type": "stream",
     "text": [
      "Meilleurs paramètres (Appartements) : {'max_depth': 4, 'min_samples_split': 2, 'n_estimators': 50}\n"
     ]
    }
   ],
   "execution_count": 62
  },
  {
   "metadata": {
    "ExecuteTime": {
     "end_time": "2025-06-23T11:58:36.519680Z",
     "start_time": "2025-06-23T11:58:36.469882Z"
    }
   },
   "cell_type": "code",
   "source": [
    "import matplotlib.pyplot as plt\n",
    "\n",
    "y_train_pred_scaled = model.predict(X_train_scaled)\n",
    "\n",
    "plt.scatter(X_train_scaled, y_train_scaled, color='blue', label='Train')\n",
    "plt.scatter(X_train_scaled, y_train_pred_scaled, color='red', label='Prédiction')\n",
    "plt.title(\"Forêt aléatoire – Entraînement (Appartements)\")\n",
    "plt.xlabel(\"Valeur foncière (standardisée)\")\n",
    "plt.ylabel(\"Prix m² (standardisé)\")\n",
    "plt.legend()\n",
    "plt.grid(True)\n",
    "plt.show()"
   ],
   "id": "b43d0282817a48b2",
   "outputs": [
    {
     "data": {
      "text/plain": [
       "<Figure size 640x480 with 1 Axes>"
      ],
      "image/png": "[encoded data removed]"
     },
     "metadata": {},
     "output_type": "display_data"
    }
   ],
   "execution_count": 63
  },
  {
   "metadata": {
    "ExecuteTime": {
     "end_time": "2025-06-23T11:58:41.951985Z",
     "start_time": "2025-06-23T11:58:41.947749Z"
    }
   },
   "cell_type": "code",
   "source": [
    "from sklearn.metrics import mean_squared_error, r2_score\n",
    "import numpy as np\n",
    "\n",
    "y_pred_scaled = model.predict(X_test_scaled)\n",
    "mse_forest_app = mean_squared_error(y_test_scaled, y_pred_scaled)\n",
    "\n",
    "print(\"MSE Appartements :\", mse_forest_app)\n",
    "print(\"RMSE Appartements :\", np.sqrt(mse_forest_app))\n",
    "print(\"R² Appartements :\", r2_score(y_test_scaled, y_pred_scaled))"
   ],
   "id": "a1a11cd2b8977fa4",
   "outputs": [
    {
     "name": "stdout",
     "output_type": "stream",
     "text": [
      "MSE Appartements : 0.2484454148870494\n",
      "RMSE Appartements : 0.49844299060880515\n",
      "R² Appartements : 0.6316452337839716\n"
     ]
    }
   ],
   "execution_count": 64
  },
  {
   "metadata": {
    "ExecuteTime": {
     "end_time": "2025-06-23T11:58:45.349971Z",
     "start_time": "2025-06-23T11:58:45.300090Z"
    }
   },
   "cell_type": "code",
   "source": [
    "plt.scatter(X_test_scaled, y_test_scaled, color='green', label='Valeur cible')\n",
    "plt.scatter(X_test_scaled, y_pred_scaled, color='pink', label='Prédiction')\n",
    "plt.title(\"Forêt aléatoire – Prédictions (Appartements)\")\n",
    "plt.xlabel(\"Valeur foncière (standardisée)\")\n",
    "plt.ylabel(\"Prix m² (standardisé)\")\n",
    "plt.legend()\n",
    "plt.grid(True)\n",
    "plt.show()"
   ],
   "id": "2aaaa024f748dd8a",
   "outputs": [
    {
     "data": {
      "text/plain": [
       "<Figure size 640x480 with 1 Axes>"
      ],
      "image/png": "[encoded data removed]"
     },
     "metadata": {},
     "output_type": "display_data"
    }
   ],
   "execution_count": 65
  },
  {
   "metadata": {
    "ExecuteTime": {
     "end_time": "2025-06-23T12:00:23.318102Z",
     "start_time": "2025-06-23T12:00:23.308486Z"
    }
   },
   "cell_type": "code",
   "source": [
    "os.makedirs(\"sauvegardes\", exist_ok=True)\n",
    "\n",
    "joblib.dump(model, \"sauvegardes/RandomForestRegressor/appartements/app_model_regression.pkl\")\n",
    "joblib.dump(scaler_X, \"sauvegardes/RandomForestRegressor/appartements//app_scaler_X.pkl\")\n",
    "joblib.dump(scaler_y, \"sauvegardes/RandomForestRegressor/appartements//app_scaler_y.pkl\")"
   ],
   "id": "3fcf11ce5ede7ce8",
   "outputs": [
    {
     "data": {
      "text/plain": [
       "['sauvegardes/RandomForestRegressor/appartements//app_scaler_y.pkl']"
      ]
     },
     "execution_count": 66,
     "metadata": {},
     "output_type": "execute_result"
    }
   ],
   "execution_count": 66
  },
  {
   "metadata": {},
   "cell_type": "markdown",
   "source": "modele RandomForestRegressor",
   "id": "e5761d76698d1dbb"
  },
  {
   "metadata": {
    "ExecuteTime": {
     "end_time": "2025-06-23T12:00:44.413123Z",
     "start_time": "2025-06-23T12:00:44.410563Z"
    }
   },
   "cell_type": "code",
   "source": [
    "X = df_maisons[['Valeur fonciere']].values\n",
    "y = df_maisons[[\"prix_m2\"]].values\n",
    "\n",
    "from sklearn.model_selection import train_test_split\n",
    "X_train, X_test, y_train, y_test = train_test_split(X, y, test_size=0.2, random_state=42)"
   ],
   "id": "fa80d7a5bc999489",
   "outputs": [],
   "execution_count": 67
  },
  {
   "metadata": {
    "ExecuteTime": {
     "end_time": "2025-06-23T12:00:45.941566Z",
     "start_time": "2025-06-23T12:00:45.938924Z"
    }
   },
   "cell_type": "code",
   "source": [
    "from sklearn.preprocessing import StandardScaler\n",
    "\n",
    "scaler_X = StandardScaler()\n",
    "scaler_y = StandardScaler()\n",
    "\n",
    "X_train_scaled = scaler_X.fit_transform(X_train)\n",
    "y_train_scaled = scaler_y.fit_transform(y_train)\n",
    "\n",
    "X_test_scaled = scaler_X.transform(X_test)\n",
    "y_test_scaled = scaler_y.transform(y_test)"
   ],
   "id": "2fe0606c694316cc",
   "outputs": [],
   "execution_count": 68
  },
  {
   "metadata": {
    "ExecuteTime": {
     "end_time": "2025-06-23T12:00:59.484908Z",
     "start_time": "2025-06-23T12:00:57.537992Z"
    }
   },
   "cell_type": "code",
   "source": [
    "from sklearn.ensemble import RandomForestRegressor\n",
    "from sklearn.model_selection import GridSearchCV\n",
    "\n",
    "param_grid = {\n",
    "    'n_estimators': [50, 100],\n",
    "    'max_depth': [None, 4, 6, 8],\n",
    "    'min_samples_split': [2, 5]\n",
    "}\n",
    "\n",
    "grid = GridSearchCV(RandomForestRegressor(random_state=42), param_grid, cv=5)\n",
    "grid.fit(X_train_scaled, y_train_scaled.ravel())\n",
    "\n",
    "model = grid.best_estimator_\n",
    "print(\"Meilleurs paramètres (Maisons) :\", grid.best_params_)"
   ],
   "id": "846e1a7a7ed670d9",
   "outputs": [
    {
     "name": "stdout",
     "output_type": "stream",
     "text": [
      "Meilleurs paramètres (Maisons) : {'max_depth': 4, 'min_samples_split': 2, 'n_estimators': 50}\n"
     ]
    }
   ],
   "execution_count": 69
  },
  {
   "metadata": {
    "ExecuteTime": {
     "end_time": "2025-06-23T12:01:15.563447Z",
     "start_time": "2025-06-23T12:01:15.515383Z"
    }
   },
   "cell_type": "code",
   "source": [
    "import matplotlib.pyplot as plt\n",
    "\n",
    "y_train_pred_scaled = model.predict(X_train_scaled)\n",
    "\n",
    "plt.scatter(X_train_scaled, y_train_scaled, color='blue', label='Train')\n",
    "plt.scatter(X_train_scaled, y_train_pred_scaled, color='red', label='Prédiction')\n",
    "plt.title(\"Forêt aléatoire – Entraînement (Maisons)\")\n",
    "plt.xlabel(\"Valeur foncière (standardisée)\")\n",
    "plt.ylabel(\"Prix m² (standardisé)\")\n",
    "plt.legend()\n",
    "plt.grid(True)\n",
    "plt.show()"
   ],
   "id": "895a975cadca3f76",
   "outputs": [
    {
     "data": {
      "text/plain": [
       "<Figure size 640x480 with 1 Axes>"
      ],
      "image/png": "[encoded data removed]"
     },
     "metadata": {},
     "output_type": "display_data"
    }
   ],
   "execution_count": 71
  },
  {
   "metadata": {
    "ExecuteTime": {
     "end_time": "2025-06-23T12:01:19.932792Z",
     "start_time": "2025-06-23T12:01:19.928800Z"
    }
   },
   "cell_type": "code",
   "source": [
    "from sklearn.metrics import mean_squared_error, r2_score\n",
    "import numpy as np\n",
    "\n",
    "y_pred_scaled = model.predict(X_test_scaled)\n",
    "mse_forest_mais = mean_squared_error(y_test_scaled, y_pred_scaled)\n",
    "\n",
    "print(\"MSE Maisons :\", mse_forest_mais)\n",
    "print(\"RMSE Maisons :\", np.sqrt(mse_forest_mais))\n",
    "print(\"R² Maisons :\", r2_score(y_test_scaled, y_pred_scaled))"
   ],
   "id": "eb4d85fde229c959",
   "outputs": [
    {
     "name": "stdout",
     "output_type": "stream",
     "text": [
      "MSE Maisons : 0.2484454148870494\n",
      "RMSE Maisons : 0.49844299060880515\n",
      "R² Maisons : 0.6316452337839716\n"
     ]
    }
   ],
   "execution_count": 72
  },
  {
   "metadata": {
    "ExecuteTime": {
     "end_time": "2025-06-23T12:01:22.168015Z",
     "start_time": "2025-06-23T12:01:22.122479Z"
    }
   },
   "cell_type": "code",
   "source": [
    "plt.scatter(X_test_scaled, y_test_scaled, color='green', label='Valeur cible')\n",
    "plt.scatter(X_test_scaled, y_pred_scaled, color='pink', label='Prédiction')\n",
    "plt.title(\"Forêt aléatoire – Prédictions (Maisons)\")\n",
    "plt.xlabel(\"Valeur foncière (standardisée)\")\n",
    "plt.ylabel(\"Prix m² (standardisé)\")\n",
    "plt.legend()\n",
    "plt.grid(True)\n",
    "plt.show()"
   ],
   "id": "62bd711bd902b242",
   "outputs": [
    {
     "data": {
      "text/plain": [
       "<Figure size 640x480 with 1 Axes>"
      ],
      "image/png": "[encoded data removed]"
     },
     "metadata": {},
     "output_type": "display_data"
    }
   ],
   "execution_count": 73
  },
  {
   "metadata": {
    "ExecuteTime": {
     "end_time": "2025-06-23T12:01:43.267086Z",
     "start_time": "2025-06-23T12:01:43.257830Z"
    }
   },
   "cell_type": "code",
   "source": [
    "os.makedirs(\"sauvegardes\", exist_ok=True)\n",
    "\n",
    "joblib.dump(model, \"sauvegardes/RandomForestRegressor/maisons/app_model_regression.pkl\")\n",
    "joblib.dump(scaler_X, \"sauvegardes/RandomForestRegressor/maisons//app_scaler_X.pkl\")\n",
    "joblib.dump(scaler_y, \"sauvegardes/RandomForestRegressor/maisons//app_scaler_y.pkl\")"
   ],
   "id": "8bc3a2c90bd9868f",
   "outputs": [
    {
     "data": {
      "text/plain": [
       "['sauvegardes/RandomForestRegressor/maisons//app_scaler_y.pkl']"
      ]
     },
     "execution_count": 74,
     "metadata": {},
     "output_type": "execute_result"
    }
   ],
   "execution_count": 74
  },
  {
   "metadata": {},
   "cell_type": "markdown",
   "source": "modèle XGBoost",
   "id": "626308dd58e2eb4a"
  },
  {
   "metadata": {
    "ExecuteTime": {
     "end_time": "2025-06-23T12:02:13.813287Z",
     "start_time": "2025-06-23T12:02:13.810555Z"
    }
   },
   "cell_type": "code",
   "source": [
    "X = df_appartements[['Valeur fonciere']].values\n",
    "y = df_appartements[[\"prix_m2\"]].values\n",
    "\n",
    "from sklearn.model_selection import train_test_split\n",
    "X_train, X_test, y_train, y_test = train_test_split(X, y, test_size=0.2, random_state=42)"
   ],
   "id": "f48c766f5fff537e",
   "outputs": [],
   "execution_count": 75
  },
  {
   "metadata": {
    "ExecuteTime": {
     "end_time": "2025-06-23T12:02:15.206864Z",
     "start_time": "2025-06-23T12:02:15.204066Z"
    }
   },
   "cell_type": "code",
   "source": [
    "from sklearn.preprocessing import StandardScaler\n",
    "\n",
    "scaler_X = StandardScaler()\n",
    "scaler_y = StandardScaler()\n",
    "\n",
    "X_train_scaled = scaler_X.fit_transform(X_train)\n",
    "y_train_scaled = scaler_y.fit_transform(y_train)\n",
    "\n",
    "X_test_scaled = scaler_X.transform(X_test)\n",
    "y_test_scaled = scaler_y.transform(y_test)"
   ],
   "id": "cd4553856d9c5291",
   "outputs": [],
   "execution_count": 76
  },
  {
   "metadata": {
    "ExecuteTime": {
     "end_time": "2025-06-23T12:02:26.616564Z",
     "start_time": "2025-06-23T12:02:17.467248Z"
    }
   },
   "cell_type": "code",
   "source": [
    "import xgboost as xgb\n",
    "from sklearn.model_selection import GridSearchCV\n",
    "\n",
    "param_grid = {\n",
    "    'n_estimators': [50, 100],\n",
    "    'max_depth': [2, 4, 6],\n",
    "    'learning_rate': [0.01, 0.1, 0.3]\n",
    "}\n",
    "\n",
    "grid = GridSearchCV(\n",
    "    xgb.XGBRegressor(objective='reg:squarederror', random_state=42),\n",
    "    param_grid,\n",
    "    cv=5\n",
    ")\n",
    "grid.fit(X_train_scaled, y_train_scaled.ravel())\n",
    "\n",
    "model = grid.best_estimator_\n",
    "print(\"Meilleurs paramètres (Appartements) :\", grid.best_params_)"
   ],
   "id": "3c128231b43d2c39",
   "outputs": [
    {
     "name": "stdout",
     "output_type": "stream",
     "text": [
      "Meilleurs paramètres (Appartements) : {'learning_rate': 0.1, 'max_depth': 2, 'n_estimators': 50}\n"
     ]
    }
   ],
   "execution_count": 77
  },
  {
   "metadata": {
    "ExecuteTime": {
     "end_time": "2025-06-23T12:02:28.995684Z",
     "start_time": "2025-06-23T12:02:28.942855Z"
    }
   },
   "cell_type": "code",
   "source": [
    "import matplotlib.pyplot as plt\n",
    "\n",
    "y_train_pred_scaled = model.predict(X_train_scaled)\n",
    "\n",
    "plt.scatter(X_train_scaled, y_train_scaled, color='blue', label='Train')\n",
    "plt.scatter(X_train_scaled, y_train_pred_scaled, color='red', label='Prédiction')\n",
    "plt.title(\"XGBoost – Entraînement (Appartements)\")\n",
    "plt.xlabel(\"Valeur foncière (standardisée)\")\n",
    "plt.ylabel(\"Prix m² (standardisé)\")\n",
    "plt.legend()\n",
    "plt.grid(True)\n",
    "plt.show()"
   ],
   "id": "e77ad64111cba7f6",
   "outputs": [
    {
     "data": {
      "text/plain": [
       "<Figure size 640x480 with 1 Axes>"
      ],
      "image/png": "[encoded data removed]"
     },
     "metadata": {},
     "output_type": "display_data"
    }
   ],
   "execution_count": 78
  },
  {
   "metadata": {
    "ExecuteTime": {
     "end_time": "2025-06-23T12:02:32.685612Z",
     "start_time": "2025-06-23T12:02:32.682770Z"
    }
   },
   "cell_type": "code",
   "source": [
    "from sklearn.metrics import mean_squared_error, r2_score\n",
    "import numpy as np\n",
    "\n",
    "y_pred_scaled = model.predict(X_test_scaled)\n",
    "mse_xgb_app = mean_squared_error(y_test_scaled, y_pred_scaled)\n",
    "\n",
    "print(\"MSE Appartements :\", mse_xgb_app)\n",
    "print(\"RMSE Appartements :\", np.sqrt(mse_xgb_app))\n",
    "print(\"R² Appartements :\", r2_score(y_test_scaled, y_pred_scaled))"
   ],
   "id": "adca9dc0b29da979",
   "outputs": [
    {
     "name": "stdout",
     "output_type": "stream",
     "text": [
      "MSE Appartements : 0.23953997565785765\n",
      "RMSE Appartements : 0.48942821297699796\n",
      "R² Appartements : 0.6448487818824999\n"
     ]
    }
   ],
   "execution_count": 79
  },
  {
   "metadata": {
    "ExecuteTime": {
     "end_time": "2025-06-23T12:02:35.978423Z",
     "start_time": "2025-06-23T12:02:35.930632Z"
    }
   },
   "cell_type": "code",
   "source": [
    "plt.scatter(X_test_scaled, y_test_scaled, color='green', label='Valeur cible')\n",
    "plt.scatter(X_test_scaled, y_pred_scaled, color='pink', label='Prédiction')\n",
    "plt.title(\"XGBoost – Prédictions (Appartements)\")\n",
    "plt.xlabel(\"Valeur foncière (standardisée)\")\n",
    "plt.ylabel(\"Prix m² (standardisé)\")\n",
    "plt.legend()\n",
    "plt.grid(True)\n",
    "plt.show()"
   ],
   "id": "5fbdafc701ac71ce",
   "outputs": [
    {
     "data": {
      "text/plain": [
       "<Figure size 640x480 with 1 Axes>"
      ],
      "image/png": "[encoded data removed]"
     },
     "metadata": {},
     "output_type": "display_data"
    }
   ],
   "execution_count": 80
  },
  {
   "metadata": {
    "ExecuteTime": {
     "end_time": "2025-06-23T12:04:53.840244Z",
     "start_time": "2025-06-23T12:04:53.836475Z"
    }
   },
   "cell_type": "code",
   "source": [
    "os.makedirs(\"sauvegardes\", exist_ok=True)\n",
    "\n",
    "joblib.dump(model, \"sauvegardes/XGBRegressor/appartements/app_model_regression.pkl\")\n",
    "joblib.dump(scaler_X, \"sauvegardes/XGBRegressor/appartements//app_scaler_X.pkl\")\n",
    "joblib.dump(scaler_y, \"sauvegardes/XGBRegressor/appartements//app_scaler_y.pkl\")"
   ],
   "id": "50d978d7541ba368",
   "outputs": [
    {
     "data": {
      "text/plain": [
       "['sauvegardes/XGBRegressor/appartements//app_scaler_y.pkl']"
      ]
     },
     "execution_count": 87,
     "metadata": {},
     "output_type": "execute_result"
    }
   ],
   "execution_count": 87
  },
  {
   "metadata": {
    "ExecuteTime": {
     "end_time": "2025-06-23T12:05:14.074435Z",
     "start_time": "2025-06-23T12:05:14.072038Z"
    }
   },
   "cell_type": "code",
   "source": [
    "X = df_maisons[['Valeur fonciere']].values\n",
    "y = df_maisons[[\"prix_m2\"]].values\n",
    "\n",
    "from sklearn.model_selection import train_test_split\n",
    "X_train, X_test, y_train, y_test = train_test_split(X, y, test_size=0.2, random_state=42)"
   ],
   "id": "a56ce50098603ee",
   "outputs": [],
   "execution_count": 88
  },
  {
   "metadata": {
    "ExecuteTime": {
     "end_time": "2025-06-23T12:05:36.093923Z",
     "start_time": "2025-06-23T12:05:36.091380Z"
    }
   },
   "cell_type": "code",
   "source": [
    "from sklearn.preprocessing import StandardScaler\n",
    "\n",
    "scaler_X = StandardScaler()\n",
    "scaler_y = StandardScaler()\n",
    "\n",
    "X_train_scaled = scaler_X.fit_transform(X_train)\n",
    "y_train_scaled = scaler_y.fit_transform(y_train)\n",
    "\n",
    "X_test_scaled = scaler_X.transform(X_test)\n",
    "y_test_scaled = scaler_y.transform(y_test)"
   ],
   "id": "d21ca43580c6f2f2",
   "outputs": [],
   "execution_count": 89
  },
  {
   "metadata": {
    "ExecuteTime": {
     "end_time": "2025-06-23T12:05:47.637578Z",
     "start_time": "2025-06-23T12:05:38.394515Z"
    }
   },
   "cell_type": "code",
   "source": [
    "import xgboost as xgb\n",
    "from sklearn.model_selection import GridSearchCV\n",
    "\n",
    "param_grid = {\n",
    "    'n_estimators': [50, 100],\n",
    "    'max_depth': [2, 4, 6],\n",
    "    'learning_rate': [0.01, 0.1, 0.3]\n",
    "}\n",
    "\n",
    "grid = GridSearchCV(\n",
    "    xgb.XGBRegressor(objective='reg:squarederror', random_state=42),\n",
    "    param_grid,\n",
    "    cv=5\n",
    ")\n",
    "grid.fit(X_train_scaled, y_train_scaled.ravel())\n",
    "\n",
    "model = grid.best_estimator_\n",
    "print(\"Meilleurs paramètres (Maisons) :\", grid.best_params_)"
   ],
   "id": "5736669cb2c5d29f",
   "outputs": [
    {
     "name": "stdout",
     "output_type": "stream",
     "text": [
      "Meilleurs paramètres (Maisons) : {'learning_rate': 0.1, 'max_depth': 2, 'n_estimators': 50}\n"
     ]
    }
   ],
   "execution_count": 90
  },
  {
   "metadata": {
    "ExecuteTime": {
     "end_time": "2025-06-23T12:05:47.701120Z",
     "start_time": "2025-06-23T12:05:47.654992Z"
    }
   },
   "cell_type": "code",
   "source": [
    "import matplotlib.pyplot as plt\n",
    "\n",
    "y_train_pred_scaled = model.predict(X_train_scaled)\n",
    "\n",
    "plt.scatter(X_train_scaled, y_train_scaled, color='blue', label='Train')\n",
    "plt.scatter(X_train_scaled, y_train_pred_scaled, color='red', label='Prédiction')\n",
    "plt.title(\"XGBoost – Entraînement (Maisons)\")\n",
    "plt.xlabel(\"Valeur foncière (standardisée)\")\n",
    "plt.ylabel(\"Prix m² (standardisé)\")\n",
    "plt.legend()\n",
    "plt.grid(True)\n",
    "plt.show()"
   ],
   "id": "1207143009cf59ad",
   "outputs": [
    {
     "data": {
      "text/plain": [
       "<Figure size 640x480 with 1 Axes>"
      ],
      "image/png": "[encoded data removed]"
     },
     "metadata": {},
     "output_type": "display_data"
    }
   ],
   "execution_count": 91
  },
  {
   "metadata": {
    "ExecuteTime": {
     "end_time": "2025-06-23T12:05:53.059018Z",
     "start_time": "2025-06-23T12:05:53.056110Z"
    }
   },
   "cell_type": "code",
   "source": [
    "from sklearn.metrics import mean_squared_error, r2_score\n",
    "import numpy as np\n",
    "\n",
    "y_pred_scaled = model.predict(X_test_scaled)\n",
    "mse_xgb_mais = mean_squared_error(y_test_scaled, y_pred_scaled)\n",
    "\n",
    "print(\"MSE Maisons :\", mse_xgb_mais)\n",
    "print(\"RMSE Maisons :\", np.sqrt(mse_xgb_mais))\n",
    "print(\"R² Maisons :\", r2_score(y_test_scaled, y_pred_scaled))"
   ],
   "id": "7a929c9d67a43bc6",
   "outputs": [
    {
     "name": "stdout",
     "output_type": "stream",
     "text": [
      "MSE Maisons : 0.23953997565785765\n",
      "RMSE Maisons : 0.48942821297699796\n",
      "R² Maisons : 0.6448487818824999\n"
     ]
    }
   ],
   "execution_count": 92
  },
  {
   "metadata": {
    "ExecuteTime": {
     "end_time": "2025-06-23T12:05:55.592003Z",
     "start_time": "2025-06-23T12:05:55.542422Z"
    }
   },
   "cell_type": "code",
   "source": [
    "plt.scatter(X_test_scaled, y_test_scaled, color='green', label='Valeur cible')\n",
    "plt.scatter(X_test_scaled, y_pred_scaled, color='pink', label='Prédiction')\n",
    "plt.title(\"XGBoost – Prédictions (Maisons)\")\n",
    "plt.xlabel(\"Valeur foncière (standardisée)\")\n",
    "plt.ylabel(\"Prix m² (standardisé)\")\n",
    "plt.legend()\n",
    "plt.grid(True)\n",
    "plt.show()"
   ],
   "id": "28c8bc63e008770f",
   "outputs": [
    {
     "data": {
      "text/plain": [
       "<Figure size 640x480 with 1 Axes>"
      ],
      "image/png": "[encoded data removed]"
     },
     "metadata": {},
     "output_type": "display_data"
    }
   ],
   "execution_count": 93
  },
  {
   "metadata": {
    "ExecuteTime": {
     "end_time": "2025-06-23T12:06:09.026728Z",
     "start_time": "2025-06-23T12:06:09.023134Z"
    }
   },
   "cell_type": "code",
   "source": [
    "os.makedirs(\"sauvegardes\", exist_ok=True)\n",
    "\n",
    "joblib.dump(model, \"sauvegardes/XGBRegressor/maisons/app_model_regression.pkl\")\n",
    "joblib.dump(scaler_X, \"sauvegardes/XGBRegressor/maisons//app_scaler_X.pkl\")\n",
    "joblib.dump(scaler_y, \"sauvegardes/XGBRegressor/maisons//app_scaler_y.pkl\")"
   ],
   "id": "6ddabf8caa3ef5e",
   "outputs": [
    {
     "data": {
      "text/plain": [
       "['sauvegardes/XGBRegressor/maisons//app_scaler_y.pkl']"
      ]
     },
     "execution_count": 94,
     "metadata": {},
     "output_type": "execute_result"
    }
   ],
   "execution_count": 94
  },
  {
   "metadata": {
    "ExecuteTime": {
     "end_time": "2025-06-23T12:06:26.544712Z",
     "start_time": "2025-06-23T12:06:26.510669Z"
    }
   },
   "cell_type": "code",
   "source": [
    "import pandas as pd\n",
    "\n",
    "# Tableau comparatif avec MSE pour Appartements & Maisons\n",
    "comparatif = pd.DataFrame({\n",
    "    \"Modèle\": [\n",
    "        \"Régression linéaire : LinearRegression\",\n",
    "        \"Arbre de décision : DecisionTreeRegressor\",\n",
    "        \"Forêt aléatoire : RandomForestRegressor\",\n",
    "        \"XGBoost : XGBRegressor\"\n",
    "    ],\n",
    "    \"MSE Appartements\": [\n",
    "        mse_linear_app,\n",
    "        mse_tree_app,\n",
    "        mse_forest_app,\n",
    "        mse_xgb_app\n",
    "    ],\n",
    "    \"MSE Maisons\": [\n",
    "        mse_linear_mais,\n",
    "        mse_tree_mais,\n",
    "        mse_forest_mais,\n",
    "        mse_xgb_mais\n",
    "    ]\n",
    "})\n",
    "\n",
    "# Mise en forme\n",
    "comparatif.set_index(\"Modèle\", inplace=True)\n",
    "\n",
    "# Stylisation propre et lisible\n",
    "styled_comparatif = comparatif.style\\\n",
    "    .format(\"{:.4f}\")\\\n",
    "    .highlight_min(axis=0, color=\"#C1F0C1\")\\\n",
    "    .highlight_max(axis=0, color=\"#F8C8DC\")\\\n",
    "    .set_properties(**{'color': 'black', 'background-color': 'white'})\\\n",
    "    .set_caption(\"📊 Comparatif des MSE pour Appartements et Maisons\")\\\n",
    "    .set_table_styles([\n",
    "        {\"selector\": \"caption\", \"props\": [(\"font-size\", \"16px\"), (\"font-weight\", \"bold\")]},\n",
    "        {\"selector\": \"th\", \"props\": [(\"color\", \"black\"), (\"background-color\", \"white\")]},\n",
    "        {\"selector\": \"td\", \"props\": [(\"color\", \"black\"), (\"background-color\", \"white\")]}\n",
    "    ])\n",
    "\n",
    "# Affichage du tableau\n",
    "display(styled_comparatif)\n"
   ],
   "id": "3e99591f11dfacf0",
   "outputs": [
    {
     "data": {
      "text/plain": [
       "<pandas.io.formats.style.Styler at 0x13707f880>"
      ],
      "text/html": [
       "<style type=\"text/css\">\n",
       "#T_23cbd caption {\n",
       "  font-size: 16px;\n",
       "  font-weight: bold;\n",
       "}\n",
       "#T_23cbd th {\n",
       "  color: black;\n",
       "  background-color: white;\n",
       "}\n",
       "#T_23cbd td {\n",
       "  color: black;\n",
       "  background-color: white;\n",
       "}\n",
       "#T_23cbd_row0_col0, #T_23cbd_row0_col1, #T_23cbd_row2_col0, #T_23cbd_row2_col1 {\n",
       "  color: black;\n",
       "  background-color: white;\n",
       "}\n",
       "#T_23cbd_row1_col0, #T_23cbd_row1_col1 {\n",
       "  background-color: #F8C8DC;\n",
       "  color: black;\n",
       "  background-color: white;\n",
       "}\n",
       "#T_23cbd_row3_col0, #T_23cbd_row3_col1 {\n",
       "  background-color: #C1F0C1;\n",
       "  color: black;\n",
       "  background-color: white;\n",
       "}\n",
       "</style>\n",
       "<table id=\"T_23cbd\">\n",
       "  <caption>📊 Comparatif des MSE pour Appartements et Maisons</caption>\n",
       "  <thead>\n",
       "    <tr>\n",
       "      <th class=\"blank level0\" >&nbsp;</th>\n",
       "      <th id=\"T_23cbd_level0_col0\" class=\"col_heading level0 col0\" >MSE Appartements</th>\n",
       "      <th id=\"T_23cbd_level0_col1\" class=\"col_heading level0 col1\" >MSE Maisons</th>\n",
       "    </tr>\n",
       "    <tr>\n",
       "      <th class=\"index_name level0\" >Modèle</th>\n",
       "      <th class=\"blank col0\" >&nbsp;</th>\n",
       "      <th class=\"blank col1\" >&nbsp;</th>\n",
       "    </tr>\n",
       "  </thead>\n",
       "  <tbody>\n",
       "    <tr>\n",
       "      <th id=\"T_23cbd_level0_row0\" class=\"row_heading level0 row0\" >Régression linéaire : LinearRegression</th>\n",
       "      <td id=\"T_23cbd_row0_col0\" class=\"data row0 col0\" >0.2416</td>\n",
       "      <td id=\"T_23cbd_row0_col1\" class=\"data row0 col1\" >0.2416</td>\n",
       "    </tr>\n",
       "    <tr>\n",
       "      <th id=\"T_23cbd_level0_row1\" class=\"row_heading level0 row1\" >Arbre de décision : DecisionTreeRegressor</th>\n",
       "      <td id=\"T_23cbd_row1_col0\" class=\"data row1 col0\" >0.2522</td>\n",
       "      <td id=\"T_23cbd_row1_col1\" class=\"data row1 col1\" >0.2522</td>\n",
       "    </tr>\n",
       "    <tr>\n",
       "      <th id=\"T_23cbd_level0_row2\" class=\"row_heading level0 row2\" >Forêt aléatoire : RandomForestRegressor</th>\n",
       "      <td id=\"T_23cbd_row2_col0\" class=\"data row2 col0\" >0.2484</td>\n",
       "      <td id=\"T_23cbd_row2_col1\" class=\"data row2 col1\" >0.2484</td>\n",
       "    </tr>\n",
       "    <tr>\n",
       "      <th id=\"T_23cbd_level0_row3\" class=\"row_heading level0 row3\" >XGBoost : XGBRegressor</th>\n",
       "      <td id=\"T_23cbd_row3_col0\" class=\"data row3 col0\" >0.2395</td>\n",
       "      <td id=\"T_23cbd_row3_col1\" class=\"data row3 col1\" >0.2395</td>\n",
       "    </tr>\n",
       "  </tbody>\n",
       "</table>\n"
      ]
     },
     "metadata": {},
     "output_type": "display_data"
    }
   ],
   "execution_count": 95
  }
 ],
 "metadata": {
  "kernelspec": {
   "display_name": "Python 3",
   "language": "python",
   "name": "python3"
  },
  "language_info": {
   "codemirror_mode": {
    "name": "ipython",
    "version": 2
   },
   "file_extension": ".py",
   "mimetype": "text/x-python",
   "name": "python",
   "nbconvert_exporter": "python",
   "pygments_lexer": "ipython2",
   "version": "2.7.6"
  }
 },
 "nbformat": 4,
 "nbformat_minor": 5
}
