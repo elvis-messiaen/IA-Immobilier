{
 "cells": [
  {
   "cell_type": "code",
   "id": "initial_id",
   "metadata": {
    "collapsed": true,
    "ExecuteTime": {
     "end_time": "2025-06-26T07:30:55.278924Z",
     "start_time": "2025-06-26T07:30:54.517357Z"
    }
   },
   "source": [
    "import pandas as pd\n",
    "import numpy as np\n",
    "import matplotlib.pyplot as plt\n",
    "from sklearn.linear_model import LinearRegression\n",
    "from sklearn.model_selection import train_test_split\n",
    "from sklearn.metrics import mean_squared_error, r2_score\n",
    "from sklearn.preprocessing import StandardScaler\n",
    "import joblib\n",
    "import os"
   ],
   "outputs": [],
   "execution_count": 1
  },
  {
   "metadata": {
    "ExecuteTime": {
     "end_time": "2025-06-26T07:30:55.352949Z",
     "start_time": "2025-06-26T07:30:55.336512Z"
    }
   },
   "cell_type": "code",
   "source": "df = pd.read_csv(\"../data/lille_2022.csv\")",
   "id": "a33abb48b557ecf",
   "outputs": [],
   "execution_count": 2
  },
  {
   "metadata": {
    "ExecuteTime": {
     "end_time": "2025-06-26T07:30:55.369156Z",
     "start_time": "2025-06-26T07:30:55.361257Z"
    }
   },
   "cell_type": "code",
   "source": "df.head()",
   "id": "c882f72fd548b4b8",
   "outputs": [
    {
     "data": {
      "text/plain": [
       "   Identifiant de document  Reference document  1 Articles CGI  \\\n",
       "0                      NaN                 NaN             NaN   \n",
       "1                      NaN                 NaN             NaN   \n",
       "2                      NaN                 NaN             NaN   \n",
       "3                      NaN                 NaN             NaN   \n",
       "4                      NaN                 NaN             NaN   \n",
       "\n",
       "   2 Articles CGI  3 Articles CGI  4 Articles CGI  5 Articles CGI  \\\n",
       "0             NaN             NaN             NaN             NaN   \n",
       "1             NaN             NaN             NaN             NaN   \n",
       "2             NaN             NaN             NaN             NaN   \n",
       "3             NaN             NaN             NaN             NaN   \n",
       "4             NaN             NaN             NaN             NaN   \n",
       "\n",
       "   No disposition Date mutation Nature mutation  ...  Nombre de lots  \\\n",
       "0               1    03/01/2022           Vente  ...               0   \n",
       "1               1    03/01/2022           Vente  ...               2   \n",
       "2               1    03/01/2022           Vente  ...               2   \n",
       "3               1    03/01/2022           Vente  ...               1   \n",
       "4               1    03/01/2022           Vente  ...               1   \n",
       "\n",
       "   Code type local   Type local Identifiant local Surface reelle bati  \\\n",
       "0              1.0       Maison               NaN                82.0   \n",
       "1              2.0  Appartement               NaN                63.0   \n",
       "2              3.0   Dépendance               NaN                 0.0   \n",
       "3              3.0   Dépendance               NaN                 0.0   \n",
       "4              3.0   Dépendance               NaN                 0.0   \n",
       "\n",
       "  Nombre pieces principales  Nature culture Nature culture speciale  \\\n",
       "0                       5.0               S                     NaN   \n",
       "1                       3.0             NaN                     NaN   \n",
       "2                       0.0             NaN                     NaN   \n",
       "3                       0.0             NaN                     NaN   \n",
       "4                       0.0             NaN                     NaN   \n",
       "\n",
       "   Surface terrain      prix_m2  \n",
       "0             70.0  2681.707317  \n",
       "1              NaN  2936.507937  \n",
       "2              NaN          inf  \n",
       "3              NaN          inf  \n",
       "4              NaN          inf  \n",
       "\n",
       "[5 rows x 44 columns]"
      ],
      "text/html": [
       "<div>\n",
       "<style scoped>\n",
       "    .dataframe tbody tr th:only-of-type {\n",
       "        vertical-align: middle;\n",
       "    }\n",
       "\n",
       "    .dataframe tbody tr th {\n",
       "        vertical-align: top;\n",
       "    }\n",
       "\n",
       "    .dataframe thead th {\n",
       "        text-align: right;\n",
       "    }\n",
       "</style>\n",
       "<table border=\"1\" class=\"dataframe\">\n",
       "  <thead>\n",
       "    <tr style=\"text-align: right;\">\n",
       "      <th></th>\n",
       "      <th>Identifiant de document</th>\n",
       "      <th>Reference document</th>\n",
       "      <th>1 Articles CGI</th>\n",
       "      <th>2 Articles CGI</th>\n",
       "      <th>3 Articles CGI</th>\n",
       "      <th>4 Articles CGI</th>\n",
       "      <th>5 Articles CGI</th>\n",
       "      <th>No disposition</th>\n",
       "      <th>Date mutation</th>\n",
       "      <th>Nature mutation</th>\n",
       "      <th>...</th>\n",
       "      <th>Nombre de lots</th>\n",
       "      <th>Code type local</th>\n",
       "      <th>Type local</th>\n",
       "      <th>Identifiant local</th>\n",
       "      <th>Surface reelle bati</th>\n",
       "      <th>Nombre pieces principales</th>\n",
       "      <th>Nature culture</th>\n",
       "      <th>Nature culture speciale</th>\n",
       "      <th>Surface terrain</th>\n",
       "      <th>prix_m2</th>\n",
       "    </tr>\n",
       "  </thead>\n",
       "  <tbody>\n",
       "    <tr>\n",
       "      <th>0</th>\n",
       "      <td>NaN</td>\n",
       "      <td>NaN</td>\n",
       "      <td>NaN</td>\n",
       "      <td>NaN</td>\n",
       "      <td>NaN</td>\n",
       "      <td>NaN</td>\n",
       "      <td>NaN</td>\n",
       "      <td>1</td>\n",
       "      <td>03/01/2022</td>\n",
       "      <td>Vente</td>\n",
       "      <td>...</td>\n",
       "      <td>0</td>\n",
       "      <td>1.0</td>\n",
       "      <td>Maison</td>\n",
       "      <td>NaN</td>\n",
       "      <td>82.0</td>\n",
       "      <td>5.0</td>\n",
       "      <td>S</td>\n",
       "      <td>NaN</td>\n",
       "      <td>70.0</td>\n",
       "      <td>2681.707317</td>\n",
       "    </tr>\n",
       "    <tr>\n",
       "      <th>1</th>\n",
       "      <td>NaN</td>\n",
       "      <td>NaN</td>\n",
       "      <td>NaN</td>\n",
       "      <td>NaN</td>\n",
       "      <td>NaN</td>\n",
       "      <td>NaN</td>\n",
       "      <td>NaN</td>\n",
       "      <td>1</td>\n",
       "      <td>03/01/2022</td>\n",
       "      <td>Vente</td>\n",
       "      <td>...</td>\n",
       "      <td>2</td>\n",
       "      <td>2.0</td>\n",
       "      <td>Appartement</td>\n",
       "      <td>NaN</td>\n",
       "      <td>63.0</td>\n",
       "      <td>3.0</td>\n",
       "      <td>NaN</td>\n",
       "      <td>NaN</td>\n",
       "      <td>NaN</td>\n",
       "      <td>2936.507937</td>\n",
       "    </tr>\n",
       "    <tr>\n",
       "      <th>2</th>\n",
       "      <td>NaN</td>\n",
       "      <td>NaN</td>\n",
       "      <td>NaN</td>\n",
       "      <td>NaN</td>\n",
       "      <td>NaN</td>\n",
       "      <td>NaN</td>\n",
       "      <td>NaN</td>\n",
       "      <td>1</td>\n",
       "      <td>03/01/2022</td>\n",
       "      <td>Vente</td>\n",
       "      <td>...</td>\n",
       "      <td>2</td>\n",
       "      <td>3.0</td>\n",
       "      <td>Dépendance</td>\n",
       "      <td>NaN</td>\n",
       "      <td>0.0</td>\n",
       "      <td>0.0</td>\n",
       "      <td>NaN</td>\n",
       "      <td>NaN</td>\n",
       "      <td>NaN</td>\n",
       "      <td>inf</td>\n",
       "    </tr>\n",
       "    <tr>\n",
       "      <th>3</th>\n",
       "      <td>NaN</td>\n",
       "      <td>NaN</td>\n",
       "      <td>NaN</td>\n",
       "      <td>NaN</td>\n",
       "      <td>NaN</td>\n",
       "      <td>NaN</td>\n",
       "      <td>NaN</td>\n",
       "      <td>1</td>\n",
       "      <td>03/01/2022</td>\n",
       "      <td>Vente</td>\n",
       "      <td>...</td>\n",
       "      <td>1</td>\n",
       "      <td>3.0</td>\n",
       "      <td>Dépendance</td>\n",
       "      <td>NaN</td>\n",
       "      <td>0.0</td>\n",
       "      <td>0.0</td>\n",
       "      <td>NaN</td>\n",
       "      <td>NaN</td>\n",
       "      <td>NaN</td>\n",
       "      <td>inf</td>\n",
       "    </tr>\n",
       "    <tr>\n",
       "      <th>4</th>\n",
       "      <td>NaN</td>\n",
       "      <td>NaN</td>\n",
       "      <td>NaN</td>\n",
       "      <td>NaN</td>\n",
       "      <td>NaN</td>\n",
       "      <td>NaN</td>\n",
       "      <td>NaN</td>\n",
       "      <td>1</td>\n",
       "      <td>03/01/2022</td>\n",
       "      <td>Vente</td>\n",
       "      <td>...</td>\n",
       "      <td>1</td>\n",
       "      <td>3.0</td>\n",
       "      <td>Dépendance</td>\n",
       "      <td>NaN</td>\n",
       "      <td>0.0</td>\n",
       "      <td>0.0</td>\n",
       "      <td>NaN</td>\n",
       "      <td>NaN</td>\n",
       "      <td>NaN</td>\n",
       "      <td>inf</td>\n",
       "    </tr>\n",
       "  </tbody>\n",
       "</table>\n",
       "<p>5 rows × 44 columns</p>\n",
       "</div>"
      ]
     },
     "execution_count": 3,
     "metadata": {},
     "output_type": "execute_result"
    }
   ],
   "execution_count": 3
  },
  {
   "metadata": {
    "ExecuteTime": {
     "end_time": "2025-06-26T07:30:55.402813Z",
     "start_time": "2025-06-26T07:30:55.396250Z"
    }
   },
   "cell_type": "code",
   "source": "df.info()",
   "id": "a656b458d0ed0d56",
   "outputs": [
    {
     "name": "stdout",
     "output_type": "stream",
     "text": [
      "<class 'pandas.core.frame.DataFrame'>\n",
      "RangeIndex: 11354 entries, 0 to 11353\n",
      "Data columns (total 44 columns):\n",
      " #   Column                      Non-Null Count  Dtype  \n",
      "---  ------                      --------------  -----  \n",
      " 0   Identifiant de document     0 non-null      float64\n",
      " 1   Reference document          0 non-null      float64\n",
      " 2   1 Articles CGI              0 non-null      float64\n",
      " 3   2 Articles CGI              0 non-null      float64\n",
      " 4   3 Articles CGI              0 non-null      float64\n",
      " 5   4 Articles CGI              0 non-null      float64\n",
      " 6   5 Articles CGI              0 non-null      float64\n",
      " 7   No disposition              11354 non-null  int64  \n",
      " 8   Date mutation               11354 non-null  object \n",
      " 9   Nature mutation             11354 non-null  object \n",
      " 10  Valeur fonciere             11354 non-null  float64\n",
      " 11  No voie                     11248 non-null  float64\n",
      " 12  B/T/Q                       652 non-null    object \n",
      " 13  Type de voie                11328 non-null  object \n",
      " 14  Code voie                   11354 non-null  object \n",
      " 15  Voie                        11354 non-null  object \n",
      " 16  Code postal                 11354 non-null  float64\n",
      " 17  Commune                     11354 non-null  object \n",
      " 18  Code departement            11354 non-null  int64  \n",
      " 19  Code commune                11354 non-null  int64  \n",
      " 20  Prefixe de section          1528 non-null   float64\n",
      " 21  Section                     11354 non-null  object \n",
      " 22  No plan                     11354 non-null  int64  \n",
      " 23  No Volume                   0 non-null      float64\n",
      " 24  1er lot                     7682 non-null   float64\n",
      " 25  Surface Carrez du 1er lot   2442 non-null   object \n",
      " 26  2eme lot                    2601 non-null   float64\n",
      " 27  Surface Carrez du 2eme lot  613 non-null    object \n",
      " 28  3eme lot                    360 non-null    float64\n",
      " 29  Surface Carrez du 3eme lot  75 non-null     object \n",
      " 30  4eme lot                    106 non-null    float64\n",
      " 31  Surface Carrez du 4eme lot  19 non-null     object \n",
      " 32  5eme lot                    50 non-null     float64\n",
      " 33  Surface Carrez du 5eme lot  16 non-null     object \n",
      " 34  Nombre de lots              11354 non-null  int64  \n",
      " 35  Code type local             11354 non-null  float64\n",
      " 36  Type local                  11354 non-null  object \n",
      " 37  Identifiant local           0 non-null      float64\n",
      " 38  Surface reelle bati         11354 non-null  float64\n",
      " 39  Nombre pieces principales   11354 non-null  float64\n",
      " 40  Nature culture              3672 non-null   object \n",
      " 41  Nature culture speciale     0 non-null      float64\n",
      " 42  Surface terrain             3672 non-null   float64\n",
      " 43  prix_m2                     11354 non-null  float64\n",
      "dtypes: float64(24), int64(5), object(15)\n",
      "memory usage: 3.8+ MB\n"
     ]
    }
   ],
   "execution_count": 4
  },
  {
   "metadata": {
    "ExecuteTime": {
     "end_time": "2025-06-26T07:30:55.445400Z",
     "start_time": "2025-06-26T07:30:55.425877Z"
    }
   },
   "cell_type": "code",
   "source": "df.describe()",
   "id": "a8133fb71a44c416",
   "outputs": [
    {
     "name": "stderr",
     "output_type": "stream",
     "text": [
      "/Users/Simplon/Cours/api_rest/projets/IA&Immobilier/.venv/lib/python3.10/site-packages/pandas/core/nanops.py:1016: RuntimeWarning: invalid value encountered in subtract\n",
      "  sqr = _ensure_numeric((avg - values) ** 2)\n",
      "/Users/Simplon/Cours/api_rest/projets/IA&Immobilier/.venv/lib/python3.10/site-packages/numpy/lib/_function_base_impl.py:4653: RuntimeWarning: invalid value encountered in subtract\n",
      "  diff_b_a = subtract(b, a)\n"
     ]
    },
    {
     "data": {
      "text/plain": [
       "       Identifiant de document  Reference document  1 Articles CGI  \\\n",
       "count                      0.0                 0.0             0.0   \n",
       "mean                       NaN                 NaN             NaN   \n",
       "std                        NaN                 NaN             NaN   \n",
       "min                        NaN                 NaN             NaN   \n",
       "25%                        NaN                 NaN             NaN   \n",
       "50%                        NaN                 NaN             NaN   \n",
       "75%                        NaN                 NaN             NaN   \n",
       "max                        NaN                 NaN             NaN   \n",
       "\n",
       "       2 Articles CGI  3 Articles CGI  4 Articles CGI  5 Articles CGI  \\\n",
       "count             0.0             0.0             0.0             0.0   \n",
       "mean              NaN             NaN             NaN             NaN   \n",
       "std               NaN             NaN             NaN             NaN   \n",
       "min               NaN             NaN             NaN             NaN   \n",
       "25%               NaN             NaN             NaN             NaN   \n",
       "50%               NaN             NaN             NaN             NaN   \n",
       "75%               NaN             NaN             NaN             NaN   \n",
       "max               NaN             NaN             NaN             NaN   \n",
       "\n",
       "       No disposition  Valeur fonciere       No voie  ...     4eme lot  \\\n",
       "count    11354.000000     1.135400e+04  11248.000000  ...   106.000000   \n",
       "mean         1.003963     6.906027e+05    199.709015  ...    84.905660   \n",
       "std          0.062833     2.354745e+06   1072.930117  ...   373.543662   \n",
       "min          1.000000     1.000000e+00      1.000000  ...     3.000000   \n",
       "25%          1.000000     1.545000e+05     13.000000  ...     7.000000   \n",
       "50%          1.000000     2.275175e+05     35.000000  ...     9.000000   \n",
       "75%          1.000000     3.651500e+05     91.000000  ...    31.000000   \n",
       "max          2.000000     6.180000e+07   9999.000000  ...  3004.000000   \n",
       "\n",
       "          5eme lot  Nombre de lots  Code type local  Identifiant local  \\\n",
       "count    50.000000    11354.000000     11354.000000                0.0   \n",
       "mean     94.180000        0.957812         2.472521                NaN   \n",
       "std     346.065388        0.899357         0.789471                NaN   \n",
       "min       7.000000        0.000000         1.000000                NaN   \n",
       "25%       9.000000        0.000000         2.000000                NaN   \n",
       "50%      19.000000        1.000000         2.000000                NaN   \n",
       "75%      32.000000        1.000000         3.000000                NaN   \n",
       "max    2256.000000       17.000000         4.000000                NaN   \n",
       "\n",
       "       Surface reelle bati  Nombre pieces principales  \\\n",
       "count         11354.000000               11354.000000   \n",
       "mean             42.131760                   1.323146   \n",
       "std             175.379622                   1.666542   \n",
       "min               0.000000                   0.000000   \n",
       "25%               0.000000                   0.000000   \n",
       "50%              22.000000                   1.000000   \n",
       "75%              59.000000                   2.000000   \n",
       "max           10945.000000                  14.000000   \n",
       "\n",
       "       Nature culture speciale  Surface terrain       prix_m2  \n",
       "count                      0.0      3672.000000  1.135400e+04  \n",
       "mean                       NaN       236.449619           inf  \n",
       "std                        NaN       629.515964           NaN  \n",
       "min                        NaN         4.000000  1.347709e-04  \n",
       "25%                        NaN        78.000000  3.851514e+03  \n",
       "50%                        NaN       124.000000  1.685750e+04  \n",
       "75%                        NaN       221.000000           NaN  \n",
       "max                        NaN     18147.000000           inf  \n",
       "\n",
       "[8 rows x 29 columns]"
      ],
      "text/html": [
       "<div>\n",
       "<style scoped>\n",
       "    .dataframe tbody tr th:only-of-type {\n",
       "        vertical-align: middle;\n",
       "    }\n",
       "\n",
       "    .dataframe tbody tr th {\n",
       "        vertical-align: top;\n",
       "    }\n",
       "\n",
       "    .dataframe thead th {\n",
       "        text-align: right;\n",
       "    }\n",
       "</style>\n",
       "<table border=\"1\" class=\"dataframe\">\n",
       "  <thead>\n",
       "    <tr style=\"text-align: right;\">\n",
       "      <th></th>\n",
       "      <th>Identifiant de document</th>\n",
       "      <th>Reference document</th>\n",
       "      <th>1 Articles CGI</th>\n",
       "      <th>2 Articles CGI</th>\n",
       "      <th>3 Articles CGI</th>\n",
       "      <th>4 Articles CGI</th>\n",
       "      <th>5 Articles CGI</th>\n",
       "      <th>No disposition</th>\n",
       "      <th>Valeur fonciere</th>\n",
       "      <th>No voie</th>\n",
       "      <th>...</th>\n",
       "      <th>4eme lot</th>\n",
       "      <th>5eme lot</th>\n",
       "      <th>Nombre de lots</th>\n",
       "      <th>Code type local</th>\n",
       "      <th>Identifiant local</th>\n",
       "      <th>Surface reelle bati</th>\n",
       "      <th>Nombre pieces principales</th>\n",
       "      <th>Nature culture speciale</th>\n",
       "      <th>Surface terrain</th>\n",
       "      <th>prix_m2</th>\n",
       "    </tr>\n",
       "  </thead>\n",
       "  <tbody>\n",
       "    <tr>\n",
       "      <th>count</th>\n",
       "      <td>0.0</td>\n",
       "      <td>0.0</td>\n",
       "      <td>0.0</td>\n",
       "      <td>0.0</td>\n",
       "      <td>0.0</td>\n",
       "      <td>0.0</td>\n",
       "      <td>0.0</td>\n",
       "      <td>11354.000000</td>\n",
       "      <td>1.135400e+04</td>\n",
       "      <td>11248.000000</td>\n",
       "      <td>...</td>\n",
       "      <td>106.000000</td>\n",
       "      <td>50.000000</td>\n",
       "      <td>11354.000000</td>\n",
       "      <td>11354.000000</td>\n",
       "      <td>0.0</td>\n",
       "      <td>11354.000000</td>\n",
       "      <td>11354.000000</td>\n",
       "      <td>0.0</td>\n",
       "      <td>3672.000000</td>\n",
       "      <td>1.135400e+04</td>\n",
       "    </tr>\n",
       "    <tr>\n",
       "      <th>mean</th>\n",
       "      <td>NaN</td>\n",
       "      <td>NaN</td>\n",
       "      <td>NaN</td>\n",
       "      <td>NaN</td>\n",
       "      <td>NaN</td>\n",
       "      <td>NaN</td>\n",
       "      <td>NaN</td>\n",
       "      <td>1.003963</td>\n",
       "      <td>6.906027e+05</td>\n",
       "      <td>199.709015</td>\n",
       "      <td>...</td>\n",
       "      <td>84.905660</td>\n",
       "      <td>94.180000</td>\n",
       "      <td>0.957812</td>\n",
       "      <td>2.472521</td>\n",
       "      <td>NaN</td>\n",
       "      <td>42.131760</td>\n",
       "      <td>1.323146</td>\n",
       "      <td>NaN</td>\n",
       "      <td>236.449619</td>\n",
       "      <td>inf</td>\n",
       "    </tr>\n",
       "    <tr>\n",
       "      <th>std</th>\n",
       "      <td>NaN</td>\n",
       "      <td>NaN</td>\n",
       "      <td>NaN</td>\n",
       "      <td>NaN</td>\n",
       "      <td>NaN</td>\n",
       "      <td>NaN</td>\n",
       "      <td>NaN</td>\n",
       "      <td>0.062833</td>\n",
       "      <td>2.354745e+06</td>\n",
       "      <td>1072.930117</td>\n",
       "      <td>...</td>\n",
       "      <td>373.543662</td>\n",
       "      <td>346.065388</td>\n",
       "      <td>0.899357</td>\n",
       "      <td>0.789471</td>\n",
       "      <td>NaN</td>\n",
       "      <td>175.379622</td>\n",
       "      <td>1.666542</td>\n",
       "      <td>NaN</td>\n",
       "      <td>629.515964</td>\n",
       "      <td>NaN</td>\n",
       "    </tr>\n",
       "    <tr>\n",
       "      <th>min</th>\n",
       "      <td>NaN</td>\n",
       "      <td>NaN</td>\n",
       "      <td>NaN</td>\n",
       "      <td>NaN</td>\n",
       "      <td>NaN</td>\n",
       "      <td>NaN</td>\n",
       "      <td>NaN</td>\n",
       "      <td>1.000000</td>\n",
       "      <td>1.000000e+00</td>\n",
       "      <td>1.000000</td>\n",
       "      <td>...</td>\n",
       "      <td>3.000000</td>\n",
       "      <td>7.000000</td>\n",
       "      <td>0.000000</td>\n",
       "      <td>1.000000</td>\n",
       "      <td>NaN</td>\n",
       "      <td>0.000000</td>\n",
       "      <td>0.000000</td>\n",
       "      <td>NaN</td>\n",
       "      <td>4.000000</td>\n",
       "      <td>1.347709e-04</td>\n",
       "    </tr>\n",
       "    <tr>\n",
       "      <th>25%</th>\n",
       "      <td>NaN</td>\n",
       "      <td>NaN</td>\n",
       "      <td>NaN</td>\n",
       "      <td>NaN</td>\n",
       "      <td>NaN</td>\n",
       "      <td>NaN</td>\n",
       "      <td>NaN</td>\n",
       "      <td>1.000000</td>\n",
       "      <td>1.545000e+05</td>\n",
       "      <td>13.000000</td>\n",
       "      <td>...</td>\n",
       "      <td>7.000000</td>\n",
       "      <td>9.000000</td>\n",
       "      <td>0.000000</td>\n",
       "      <td>2.000000</td>\n",
       "      <td>NaN</td>\n",
       "      <td>0.000000</td>\n",
       "      <td>0.000000</td>\n",
       "      <td>NaN</td>\n",
       "      <td>78.000000</td>\n",
       "      <td>3.851514e+03</td>\n",
       "    </tr>\n",
       "    <tr>\n",
       "      <th>50%</th>\n",
       "      <td>NaN</td>\n",
       "      <td>NaN</td>\n",
       "      <td>NaN</td>\n",
       "      <td>NaN</td>\n",
       "      <td>NaN</td>\n",
       "      <td>NaN</td>\n",
       "      <td>NaN</td>\n",
       "      <td>1.000000</td>\n",
       "      <td>2.275175e+05</td>\n",
       "      <td>35.000000</td>\n",
       "      <td>...</td>\n",
       "      <td>9.000000</td>\n",
       "      <td>19.000000</td>\n",
       "      <td>1.000000</td>\n",
       "      <td>2.000000</td>\n",
       "      <td>NaN</td>\n",
       "      <td>22.000000</td>\n",
       "      <td>1.000000</td>\n",
       "      <td>NaN</td>\n",
       "      <td>124.000000</td>\n",
       "      <td>1.685750e+04</td>\n",
       "    </tr>\n",
       "    <tr>\n",
       "      <th>75%</th>\n",
       "      <td>NaN</td>\n",
       "      <td>NaN</td>\n",
       "      <td>NaN</td>\n",
       "      <td>NaN</td>\n",
       "      <td>NaN</td>\n",
       "      <td>NaN</td>\n",
       "      <td>NaN</td>\n",
       "      <td>1.000000</td>\n",
       "      <td>3.651500e+05</td>\n",
       "      <td>91.000000</td>\n",
       "      <td>...</td>\n",
       "      <td>31.000000</td>\n",
       "      <td>32.000000</td>\n",
       "      <td>1.000000</td>\n",
       "      <td>3.000000</td>\n",
       "      <td>NaN</td>\n",
       "      <td>59.000000</td>\n",
       "      <td>2.000000</td>\n",
       "      <td>NaN</td>\n",
       "      <td>221.000000</td>\n",
       "      <td>NaN</td>\n",
       "    </tr>\n",
       "    <tr>\n",
       "      <th>max</th>\n",
       "      <td>NaN</td>\n",
       "      <td>NaN</td>\n",
       "      <td>NaN</td>\n",
       "      <td>NaN</td>\n",
       "      <td>NaN</td>\n",
       "      <td>NaN</td>\n",
       "      <td>NaN</td>\n",
       "      <td>2.000000</td>\n",
       "      <td>6.180000e+07</td>\n",
       "      <td>9999.000000</td>\n",
       "      <td>...</td>\n",
       "      <td>3004.000000</td>\n",
       "      <td>2256.000000</td>\n",
       "      <td>17.000000</td>\n",
       "      <td>4.000000</td>\n",
       "      <td>NaN</td>\n",
       "      <td>10945.000000</td>\n",
       "      <td>14.000000</td>\n",
       "      <td>NaN</td>\n",
       "      <td>18147.000000</td>\n",
       "      <td>inf</td>\n",
       "    </tr>\n",
       "  </tbody>\n",
       "</table>\n",
       "<p>8 rows × 29 columns</p>\n",
       "</div>"
      ]
     },
     "execution_count": 5,
     "metadata": {},
     "output_type": "execute_result"
    }
   ],
   "execution_count": 5
  },
  {
   "metadata": {
    "ExecuteTime": {
     "end_time": "2025-06-26T07:30:55.501326Z",
     "start_time": "2025-06-26T07:30:55.493066Z"
    }
   },
   "cell_type": "code",
   "source": [
    "df = df[df[\"Nombre pieces principales\"] == 4.0]\n",
    "df.head(20)"
   ],
   "id": "43e8d0c39c64e533",
   "outputs": [
    {
     "data": {
      "text/plain": [
       "     Identifiant de document  Reference document  1 Articles CGI  \\\n",
       "18                       NaN                 NaN             NaN   \n",
       "23                       NaN                 NaN             NaN   \n",
       "26                       NaN                 NaN             NaN   \n",
       "58                       NaN                 NaN             NaN   \n",
       "62                       NaN                 NaN             NaN   \n",
       "65                       NaN                 NaN             NaN   \n",
       "113                      NaN                 NaN             NaN   \n",
       "161                      NaN                 NaN             NaN   \n",
       "168                      NaN                 NaN             NaN   \n",
       "176                      NaN                 NaN             NaN   \n",
       "231                      NaN                 NaN             NaN   \n",
       "245                      NaN                 NaN             NaN   \n",
       "266                      NaN                 NaN             NaN   \n",
       "272                      NaN                 NaN             NaN   \n",
       "277                      NaN                 NaN             NaN   \n",
       "312                      NaN                 NaN             NaN   \n",
       "327                      NaN                 NaN             NaN   \n",
       "339                      NaN                 NaN             NaN   \n",
       "365                      NaN                 NaN             NaN   \n",
       "379                      NaN                 NaN             NaN   \n",
       "\n",
       "     2 Articles CGI  3 Articles CGI  4 Articles CGI  5 Articles CGI  \\\n",
       "18              NaN             NaN             NaN             NaN   \n",
       "23              NaN             NaN             NaN             NaN   \n",
       "26              NaN             NaN             NaN             NaN   \n",
       "58              NaN             NaN             NaN             NaN   \n",
       "62              NaN             NaN             NaN             NaN   \n",
       "65              NaN             NaN             NaN             NaN   \n",
       "113             NaN             NaN             NaN             NaN   \n",
       "161             NaN             NaN             NaN             NaN   \n",
       "168             NaN             NaN             NaN             NaN   \n",
       "176             NaN             NaN             NaN             NaN   \n",
       "231             NaN             NaN             NaN             NaN   \n",
       "245             NaN             NaN             NaN             NaN   \n",
       "266             NaN             NaN             NaN             NaN   \n",
       "272             NaN             NaN             NaN             NaN   \n",
       "277             NaN             NaN             NaN             NaN   \n",
       "312             NaN             NaN             NaN             NaN   \n",
       "327             NaN             NaN             NaN             NaN   \n",
       "339             NaN             NaN             NaN             NaN   \n",
       "365             NaN             NaN             NaN             NaN   \n",
       "379             NaN             NaN             NaN             NaN   \n",
       "\n",
       "     No disposition Date mutation Nature mutation  ...  Nombre de lots  \\\n",
       "18                1    05/01/2022           Vente  ...               0   \n",
       "23                1    06/01/2022           Vente  ...               1   \n",
       "26                1    06/01/2022           Vente  ...               2   \n",
       "58                1    04/01/2022           Vente  ...               2   \n",
       "62                1    07/01/2022           Vente  ...               1   \n",
       "65                1    04/01/2022           Vente  ...               0   \n",
       "113               1    12/01/2022           Vente  ...               1   \n",
       "161               1    05/01/2022           Vente  ...               0   \n",
       "168               1    19/01/2022           Vente  ...               0   \n",
       "176               1    20/01/2022           Vente  ...               0   \n",
       "231               1    20/01/2022           Vente  ...               0   \n",
       "245               1    07/01/2022           Vente  ...               2   \n",
       "266               1    19/01/2022           Vente  ...               1   \n",
       "272               1    21/01/2022           Vente  ...               1   \n",
       "277               1    03/01/2022           Vente  ...               1   \n",
       "312               1    25/01/2022           Vente  ...               0   \n",
       "327               1    25/01/2022           Vente  ...               1   \n",
       "339               1    26/01/2022           Vente  ...               1   \n",
       "365               1    25/01/2022           Vente  ...               0   \n",
       "379               1    21/01/2022           Vente  ...               0   \n",
       "\n",
       "     Code type local   Type local Identifiant local Surface reelle bati  \\\n",
       "18               1.0       Maison               NaN               165.0   \n",
       "23               2.0  Appartement               NaN                92.0   \n",
       "26               2.0  Appartement               NaN                70.0   \n",
       "58               2.0  Appartement               NaN               105.0   \n",
       "62               2.0  Appartement               NaN               120.0   \n",
       "65               1.0       Maison               NaN                64.0   \n",
       "113              2.0  Appartement               NaN                71.0   \n",
       "161              1.0       Maison               NaN                70.0   \n",
       "168              1.0       Maison               NaN                62.0   \n",
       "176              1.0       Maison               NaN                72.0   \n",
       "231              1.0       Maison               NaN                80.0   \n",
       "245              2.0  Appartement               NaN                76.0   \n",
       "266              2.0  Appartement               NaN                91.0   \n",
       "272              2.0  Appartement               NaN               146.0   \n",
       "277              2.0  Appartement               NaN                84.0   \n",
       "312              1.0       Maison               NaN                65.0   \n",
       "327              2.0  Appartement               NaN               100.0   \n",
       "339              2.0  Appartement               NaN                85.0   \n",
       "365              1.0       Maison               NaN                88.0   \n",
       "379              1.0       Maison               NaN                93.0   \n",
       "\n",
       "    Nombre pieces principales  Nature culture Nature culture speciale  \\\n",
       "18                        4.0               S                     NaN   \n",
       "23                        4.0             NaN                     NaN   \n",
       "26                        4.0             NaN                     NaN   \n",
       "58                        4.0             NaN                     NaN   \n",
       "62                        4.0             NaN                     NaN   \n",
       "65                        4.0               S                     NaN   \n",
       "113                       4.0             NaN                     NaN   \n",
       "161                       4.0               S                     NaN   \n",
       "168                       4.0               S                     NaN   \n",
       "176                       4.0               S                     NaN   \n",
       "231                       4.0               S                     NaN   \n",
       "245                       4.0             NaN                     NaN   \n",
       "266                       4.0             NaN                     NaN   \n",
       "272                       4.0             NaN                     NaN   \n",
       "277                       4.0             NaN                     NaN   \n",
       "312                       4.0               S                     NaN   \n",
       "327                       4.0             NaN                     NaN   \n",
       "339                       4.0             NaN                     NaN   \n",
       "365                       4.0               S                     NaN   \n",
       "379                       4.0               S                     NaN   \n",
       "\n",
       "     Surface terrain      prix_m2  \n",
       "18             121.0  1848.484848  \n",
       "23               NaN  3989.130435  \n",
       "26               NaN  2428.571429  \n",
       "58               NaN  3383.809524  \n",
       "62               NaN  3937.500000  \n",
       "65             127.0  3545.312500  \n",
       "113              NaN  3238.028169  \n",
       "161            192.0  2941.285714  \n",
       "168             96.0  2572.580645  \n",
       "176            135.0  3609.722222  \n",
       "231            182.0  2750.000000  \n",
       "245              NaN  2697.368421  \n",
       "266              NaN  2338.131868  \n",
       "272              NaN  3821.917808  \n",
       "277              NaN  2678.571429  \n",
       "312             47.0  3129.230769  \n",
       "327              NaN  3892.000000  \n",
       "339              NaN  4336.317647  \n",
       "365            117.0  3244.318182  \n",
       "379            131.0  3062.365591  \n",
       "\n",
       "[20 rows x 44 columns]"
      ],
      "text/html": [
       "<div>\n",
       "<style scoped>\n",
       "    .dataframe tbody tr th:only-of-type {\n",
       "        vertical-align: middle;\n",
       "    }\n",
       "\n",
       "    .dataframe tbody tr th {\n",
       "        vertical-align: top;\n",
       "    }\n",
       "\n",
       "    .dataframe thead th {\n",
       "        text-align: right;\n",
       "    }\n",
       "</style>\n",
       "<table border=\"1\" class=\"dataframe\">\n",
       "  <thead>\n",
       "    <tr style=\"text-align: right;\">\n",
       "      <th></th>\n",
       "      <th>Identifiant de document</th>\n",
       "      <th>Reference document</th>\n",
       "      <th>1 Articles CGI</th>\n",
       "      <th>2 Articles CGI</th>\n",
       "      <th>3 Articles CGI</th>\n",
       "      <th>4 Articles CGI</th>\n",
       "      <th>5 Articles CGI</th>\n",
       "      <th>No disposition</th>\n",
       "      <th>Date mutation</th>\n",
       "      <th>Nature mutation</th>\n",
       "      <th>...</th>\n",
       "      <th>Nombre de lots</th>\n",
       "      <th>Code type local</th>\n",
       "      <th>Type local</th>\n",
       "      <th>Identifiant local</th>\n",
       "      <th>Surface reelle bati</th>\n",
       "      <th>Nombre pieces principales</th>\n",
       "      <th>Nature culture</th>\n",
       "      <th>Nature culture speciale</th>\n",
       "      <th>Surface terrain</th>\n",
       "      <th>prix_m2</th>\n",
       "    </tr>\n",
       "  </thead>\n",
       "  <tbody>\n",
       "    <tr>\n",
       "      <th>18</th>\n",
       "      <td>NaN</td>\n",
       "      <td>NaN</td>\n",
       "      <td>NaN</td>\n",
       "      <td>NaN</td>\n",
       "      <td>NaN</td>\n",
       "      <td>NaN</td>\n",
       "      <td>NaN</td>\n",
       "      <td>1</td>\n",
       "      <td>05/01/2022</td>\n",
       "      <td>Vente</td>\n",
       "      <td>...</td>\n",
       "      <td>0</td>\n",
       "      <td>1.0</td>\n",
       "      <td>Maison</td>\n",
       "      <td>NaN</td>\n",
       "      <td>165.0</td>\n",
       "      <td>4.0</td>\n",
       "      <td>S</td>\n",
       "      <td>NaN</td>\n",
       "      <td>121.0</td>\n",
       "      <td>1848.484848</td>\n",
       "    </tr>\n",
       "    <tr>\n",
       "      <th>23</th>\n",
       "      <td>NaN</td>\n",
       "      <td>NaN</td>\n",
       "      <td>NaN</td>\n",
       "      <td>NaN</td>\n",
       "      <td>NaN</td>\n",
       "      <td>NaN</td>\n",
       "      <td>NaN</td>\n",
       "      <td>1</td>\n",
       "      <td>06/01/2022</td>\n",
       "      <td>Vente</td>\n",
       "      <td>...</td>\n",
       "      <td>1</td>\n",
       "      <td>2.0</td>\n",
       "      <td>Appartement</td>\n",
       "      <td>NaN</td>\n",
       "      <td>92.0</td>\n",
       "      <td>4.0</td>\n",
       "      <td>NaN</td>\n",
       "      <td>NaN</td>\n",
       "      <td>NaN</td>\n",
       "      <td>3989.130435</td>\n",
       "    </tr>\n",
       "    <tr>\n",
       "      <th>26</th>\n",
       "      <td>NaN</td>\n",
       "      <td>NaN</td>\n",
       "      <td>NaN</td>\n",
       "      <td>NaN</td>\n",
       "      <td>NaN</td>\n",
       "      <td>NaN</td>\n",
       "      <td>NaN</td>\n",
       "      <td>1</td>\n",
       "      <td>06/01/2022</td>\n",
       "      <td>Vente</td>\n",
       "      <td>...</td>\n",
       "      <td>2</td>\n",
       "      <td>2.0</td>\n",
       "      <td>Appartement</td>\n",
       "      <td>NaN</td>\n",
       "      <td>70.0</td>\n",
       "      <td>4.0</td>\n",
       "      <td>NaN</td>\n",
       "      <td>NaN</td>\n",
       "      <td>NaN</td>\n",
       "      <td>2428.571429</td>\n",
       "    </tr>\n",
       "    <tr>\n",
       "      <th>58</th>\n",
       "      <td>NaN</td>\n",
       "      <td>NaN</td>\n",
       "      <td>NaN</td>\n",
       "      <td>NaN</td>\n",
       "      <td>NaN</td>\n",
       "      <td>NaN</td>\n",
       "      <td>NaN</td>\n",
       "      <td>1</td>\n",
       "      <td>04/01/2022</td>\n",
       "      <td>Vente</td>\n",
       "      <td>...</td>\n",
       "      <td>2</td>\n",
       "      <td>2.0</td>\n",
       "      <td>Appartement</td>\n",
       "      <td>NaN</td>\n",
       "      <td>105.0</td>\n",
       "      <td>4.0</td>\n",
       "      <td>NaN</td>\n",
       "      <td>NaN</td>\n",
       "      <td>NaN</td>\n",
       "      <td>3383.809524</td>\n",
       "    </tr>\n",
       "    <tr>\n",
       "      <th>62</th>\n",
       "      <td>NaN</td>\n",
       "      <td>NaN</td>\n",
       "      <td>NaN</td>\n",
       "      <td>NaN</td>\n",
       "      <td>NaN</td>\n",
       "      <td>NaN</td>\n",
       "      <td>NaN</td>\n",
       "      <td>1</td>\n",
       "      <td>07/01/2022</td>\n",
       "      <td>Vente</td>\n",
       "      <td>...</td>\n",
       "      <td>1</td>\n",
       "      <td>2.0</td>\n",
       "      <td>Appartement</td>\n",
       "      <td>NaN</td>\n",
       "      <td>120.0</td>\n",
       "      <td>4.0</td>\n",
       "      <td>NaN</td>\n",
       "      <td>NaN</td>\n",
       "      <td>NaN</td>\n",
       "      <td>3937.500000</td>\n",
       "    </tr>\n",
       "    <tr>\n",
       "      <th>65</th>\n",
       "      <td>NaN</td>\n",
       "      <td>NaN</td>\n",
       "      <td>NaN</td>\n",
       "      <td>NaN</td>\n",
       "      <td>NaN</td>\n",
       "      <td>NaN</td>\n",
       "      <td>NaN</td>\n",
       "      <td>1</td>\n",
       "      <td>04/01/2022</td>\n",
       "      <td>Vente</td>\n",
       "      <td>...</td>\n",
       "      <td>0</td>\n",
       "      <td>1.0</td>\n",
       "      <td>Maison</td>\n",
       "      <td>NaN</td>\n",
       "      <td>64.0</td>\n",
       "      <td>4.0</td>\n",
       "      <td>S</td>\n",
       "      <td>NaN</td>\n",
       "      <td>127.0</td>\n",
       "      <td>3545.312500</td>\n",
       "    </tr>\n",
       "    <tr>\n",
       "      <th>113</th>\n",
       "      <td>NaN</td>\n",
       "      <td>NaN</td>\n",
       "      <td>NaN</td>\n",
       "      <td>NaN</td>\n",
       "      <td>NaN</td>\n",
       "      <td>NaN</td>\n",
       "      <td>NaN</td>\n",
       "      <td>1</td>\n",
       "      <td>12/01/2022</td>\n",
       "      <td>Vente</td>\n",
       "      <td>...</td>\n",
       "      <td>1</td>\n",
       "      <td>2.0</td>\n",
       "      <td>Appartement</td>\n",
       "      <td>NaN</td>\n",
       "      <td>71.0</td>\n",
       "      <td>4.0</td>\n",
       "      <td>NaN</td>\n",
       "      <td>NaN</td>\n",
       "      <td>NaN</td>\n",
       "      <td>3238.028169</td>\n",
       "    </tr>\n",
       "    <tr>\n",
       "      <th>161</th>\n",
       "      <td>NaN</td>\n",
       "      <td>NaN</td>\n",
       "      <td>NaN</td>\n",
       "      <td>NaN</td>\n",
       "      <td>NaN</td>\n",
       "      <td>NaN</td>\n",
       "      <td>NaN</td>\n",
       "      <td>1</td>\n",
       "      <td>05/01/2022</td>\n",
       "      <td>Vente</td>\n",
       "      <td>...</td>\n",
       "      <td>0</td>\n",
       "      <td>1.0</td>\n",
       "      <td>Maison</td>\n",
       "      <td>NaN</td>\n",
       "      <td>70.0</td>\n",
       "      <td>4.0</td>\n",
       "      <td>S</td>\n",
       "      <td>NaN</td>\n",
       "      <td>192.0</td>\n",
       "      <td>2941.285714</td>\n",
       "    </tr>\n",
       "    <tr>\n",
       "      <th>168</th>\n",
       "      <td>NaN</td>\n",
       "      <td>NaN</td>\n",
       "      <td>NaN</td>\n",
       "      <td>NaN</td>\n",
       "      <td>NaN</td>\n",
       "      <td>NaN</td>\n",
       "      <td>NaN</td>\n",
       "      <td>1</td>\n",
       "      <td>19/01/2022</td>\n",
       "      <td>Vente</td>\n",
       "      <td>...</td>\n",
       "      <td>0</td>\n",
       "      <td>1.0</td>\n",
       "      <td>Maison</td>\n",
       "      <td>NaN</td>\n",
       "      <td>62.0</td>\n",
       "      <td>4.0</td>\n",
       "      <td>S</td>\n",
       "      <td>NaN</td>\n",
       "      <td>96.0</td>\n",
       "      <td>2572.580645</td>\n",
       "    </tr>\n",
       "    <tr>\n",
       "      <th>176</th>\n",
       "      <td>NaN</td>\n",
       "      <td>NaN</td>\n",
       "      <td>NaN</td>\n",
       "      <td>NaN</td>\n",
       "      <td>NaN</td>\n",
       "      <td>NaN</td>\n",
       "      <td>NaN</td>\n",
       "      <td>1</td>\n",
       "      <td>20/01/2022</td>\n",
       "      <td>Vente</td>\n",
       "      <td>...</td>\n",
       "      <td>0</td>\n",
       "      <td>1.0</td>\n",
       "      <td>Maison</td>\n",
       "      <td>NaN</td>\n",
       "      <td>72.0</td>\n",
       "      <td>4.0</td>\n",
       "      <td>S</td>\n",
       "      <td>NaN</td>\n",
       "      <td>135.0</td>\n",
       "      <td>3609.722222</td>\n",
       "    </tr>\n",
       "    <tr>\n",
       "      <th>231</th>\n",
       "      <td>NaN</td>\n",
       "      <td>NaN</td>\n",
       "      <td>NaN</td>\n",
       "      <td>NaN</td>\n",
       "      <td>NaN</td>\n",
       "      <td>NaN</td>\n",
       "      <td>NaN</td>\n",
       "      <td>1</td>\n",
       "      <td>20/01/2022</td>\n",
       "      <td>Vente</td>\n",
       "      <td>...</td>\n",
       "      <td>0</td>\n",
       "      <td>1.0</td>\n",
       "      <td>Maison</td>\n",
       "      <td>NaN</td>\n",
       "      <td>80.0</td>\n",
       "      <td>4.0</td>\n",
       "      <td>S</td>\n",
       "      <td>NaN</td>\n",
       "      <td>182.0</td>\n",
       "      <td>2750.000000</td>\n",
       "    </tr>\n",
       "    <tr>\n",
       "      <th>245</th>\n",
       "      <td>NaN</td>\n",
       "      <td>NaN</td>\n",
       "      <td>NaN</td>\n",
       "      <td>NaN</td>\n",
       "      <td>NaN</td>\n",
       "      <td>NaN</td>\n",
       "      <td>NaN</td>\n",
       "      <td>1</td>\n",
       "      <td>07/01/2022</td>\n",
       "      <td>Vente</td>\n",
       "      <td>...</td>\n",
       "      <td>2</td>\n",
       "      <td>2.0</td>\n",
       "      <td>Appartement</td>\n",
       "      <td>NaN</td>\n",
       "      <td>76.0</td>\n",
       "      <td>4.0</td>\n",
       "      <td>NaN</td>\n",
       "      <td>NaN</td>\n",
       "      <td>NaN</td>\n",
       "      <td>2697.368421</td>\n",
       "    </tr>\n",
       "    <tr>\n",
       "      <th>266</th>\n",
       "      <td>NaN</td>\n",
       "      <td>NaN</td>\n",
       "      <td>NaN</td>\n",
       "      <td>NaN</td>\n",
       "      <td>NaN</td>\n",
       "      <td>NaN</td>\n",
       "      <td>NaN</td>\n",
       "      <td>1</td>\n",
       "      <td>19/01/2022</td>\n",
       "      <td>Vente</td>\n",
       "      <td>...</td>\n",
       "      <td>1</td>\n",
       "      <td>2.0</td>\n",
       "      <td>Appartement</td>\n",
       "      <td>NaN</td>\n",
       "      <td>91.0</td>\n",
       "      <td>4.0</td>\n",
       "      <td>NaN</td>\n",
       "      <td>NaN</td>\n",
       "      <td>NaN</td>\n",
       "      <td>2338.131868</td>\n",
       "    </tr>\n",
       "    <tr>\n",
       "      <th>272</th>\n",
       "      <td>NaN</td>\n",
       "      <td>NaN</td>\n",
       "      <td>NaN</td>\n",
       "      <td>NaN</td>\n",
       "      <td>NaN</td>\n",
       "      <td>NaN</td>\n",
       "      <td>NaN</td>\n",
       "      <td>1</td>\n",
       "      <td>21/01/2022</td>\n",
       "      <td>Vente</td>\n",
       "      <td>...</td>\n",
       "      <td>1</td>\n",
       "      <td>2.0</td>\n",
       "      <td>Appartement</td>\n",
       "      <td>NaN</td>\n",
       "      <td>146.0</td>\n",
       "      <td>4.0</td>\n",
       "      <td>NaN</td>\n",
       "      <td>NaN</td>\n",
       "      <td>NaN</td>\n",
       "      <td>3821.917808</td>\n",
       "    </tr>\n",
       "    <tr>\n",
       "      <th>277</th>\n",
       "      <td>NaN</td>\n",
       "      <td>NaN</td>\n",
       "      <td>NaN</td>\n",
       "      <td>NaN</td>\n",
       "      <td>NaN</td>\n",
       "      <td>NaN</td>\n",
       "      <td>NaN</td>\n",
       "      <td>1</td>\n",
       "      <td>03/01/2022</td>\n",
       "      <td>Vente</td>\n",
       "      <td>...</td>\n",
       "      <td>1</td>\n",
       "      <td>2.0</td>\n",
       "      <td>Appartement</td>\n",
       "      <td>NaN</td>\n",
       "      <td>84.0</td>\n",
       "      <td>4.0</td>\n",
       "      <td>NaN</td>\n",
       "      <td>NaN</td>\n",
       "      <td>NaN</td>\n",
       "      <td>2678.571429</td>\n",
       "    </tr>\n",
       "    <tr>\n",
       "      <th>312</th>\n",
       "      <td>NaN</td>\n",
       "      <td>NaN</td>\n",
       "      <td>NaN</td>\n",
       "      <td>NaN</td>\n",
       "      <td>NaN</td>\n",
       "      <td>NaN</td>\n",
       "      <td>NaN</td>\n",
       "      <td>1</td>\n",
       "      <td>25/01/2022</td>\n",
       "      <td>Vente</td>\n",
       "      <td>...</td>\n",
       "      <td>0</td>\n",
       "      <td>1.0</td>\n",
       "      <td>Maison</td>\n",
       "      <td>NaN</td>\n",
       "      <td>65.0</td>\n",
       "      <td>4.0</td>\n",
       "      <td>S</td>\n",
       "      <td>NaN</td>\n",
       "      <td>47.0</td>\n",
       "      <td>3129.230769</td>\n",
       "    </tr>\n",
       "    <tr>\n",
       "      <th>327</th>\n",
       "      <td>NaN</td>\n",
       "      <td>NaN</td>\n",
       "      <td>NaN</td>\n",
       "      <td>NaN</td>\n",
       "      <td>NaN</td>\n",
       "      <td>NaN</td>\n",
       "      <td>NaN</td>\n",
       "      <td>1</td>\n",
       "      <td>25/01/2022</td>\n",
       "      <td>Vente</td>\n",
       "      <td>...</td>\n",
       "      <td>1</td>\n",
       "      <td>2.0</td>\n",
       "      <td>Appartement</td>\n",
       "      <td>NaN</td>\n",
       "      <td>100.0</td>\n",
       "      <td>4.0</td>\n",
       "      <td>NaN</td>\n",
       "      <td>NaN</td>\n",
       "      <td>NaN</td>\n",
       "      <td>3892.000000</td>\n",
       "    </tr>\n",
       "    <tr>\n",
       "      <th>339</th>\n",
       "      <td>NaN</td>\n",
       "      <td>NaN</td>\n",
       "      <td>NaN</td>\n",
       "      <td>NaN</td>\n",
       "      <td>NaN</td>\n",
       "      <td>NaN</td>\n",
       "      <td>NaN</td>\n",
       "      <td>1</td>\n",
       "      <td>26/01/2022</td>\n",
       "      <td>Vente</td>\n",
       "      <td>...</td>\n",
       "      <td>1</td>\n",
       "      <td>2.0</td>\n",
       "      <td>Appartement</td>\n",
       "      <td>NaN</td>\n",
       "      <td>85.0</td>\n",
       "      <td>4.0</td>\n",
       "      <td>NaN</td>\n",
       "      <td>NaN</td>\n",
       "      <td>NaN</td>\n",
       "      <td>4336.317647</td>\n",
       "    </tr>\n",
       "    <tr>\n",
       "      <th>365</th>\n",
       "      <td>NaN</td>\n",
       "      <td>NaN</td>\n",
       "      <td>NaN</td>\n",
       "      <td>NaN</td>\n",
       "      <td>NaN</td>\n",
       "      <td>NaN</td>\n",
       "      <td>NaN</td>\n",
       "      <td>1</td>\n",
       "      <td>25/01/2022</td>\n",
       "      <td>Vente</td>\n",
       "      <td>...</td>\n",
       "      <td>0</td>\n",
       "      <td>1.0</td>\n",
       "      <td>Maison</td>\n",
       "      <td>NaN</td>\n",
       "      <td>88.0</td>\n",
       "      <td>4.0</td>\n",
       "      <td>S</td>\n",
       "      <td>NaN</td>\n",
       "      <td>117.0</td>\n",
       "      <td>3244.318182</td>\n",
       "    </tr>\n",
       "    <tr>\n",
       "      <th>379</th>\n",
       "      <td>NaN</td>\n",
       "      <td>NaN</td>\n",
       "      <td>NaN</td>\n",
       "      <td>NaN</td>\n",
       "      <td>NaN</td>\n",
       "      <td>NaN</td>\n",
       "      <td>NaN</td>\n",
       "      <td>1</td>\n",
       "      <td>21/01/2022</td>\n",
       "      <td>Vente</td>\n",
       "      <td>...</td>\n",
       "      <td>0</td>\n",
       "      <td>1.0</td>\n",
       "      <td>Maison</td>\n",
       "      <td>NaN</td>\n",
       "      <td>93.0</td>\n",
       "      <td>4.0</td>\n",
       "      <td>S</td>\n",
       "      <td>NaN</td>\n",
       "      <td>131.0</td>\n",
       "      <td>3062.365591</td>\n",
       "    </tr>\n",
       "  </tbody>\n",
       "</table>\n",
       "<p>20 rows × 44 columns</p>\n",
       "</div>"
      ]
     },
     "execution_count": 6,
     "metadata": {},
     "output_type": "execute_result"
    }
   ],
   "execution_count": 6
  },
  {
   "metadata": {
    "ExecuteTime": {
     "end_time": "2025-06-26T07:30:55.541577Z",
     "start_time": "2025-06-26T07:30:55.539688Z"
    }
   },
   "cell_type": "code",
   "source": "df.shape[0]",
   "id": "acdfa4cd9efc299d",
   "outputs": [
    {
     "data": {
      "text/plain": [
       "789"
      ]
     },
     "execution_count": 7,
     "metadata": {},
     "output_type": "execute_result"
    }
   ],
   "execution_count": 7
  },
  {
   "metadata": {
    "ExecuteTime": {
     "end_time": "2025-06-26T07:30:55.627464Z",
     "start_time": "2025-06-26T07:30:55.618697Z"
    }
   },
   "cell_type": "code",
   "source": [
    "df[\"prix_m2\"] = df[\"Valeur fonciere\"] / df[\"Surface reelle bati\"]\n",
    "df.head(20)"
   ],
   "id": "2f92df46dda5e5b5",
   "outputs": [
    {
     "data": {
      "text/plain": [
       "     Identifiant de document  Reference document  1 Articles CGI  \\\n",
       "18                       NaN                 NaN             NaN   \n",
       "23                       NaN                 NaN             NaN   \n",
       "26                       NaN                 NaN             NaN   \n",
       "58                       NaN                 NaN             NaN   \n",
       "62                       NaN                 NaN             NaN   \n",
       "65                       NaN                 NaN             NaN   \n",
       "113                      NaN                 NaN             NaN   \n",
       "161                      NaN                 NaN             NaN   \n",
       "168                      NaN                 NaN             NaN   \n",
       "176                      NaN                 NaN             NaN   \n",
       "231                      NaN                 NaN             NaN   \n",
       "245                      NaN                 NaN             NaN   \n",
       "266                      NaN                 NaN             NaN   \n",
       "272                      NaN                 NaN             NaN   \n",
       "277                      NaN                 NaN             NaN   \n",
       "312                      NaN                 NaN             NaN   \n",
       "327                      NaN                 NaN             NaN   \n",
       "339                      NaN                 NaN             NaN   \n",
       "365                      NaN                 NaN             NaN   \n",
       "379                      NaN                 NaN             NaN   \n",
       "\n",
       "     2 Articles CGI  3 Articles CGI  4 Articles CGI  5 Articles CGI  \\\n",
       "18              NaN             NaN             NaN             NaN   \n",
       "23              NaN             NaN             NaN             NaN   \n",
       "26              NaN             NaN             NaN             NaN   \n",
       "58              NaN             NaN             NaN             NaN   \n",
       "62              NaN             NaN             NaN             NaN   \n",
       "65              NaN             NaN             NaN             NaN   \n",
       "113             NaN             NaN             NaN             NaN   \n",
       "161             NaN             NaN             NaN             NaN   \n",
       "168             NaN             NaN             NaN             NaN   \n",
       "176             NaN             NaN             NaN             NaN   \n",
       "231             NaN             NaN             NaN             NaN   \n",
       "245             NaN             NaN             NaN             NaN   \n",
       "266             NaN             NaN             NaN             NaN   \n",
       "272             NaN             NaN             NaN             NaN   \n",
       "277             NaN             NaN             NaN             NaN   \n",
       "312             NaN             NaN             NaN             NaN   \n",
       "327             NaN             NaN             NaN             NaN   \n",
       "339             NaN             NaN             NaN             NaN   \n",
       "365             NaN             NaN             NaN             NaN   \n",
       "379             NaN             NaN             NaN             NaN   \n",
       "\n",
       "     No disposition Date mutation Nature mutation  ...  Nombre de lots  \\\n",
       "18                1    05/01/2022           Vente  ...               0   \n",
       "23                1    06/01/2022           Vente  ...               1   \n",
       "26                1    06/01/2022           Vente  ...               2   \n",
       "58                1    04/01/2022           Vente  ...               2   \n",
       "62                1    07/01/2022           Vente  ...               1   \n",
       "65                1    04/01/2022           Vente  ...               0   \n",
       "113               1    12/01/2022           Vente  ...               1   \n",
       "161               1    05/01/2022           Vente  ...               0   \n",
       "168               1    19/01/2022           Vente  ...               0   \n",
       "176               1    20/01/2022           Vente  ...               0   \n",
       "231               1    20/01/2022           Vente  ...               0   \n",
       "245               1    07/01/2022           Vente  ...               2   \n",
       "266               1    19/01/2022           Vente  ...               1   \n",
       "272               1    21/01/2022           Vente  ...               1   \n",
       "277               1    03/01/2022           Vente  ...               1   \n",
       "312               1    25/01/2022           Vente  ...               0   \n",
       "327               1    25/01/2022           Vente  ...               1   \n",
       "339               1    26/01/2022           Vente  ...               1   \n",
       "365               1    25/01/2022           Vente  ...               0   \n",
       "379               1    21/01/2022           Vente  ...               0   \n",
       "\n",
       "     Code type local   Type local Identifiant local Surface reelle bati  \\\n",
       "18               1.0       Maison               NaN               165.0   \n",
       "23               2.0  Appartement               NaN                92.0   \n",
       "26               2.0  Appartement               NaN                70.0   \n",
       "58               2.0  Appartement               NaN               105.0   \n",
       "62               2.0  Appartement               NaN               120.0   \n",
       "65               1.0       Maison               NaN                64.0   \n",
       "113              2.0  Appartement               NaN                71.0   \n",
       "161              1.0       Maison               NaN                70.0   \n",
       "168              1.0       Maison               NaN                62.0   \n",
       "176              1.0       Maison               NaN                72.0   \n",
       "231              1.0       Maison               NaN                80.0   \n",
       "245              2.0  Appartement               NaN                76.0   \n",
       "266              2.0  Appartement               NaN                91.0   \n",
       "272              2.0  Appartement               NaN               146.0   \n",
       "277              2.0  Appartement               NaN                84.0   \n",
       "312              1.0       Maison               NaN                65.0   \n",
       "327              2.0  Appartement               NaN               100.0   \n",
       "339              2.0  Appartement               NaN                85.0   \n",
       "365              1.0       Maison               NaN                88.0   \n",
       "379              1.0       Maison               NaN                93.0   \n",
       "\n",
       "    Nombre pieces principales  Nature culture Nature culture speciale  \\\n",
       "18                        4.0               S                     NaN   \n",
       "23                        4.0             NaN                     NaN   \n",
       "26                        4.0             NaN                     NaN   \n",
       "58                        4.0             NaN                     NaN   \n",
       "62                        4.0             NaN                     NaN   \n",
       "65                        4.0               S                     NaN   \n",
       "113                       4.0             NaN                     NaN   \n",
       "161                       4.0               S                     NaN   \n",
       "168                       4.0               S                     NaN   \n",
       "176                       4.0               S                     NaN   \n",
       "231                       4.0               S                     NaN   \n",
       "245                       4.0             NaN                     NaN   \n",
       "266                       4.0             NaN                     NaN   \n",
       "272                       4.0             NaN                     NaN   \n",
       "277                       4.0             NaN                     NaN   \n",
       "312                       4.0               S                     NaN   \n",
       "327                       4.0             NaN                     NaN   \n",
       "339                       4.0             NaN                     NaN   \n",
       "365                       4.0               S                     NaN   \n",
       "379                       4.0               S                     NaN   \n",
       "\n",
       "     Surface terrain      prix_m2  \n",
       "18             121.0  1848.484848  \n",
       "23               NaN  3989.130435  \n",
       "26               NaN  2428.571429  \n",
       "58               NaN  3383.809524  \n",
       "62               NaN  3937.500000  \n",
       "65             127.0  3545.312500  \n",
       "113              NaN  3238.028169  \n",
       "161            192.0  2941.285714  \n",
       "168             96.0  2572.580645  \n",
       "176            135.0  3609.722222  \n",
       "231            182.0  2750.000000  \n",
       "245              NaN  2697.368421  \n",
       "266              NaN  2338.131868  \n",
       "272              NaN  3821.917808  \n",
       "277              NaN  2678.571429  \n",
       "312             47.0  3129.230769  \n",
       "327              NaN  3892.000000  \n",
       "339              NaN  4336.317647  \n",
       "365            117.0  3244.318182  \n",
       "379            131.0  3062.365591  \n",
       "\n",
       "[20 rows x 44 columns]"
      ],
      "text/html": [
       "<div>\n",
       "<style scoped>\n",
       "    .dataframe tbody tr th:only-of-type {\n",
       "        vertical-align: middle;\n",
       "    }\n",
       "\n",
       "    .dataframe tbody tr th {\n",
       "        vertical-align: top;\n",
       "    }\n",
       "\n",
       "    .dataframe thead th {\n",
       "        text-align: right;\n",
       "    }\n",
       "</style>\n",
       "<table border=\"1\" class=\"dataframe\">\n",
       "  <thead>\n",
       "    <tr style=\"text-align: right;\">\n",
       "      <th></th>\n",
       "      <th>Identifiant de document</th>\n",
       "      <th>Reference document</th>\n",
       "      <th>1 Articles CGI</th>\n",
       "      <th>2 Articles CGI</th>\n",
       "      <th>3 Articles CGI</th>\n",
       "      <th>4 Articles CGI</th>\n",
       "      <th>5 Articles CGI</th>\n",
       "      <th>No disposition</th>\n",
       "      <th>Date mutation</th>\n",
       "      <th>Nature mutation</th>\n",
       "      <th>...</th>\n",
       "      <th>Nombre de lots</th>\n",
       "      <th>Code type local</th>\n",
       "      <th>Type local</th>\n",
       "      <th>Identifiant local</th>\n",
       "      <th>Surface reelle bati</th>\n",
       "      <th>Nombre pieces principales</th>\n",
       "      <th>Nature culture</th>\n",
       "      <th>Nature culture speciale</th>\n",
       "      <th>Surface terrain</th>\n",
       "      <th>prix_m2</th>\n",
       "    </tr>\n",
       "  </thead>\n",
       "  <tbody>\n",
       "    <tr>\n",
       "      <th>18</th>\n",
       "      <td>NaN</td>\n",
       "      <td>NaN</td>\n",
       "      <td>NaN</td>\n",
       "      <td>NaN</td>\n",
       "      <td>NaN</td>\n",
       "      <td>NaN</td>\n",
       "      <td>NaN</td>\n",
       "      <td>1</td>\n",
       "      <td>05/01/2022</td>\n",
       "      <td>Vente</td>\n",
       "      <td>...</td>\n",
       "      <td>0</td>\n",
       "      <td>1.0</td>\n",
       "      <td>Maison</td>\n",
       "      <td>NaN</td>\n",
       "      <td>165.0</td>\n",
       "      <td>4.0</td>\n",
       "      <td>S</td>\n",
       "      <td>NaN</td>\n",
       "      <td>121.0</td>\n",
       "      <td>1848.484848</td>\n",
       "    </tr>\n",
       "    <tr>\n",
       "      <th>23</th>\n",
       "      <td>NaN</td>\n",
       "      <td>NaN</td>\n",
       "      <td>NaN</td>\n",
       "      <td>NaN</td>\n",
       "      <td>NaN</td>\n",
       "      <td>NaN</td>\n",
       "      <td>NaN</td>\n",
       "      <td>1</td>\n",
       "      <td>06/01/2022</td>\n",
       "      <td>Vente</td>\n",
       "      <td>...</td>\n",
       "      <td>1</td>\n",
       "      <td>2.0</td>\n",
       "      <td>Appartement</td>\n",
       "      <td>NaN</td>\n",
       "      <td>92.0</td>\n",
       "      <td>4.0</td>\n",
       "      <td>NaN</td>\n",
       "      <td>NaN</td>\n",
       "      <td>NaN</td>\n",
       "      <td>3989.130435</td>\n",
       "    </tr>\n",
       "    <tr>\n",
       "      <th>26</th>\n",
       "      <td>NaN</td>\n",
       "      <td>NaN</td>\n",
       "      <td>NaN</td>\n",
       "      <td>NaN</td>\n",
       "      <td>NaN</td>\n",
       "      <td>NaN</td>\n",
       "      <td>NaN</td>\n",
       "      <td>1</td>\n",
       "      <td>06/01/2022</td>\n",
       "      <td>Vente</td>\n",
       "      <td>...</td>\n",
       "      <td>2</td>\n",
       "      <td>2.0</td>\n",
       "      <td>Appartement</td>\n",
       "      <td>NaN</td>\n",
       "      <td>70.0</td>\n",
       "      <td>4.0</td>\n",
       "      <td>NaN</td>\n",
       "      <td>NaN</td>\n",
       "      <td>NaN</td>\n",
       "      <td>2428.571429</td>\n",
       "    </tr>\n",
       "    <tr>\n",
       "      <th>58</th>\n",
       "      <td>NaN</td>\n",
       "      <td>NaN</td>\n",
       "      <td>NaN</td>\n",
       "      <td>NaN</td>\n",
       "      <td>NaN</td>\n",
       "      <td>NaN</td>\n",
       "      <td>NaN</td>\n",
       "      <td>1</td>\n",
       "      <td>04/01/2022</td>\n",
       "      <td>Vente</td>\n",
       "      <td>...</td>\n",
       "      <td>2</td>\n",
       "      <td>2.0</td>\n",
       "      <td>Appartement</td>\n",
       "      <td>NaN</td>\n",
       "      <td>105.0</td>\n",
       "      <td>4.0</td>\n",
       "      <td>NaN</td>\n",
       "      <td>NaN</td>\n",
       "      <td>NaN</td>\n",
       "      <td>3383.809524</td>\n",
       "    </tr>\n",
       "    <tr>\n",
       "      <th>62</th>\n",
       "      <td>NaN</td>\n",
       "      <td>NaN</td>\n",
       "      <td>NaN</td>\n",
       "      <td>NaN</td>\n",
       "      <td>NaN</td>\n",
       "      <td>NaN</td>\n",
       "      <td>NaN</td>\n",
       "      <td>1</td>\n",
       "      <td>07/01/2022</td>\n",
       "      <td>Vente</td>\n",
       "      <td>...</td>\n",
       "      <td>1</td>\n",
       "      <td>2.0</td>\n",
       "      <td>Appartement</td>\n",
       "      <td>NaN</td>\n",
       "      <td>120.0</td>\n",
       "      <td>4.0</td>\n",
       "      <td>NaN</td>\n",
       "      <td>NaN</td>\n",
       "      <td>NaN</td>\n",
       "      <td>3937.500000</td>\n",
       "    </tr>\n",
       "    <tr>\n",
       "      <th>65</th>\n",
       "      <td>NaN</td>\n",
       "      <td>NaN</td>\n",
       "      <td>NaN</td>\n",
       "      <td>NaN</td>\n",
       "      <td>NaN</td>\n",
       "      <td>NaN</td>\n",
       "      <td>NaN</td>\n",
       "      <td>1</td>\n",
       "      <td>04/01/2022</td>\n",
       "      <td>Vente</td>\n",
       "      <td>...</td>\n",
       "      <td>0</td>\n",
       "      <td>1.0</td>\n",
       "      <td>Maison</td>\n",
       "      <td>NaN</td>\n",
       "      <td>64.0</td>\n",
       "      <td>4.0</td>\n",
       "      <td>S</td>\n",
       "      <td>NaN</td>\n",
       "      <td>127.0</td>\n",
       "      <td>3545.312500</td>\n",
       "    </tr>\n",
       "    <tr>\n",
       "      <th>113</th>\n",
       "      <td>NaN</td>\n",
       "      <td>NaN</td>\n",
       "      <td>NaN</td>\n",
       "      <td>NaN</td>\n",
       "      <td>NaN</td>\n",
       "      <td>NaN</td>\n",
       "      <td>NaN</td>\n",
       "      <td>1</td>\n",
       "      <td>12/01/2022</td>\n",
       "      <td>Vente</td>\n",
       "      <td>...</td>\n",
       "      <td>1</td>\n",
       "      <td>2.0</td>\n",
       "      <td>Appartement</td>\n",
       "      <td>NaN</td>\n",
       "      <td>71.0</td>\n",
       "      <td>4.0</td>\n",
       "      <td>NaN</td>\n",
       "      <td>NaN</td>\n",
       "      <td>NaN</td>\n",
       "      <td>3238.028169</td>\n",
       "    </tr>\n",
       "    <tr>\n",
       "      <th>161</th>\n",
       "      <td>NaN</td>\n",
       "      <td>NaN</td>\n",
       "      <td>NaN</td>\n",
       "      <td>NaN</td>\n",
       "      <td>NaN</td>\n",
       "      <td>NaN</td>\n",
       "      <td>NaN</td>\n",
       "      <td>1</td>\n",
       "      <td>05/01/2022</td>\n",
       "      <td>Vente</td>\n",
       "      <td>...</td>\n",
       "      <td>0</td>\n",
       "      <td>1.0</td>\n",
       "      <td>Maison</td>\n",
       "      <td>NaN</td>\n",
       "      <td>70.0</td>\n",
       "      <td>4.0</td>\n",
       "      <td>S</td>\n",
       "      <td>NaN</td>\n",
       "      <td>192.0</td>\n",
       "      <td>2941.285714</td>\n",
       "    </tr>\n",
       "    <tr>\n",
       "      <th>168</th>\n",
       "      <td>NaN</td>\n",
       "      <td>NaN</td>\n",
       "      <td>NaN</td>\n",
       "      <td>NaN</td>\n",
       "      <td>NaN</td>\n",
       "      <td>NaN</td>\n",
       "      <td>NaN</td>\n",
       "      <td>1</td>\n",
       "      <td>19/01/2022</td>\n",
       "      <td>Vente</td>\n",
       "      <td>...</td>\n",
       "      <td>0</td>\n",
       "      <td>1.0</td>\n",
       "      <td>Maison</td>\n",
       "      <td>NaN</td>\n",
       "      <td>62.0</td>\n",
       "      <td>4.0</td>\n",
       "      <td>S</td>\n",
       "      <td>NaN</td>\n",
       "      <td>96.0</td>\n",
       "      <td>2572.580645</td>\n",
       "    </tr>\n",
       "    <tr>\n",
       "      <th>176</th>\n",
       "      <td>NaN</td>\n",
       "      <td>NaN</td>\n",
       "      <td>NaN</td>\n",
       "      <td>NaN</td>\n",
       "      <td>NaN</td>\n",
       "      <td>NaN</td>\n",
       "      <td>NaN</td>\n",
       "      <td>1</td>\n",
       "      <td>20/01/2022</td>\n",
       "      <td>Vente</td>\n",
       "      <td>...</td>\n",
       "      <td>0</td>\n",
       "      <td>1.0</td>\n",
       "      <td>Maison</td>\n",
       "      <td>NaN</td>\n",
       "      <td>72.0</td>\n",
       "      <td>4.0</td>\n",
       "      <td>S</td>\n",
       "      <td>NaN</td>\n",
       "      <td>135.0</td>\n",
       "      <td>3609.722222</td>\n",
       "    </tr>\n",
       "    <tr>\n",
       "      <th>231</th>\n",
       "      <td>NaN</td>\n",
       "      <td>NaN</td>\n",
       "      <td>NaN</td>\n",
       "      <td>NaN</td>\n",
       "      <td>NaN</td>\n",
       "      <td>NaN</td>\n",
       "      <td>NaN</td>\n",
       "      <td>1</td>\n",
       "      <td>20/01/2022</td>\n",
       "      <td>Vente</td>\n",
       "      <td>...</td>\n",
       "      <td>0</td>\n",
       "      <td>1.0</td>\n",
       "      <td>Maison</td>\n",
       "      <td>NaN</td>\n",
       "      <td>80.0</td>\n",
       "      <td>4.0</td>\n",
       "      <td>S</td>\n",
       "      <td>NaN</td>\n",
       "      <td>182.0</td>\n",
       "      <td>2750.000000</td>\n",
       "    </tr>\n",
       "    <tr>\n",
       "      <th>245</th>\n",
       "      <td>NaN</td>\n",
       "      <td>NaN</td>\n",
       "      <td>NaN</td>\n",
       "      <td>NaN</td>\n",
       "      <td>NaN</td>\n",
       "      <td>NaN</td>\n",
       "      <td>NaN</td>\n",
       "      <td>1</td>\n",
       "      <td>07/01/2022</td>\n",
       "      <td>Vente</td>\n",
       "      <td>...</td>\n",
       "      <td>2</td>\n",
       "      <td>2.0</td>\n",
       "      <td>Appartement</td>\n",
       "      <td>NaN</td>\n",
       "      <td>76.0</td>\n",
       "      <td>4.0</td>\n",
       "      <td>NaN</td>\n",
       "      <td>NaN</td>\n",
       "      <td>NaN</td>\n",
       "      <td>2697.368421</td>\n",
       "    </tr>\n",
       "    <tr>\n",
       "      <th>266</th>\n",
       "      <td>NaN</td>\n",
       "      <td>NaN</td>\n",
       "      <td>NaN</td>\n",
       "      <td>NaN</td>\n",
       "      <td>NaN</td>\n",
       "      <td>NaN</td>\n",
       "      <td>NaN</td>\n",
       "      <td>1</td>\n",
       "      <td>19/01/2022</td>\n",
       "      <td>Vente</td>\n",
       "      <td>...</td>\n",
       "      <td>1</td>\n",
       "      <td>2.0</td>\n",
       "      <td>Appartement</td>\n",
       "      <td>NaN</td>\n",
       "      <td>91.0</td>\n",
       "      <td>4.0</td>\n",
       "      <td>NaN</td>\n",
       "      <td>NaN</td>\n",
       "      <td>NaN</td>\n",
       "      <td>2338.131868</td>\n",
       "    </tr>\n",
       "    <tr>\n",
       "      <th>272</th>\n",
       "      <td>NaN</td>\n",
       "      <td>NaN</td>\n",
       "      <td>NaN</td>\n",
       "      <td>NaN</td>\n",
       "      <td>NaN</td>\n",
       "      <td>NaN</td>\n",
       "      <td>NaN</td>\n",
       "      <td>1</td>\n",
       "      <td>21/01/2022</td>\n",
       "      <td>Vente</td>\n",
       "      <td>...</td>\n",
       "      <td>1</td>\n",
       "      <td>2.0</td>\n",
       "      <td>Appartement</td>\n",
       "      <td>NaN</td>\n",
       "      <td>146.0</td>\n",
       "      <td>4.0</td>\n",
       "      <td>NaN</td>\n",
       "      <td>NaN</td>\n",
       "      <td>NaN</td>\n",
       "      <td>3821.917808</td>\n",
       "    </tr>\n",
       "    <tr>\n",
       "      <th>277</th>\n",
       "      <td>NaN</td>\n",
       "      <td>NaN</td>\n",
       "      <td>NaN</td>\n",
       "      <td>NaN</td>\n",
       "      <td>NaN</td>\n",
       "      <td>NaN</td>\n",
       "      <td>NaN</td>\n",
       "      <td>1</td>\n",
       "      <td>03/01/2022</td>\n",
       "      <td>Vente</td>\n",
       "      <td>...</td>\n",
       "      <td>1</td>\n",
       "      <td>2.0</td>\n",
       "      <td>Appartement</td>\n",
       "      <td>NaN</td>\n",
       "      <td>84.0</td>\n",
       "      <td>4.0</td>\n",
       "      <td>NaN</td>\n",
       "      <td>NaN</td>\n",
       "      <td>NaN</td>\n",
       "      <td>2678.571429</td>\n",
       "    </tr>\n",
       "    <tr>\n",
       "      <th>312</th>\n",
       "      <td>NaN</td>\n",
       "      <td>NaN</td>\n",
       "      <td>NaN</td>\n",
       "      <td>NaN</td>\n",
       "      <td>NaN</td>\n",
       "      <td>NaN</td>\n",
       "      <td>NaN</td>\n",
       "      <td>1</td>\n",
       "      <td>25/01/2022</td>\n",
       "      <td>Vente</td>\n",
       "      <td>...</td>\n",
       "      <td>0</td>\n",
       "      <td>1.0</td>\n",
       "      <td>Maison</td>\n",
       "      <td>NaN</td>\n",
       "      <td>65.0</td>\n",
       "      <td>4.0</td>\n",
       "      <td>S</td>\n",
       "      <td>NaN</td>\n",
       "      <td>47.0</td>\n",
       "      <td>3129.230769</td>\n",
       "    </tr>\n",
       "    <tr>\n",
       "      <th>327</th>\n",
       "      <td>NaN</td>\n",
       "      <td>NaN</td>\n",
       "      <td>NaN</td>\n",
       "      <td>NaN</td>\n",
       "      <td>NaN</td>\n",
       "      <td>NaN</td>\n",
       "      <td>NaN</td>\n",
       "      <td>1</td>\n",
       "      <td>25/01/2022</td>\n",
       "      <td>Vente</td>\n",
       "      <td>...</td>\n",
       "      <td>1</td>\n",
       "      <td>2.0</td>\n",
       "      <td>Appartement</td>\n",
       "      <td>NaN</td>\n",
       "      <td>100.0</td>\n",
       "      <td>4.0</td>\n",
       "      <td>NaN</td>\n",
       "      <td>NaN</td>\n",
       "      <td>NaN</td>\n",
       "      <td>3892.000000</td>\n",
       "    </tr>\n",
       "    <tr>\n",
       "      <th>339</th>\n",
       "      <td>NaN</td>\n",
       "      <td>NaN</td>\n",
       "      <td>NaN</td>\n",
       "      <td>NaN</td>\n",
       "      <td>NaN</td>\n",
       "      <td>NaN</td>\n",
       "      <td>NaN</td>\n",
       "      <td>1</td>\n",
       "      <td>26/01/2022</td>\n",
       "      <td>Vente</td>\n",
       "      <td>...</td>\n",
       "      <td>1</td>\n",
       "      <td>2.0</td>\n",
       "      <td>Appartement</td>\n",
       "      <td>NaN</td>\n",
       "      <td>85.0</td>\n",
       "      <td>4.0</td>\n",
       "      <td>NaN</td>\n",
       "      <td>NaN</td>\n",
       "      <td>NaN</td>\n",
       "      <td>4336.317647</td>\n",
       "    </tr>\n",
       "    <tr>\n",
       "      <th>365</th>\n",
       "      <td>NaN</td>\n",
       "      <td>NaN</td>\n",
       "      <td>NaN</td>\n",
       "      <td>NaN</td>\n",
       "      <td>NaN</td>\n",
       "      <td>NaN</td>\n",
       "      <td>NaN</td>\n",
       "      <td>1</td>\n",
       "      <td>25/01/2022</td>\n",
       "      <td>Vente</td>\n",
       "      <td>...</td>\n",
       "      <td>0</td>\n",
       "      <td>1.0</td>\n",
       "      <td>Maison</td>\n",
       "      <td>NaN</td>\n",
       "      <td>88.0</td>\n",
       "      <td>4.0</td>\n",
       "      <td>S</td>\n",
       "      <td>NaN</td>\n",
       "      <td>117.0</td>\n",
       "      <td>3244.318182</td>\n",
       "    </tr>\n",
       "    <tr>\n",
       "      <th>379</th>\n",
       "      <td>NaN</td>\n",
       "      <td>NaN</td>\n",
       "      <td>NaN</td>\n",
       "      <td>NaN</td>\n",
       "      <td>NaN</td>\n",
       "      <td>NaN</td>\n",
       "      <td>NaN</td>\n",
       "      <td>1</td>\n",
       "      <td>21/01/2022</td>\n",
       "      <td>Vente</td>\n",
       "      <td>...</td>\n",
       "      <td>0</td>\n",
       "      <td>1.0</td>\n",
       "      <td>Maison</td>\n",
       "      <td>NaN</td>\n",
       "      <td>93.0</td>\n",
       "      <td>4.0</td>\n",
       "      <td>S</td>\n",
       "      <td>NaN</td>\n",
       "      <td>131.0</td>\n",
       "      <td>3062.365591</td>\n",
       "    </tr>\n",
       "  </tbody>\n",
       "</table>\n",
       "<p>20 rows × 44 columns</p>\n",
       "</div>"
      ]
     },
     "execution_count": 8,
     "metadata": {},
     "output_type": "execute_result"
    }
   ],
   "execution_count": 8
  },
  {
   "metadata": {
    "ExecuteTime": {
     "end_time": "2025-06-26T07:30:55.715591Z",
     "start_time": "2025-06-26T07:30:55.713081Z"
    }
   },
   "cell_type": "code",
   "source": [
    "df_appartements = df[df[\"Type local\"] == \"Appartement\"]\n",
    "df_appartements.shape[0]"
   ],
   "id": "c2f39dc745d737c7",
   "outputs": [
    {
     "data": {
      "text/plain": [
       "435"
      ]
     },
     "execution_count": 9,
     "metadata": {},
     "output_type": "execute_result"
    }
   ],
   "execution_count": 9
  },
  {
   "metadata": {
    "ExecuteTime": {
     "end_time": "2025-06-26T07:30:55.824325Z",
     "start_time": "2025-06-26T07:30:55.821915Z"
    }
   },
   "cell_type": "code",
   "source": [
    "df_maisons = df[df[\"Type local\"] == \"Maison\"]\n",
    "df_maisons.shape[0]"
   ],
   "id": "424dafbe94e6e6e6",
   "outputs": [
    {
     "data": {
      "text/plain": [
       "354"
      ]
     },
     "execution_count": 10,
     "metadata": {},
     "output_type": "execute_result"
    }
   ],
   "execution_count": 10
  },
  {
   "metadata": {
    "ExecuteTime": {
     "end_time": "2025-06-26T07:30:55.886918Z",
     "start_time": "2025-06-26T07:30:55.884732Z"
    }
   },
   "cell_type": "code",
   "source": [
    "median_terrain = df_maisons[\"Surface terrain\"].median()\n",
    "df_maisons[\"Surface terrain\"] = df_maisons[\"Surface terrain\"].fillna(median_terrain)\n"
   ],
   "id": "9da6189509947a26",
   "outputs": [
    {
     "name": "stderr",
     "output_type": "stream",
     "text": [
      "/var/folders/cb/m_mq9n295tz0jp5gn0d897_r0000gn/T/ipykernel_76857/938907829.py:2: SettingWithCopyWarning: \n",
      "A value is trying to be set on a copy of a slice from a DataFrame.\n",
      "Try using .loc[row_indexer,col_indexer] = value instead\n",
      "\n",
      "See the caveats in the documentation: https://pandas.pydata.org/pandas-docs/stable/user_guide/indexing.html#returning-a-view-versus-a-copy\n",
      "  df_maisons[\"Surface terrain\"] = df_maisons[\"Surface terrain\"].fillna(median_terrain)\n"
     ]
    }
   ],
   "execution_count": 11
  },
  {
   "metadata": {
    "ExecuteTime": {
     "end_time": "2025-06-26T07:30:55.903996Z",
     "start_time": "2025-06-26T07:30:55.898893Z"
    }
   },
   "cell_type": "code",
   "source": [
    "df_appartements = df_appartements[[\"Surface reelle bati\", \"Nombre pieces principales\", \"Type local\", \"Surface terrain\", \"Nombre de lots\",\"prix_m2\"]]\n",
    "df_appartements.head(25)\n"
   ],
   "id": "9f776d48a6b13367",
   "outputs": [
    {
     "data": {
      "text/plain": [
       "     Surface reelle bati  Nombre pieces principales   Type local  \\\n",
       "23                  92.0                        4.0  Appartement   \n",
       "26                  70.0                        4.0  Appartement   \n",
       "58                 105.0                        4.0  Appartement   \n",
       "62                 120.0                        4.0  Appartement   \n",
       "113                 71.0                        4.0  Appartement   \n",
       "245                 76.0                        4.0  Appartement   \n",
       "266                 91.0                        4.0  Appartement   \n",
       "272                146.0                        4.0  Appartement   \n",
       "277                 84.0                        4.0  Appartement   \n",
       "327                100.0                        4.0  Appartement   \n",
       "339                 85.0                        4.0  Appartement   \n",
       "394                116.0                        4.0  Appartement   \n",
       "439                 71.0                        4.0  Appartement   \n",
       "445                 88.0                        4.0  Appartement   \n",
       "494                 71.0                        4.0  Appartement   \n",
       "503                116.0                        4.0  Appartement   \n",
       "509                 94.0                        4.0  Appartement   \n",
       "528                100.0                        4.0  Appartement   \n",
       "543                110.0                        4.0  Appartement   \n",
       "572                 65.0                        4.0  Appartement   \n",
       "575                170.0                        4.0  Appartement   \n",
       "583                130.0                        4.0  Appartement   \n",
       "600                 86.0                        4.0  Appartement   \n",
       "682                109.0                        4.0  Appartement   \n",
       "704                 85.0                        4.0  Appartement   \n",
       "\n",
       "     Surface terrain  Nombre de lots      prix_m2  \n",
       "23               NaN               1  3989.130435  \n",
       "26               NaN               2  2428.571429  \n",
       "58               NaN               2  3383.809524  \n",
       "62               NaN               1  3937.500000  \n",
       "113              NaN               1  3238.028169  \n",
       "245              NaN               2  2697.368421  \n",
       "266              NaN               1  2338.131868  \n",
       "272              NaN               1  3821.917808  \n",
       "277              NaN               1  2678.571429  \n",
       "327              NaN               1  3892.000000  \n",
       "339              NaN               1  4336.317647  \n",
       "394            155.0               0  1465.517241  \n",
       "439              NaN               1  2253.521127  \n",
       "445              NaN               2  3352.272727  \n",
       "494              NaN               2  3408.450704  \n",
       "503              NaN               1  4239.482759  \n",
       "509              NaN               1  4468.085106  \n",
       "528              NaN               1  3025.000000  \n",
       "543              NaN               2  3127.272727  \n",
       "572              NaN               2  2846.153846  \n",
       "575            221.0               0  3058.823529  \n",
       "583              NaN               2  2838.461538  \n",
       "600              NaN               2  4069.767442  \n",
       "682              NaN               2  5504.587156  \n",
       "704              NaN               2  3117.647059  "
      ],
      "text/html": [
       "<div>\n",
       "<style scoped>\n",
       "    .dataframe tbody tr th:only-of-type {\n",
       "        vertical-align: middle;\n",
       "    }\n",
       "\n",
       "    .dataframe tbody tr th {\n",
       "        vertical-align: top;\n",
       "    }\n",
       "\n",
       "    .dataframe thead th {\n",
       "        text-align: right;\n",
       "    }\n",
       "</style>\n",
       "<table border=\"1\" class=\"dataframe\">\n",
       "  <thead>\n",
       "    <tr style=\"text-align: right;\">\n",
       "      <th></th>\n",
       "      <th>Surface reelle bati</th>\n",
       "      <th>Nombre pieces principales</th>\n",
       "      <th>Type local</th>\n",
       "      <th>Surface terrain</th>\n",
       "      <th>Nombre de lots</th>\n",
       "      <th>prix_m2</th>\n",
       "    </tr>\n",
       "  </thead>\n",
       "  <tbody>\n",
       "    <tr>\n",
       "      <th>23</th>\n",
       "      <td>92.0</td>\n",
       "      <td>4.0</td>\n",
       "      <td>Appartement</td>\n",
       "      <td>NaN</td>\n",
       "      <td>1</td>\n",
       "      <td>3989.130435</td>\n",
       "    </tr>\n",
       "    <tr>\n",
       "      <th>26</th>\n",
       "      <td>70.0</td>\n",
       "      <td>4.0</td>\n",
       "      <td>Appartement</td>\n",
       "      <td>NaN</td>\n",
       "      <td>2</td>\n",
       "      <td>2428.571429</td>\n",
       "    </tr>\n",
       "    <tr>\n",
       "      <th>58</th>\n",
       "      <td>105.0</td>\n",
       "      <td>4.0</td>\n",
       "      <td>Appartement</td>\n",
       "      <td>NaN</td>\n",
       "      <td>2</td>\n",
       "      <td>3383.809524</td>\n",
       "    </tr>\n",
       "    <tr>\n",
       "      <th>62</th>\n",
       "      <td>120.0</td>\n",
       "      <td>4.0</td>\n",
       "      <td>Appartement</td>\n",
       "      <td>NaN</td>\n",
       "      <td>1</td>\n",
       "      <td>3937.500000</td>\n",
       "    </tr>\n",
       "    <tr>\n",
       "      <th>113</th>\n",
       "      <td>71.0</td>\n",
       "      <td>4.0</td>\n",
       "      <td>Appartement</td>\n",
       "      <td>NaN</td>\n",
       "      <td>1</td>\n",
       "      <td>3238.028169</td>\n",
       "    </tr>\n",
       "    <tr>\n",
       "      <th>245</th>\n",
       "      <td>76.0</td>\n",
       "      <td>4.0</td>\n",
       "      <td>Appartement</td>\n",
       "      <td>NaN</td>\n",
       "      <td>2</td>\n",
       "      <td>2697.368421</td>\n",
       "    </tr>\n",
       "    <tr>\n",
       "      <th>266</th>\n",
       "      <td>91.0</td>\n",
       "      <td>4.0</td>\n",
       "      <td>Appartement</td>\n",
       "      <td>NaN</td>\n",
       "      <td>1</td>\n",
       "      <td>2338.131868</td>\n",
       "    </tr>\n",
       "    <tr>\n",
       "      <th>272</th>\n",
       "      <td>146.0</td>\n",
       "      <td>4.0</td>\n",
       "      <td>Appartement</td>\n",
       "      <td>NaN</td>\n",
       "      <td>1</td>\n",
       "      <td>3821.917808</td>\n",
       "    </tr>\n",
       "    <tr>\n",
       "      <th>277</th>\n",
       "      <td>84.0</td>\n",
       "      <td>4.0</td>\n",
       "      <td>Appartement</td>\n",
       "      <td>NaN</td>\n",
       "      <td>1</td>\n",
       "      <td>2678.571429</td>\n",
       "    </tr>\n",
       "    <tr>\n",
       "      <th>327</th>\n",
       "      <td>100.0</td>\n",
       "      <td>4.0</td>\n",
       "      <td>Appartement</td>\n",
       "      <td>NaN</td>\n",
       "      <td>1</td>\n",
       "      <td>3892.000000</td>\n",
       "    </tr>\n",
       "    <tr>\n",
       "      <th>339</th>\n",
       "      <td>85.0</td>\n",
       "      <td>4.0</td>\n",
       "      <td>Appartement</td>\n",
       "      <td>NaN</td>\n",
       "      <td>1</td>\n",
       "      <td>4336.317647</td>\n",
       "    </tr>\n",
       "    <tr>\n",
       "      <th>394</th>\n",
       "      <td>116.0</td>\n",
       "      <td>4.0</td>\n",
       "      <td>Appartement</td>\n",
       "      <td>155.0</td>\n",
       "      <td>0</td>\n",
       "      <td>1465.517241</td>\n",
       "    </tr>\n",
       "    <tr>\n",
       "      <th>439</th>\n",
       "      <td>71.0</td>\n",
       "      <td>4.0</td>\n",
       "      <td>Appartement</td>\n",
       "      <td>NaN</td>\n",
       "      <td>1</td>\n",
       "      <td>2253.521127</td>\n",
       "    </tr>\n",
       "    <tr>\n",
       "      <th>445</th>\n",
       "      <td>88.0</td>\n",
       "      <td>4.0</td>\n",
       "      <td>Appartement</td>\n",
       "      <td>NaN</td>\n",
       "      <td>2</td>\n",
       "      <td>3352.272727</td>\n",
       "    </tr>\n",
       "    <tr>\n",
       "      <th>494</th>\n",
       "      <td>71.0</td>\n",
       "      <td>4.0</td>\n",
       "      <td>Appartement</td>\n",
       "      <td>NaN</td>\n",
       "      <td>2</td>\n",
       "      <td>3408.450704</td>\n",
       "    </tr>\n",
       "    <tr>\n",
       "      <th>503</th>\n",
       "      <td>116.0</td>\n",
       "      <td>4.0</td>\n",
       "      <td>Appartement</td>\n",
       "      <td>NaN</td>\n",
       "      <td>1</td>\n",
       "      <td>4239.482759</td>\n",
       "    </tr>\n",
       "    <tr>\n",
       "      <th>509</th>\n",
       "      <td>94.0</td>\n",
       "      <td>4.0</td>\n",
       "      <td>Appartement</td>\n",
       "      <td>NaN</td>\n",
       "      <td>1</td>\n",
       "      <td>4468.085106</td>\n",
       "    </tr>\n",
       "    <tr>\n",
       "      <th>528</th>\n",
       "      <td>100.0</td>\n",
       "      <td>4.0</td>\n",
       "      <td>Appartement</td>\n",
       "      <td>NaN</td>\n",
       "      <td>1</td>\n",
       "      <td>3025.000000</td>\n",
       "    </tr>\n",
       "    <tr>\n",
       "      <th>543</th>\n",
       "      <td>110.0</td>\n",
       "      <td>4.0</td>\n",
       "      <td>Appartement</td>\n",
       "      <td>NaN</td>\n",
       "      <td>2</td>\n",
       "      <td>3127.272727</td>\n",
       "    </tr>\n",
       "    <tr>\n",
       "      <th>572</th>\n",
       "      <td>65.0</td>\n",
       "      <td>4.0</td>\n",
       "      <td>Appartement</td>\n",
       "      <td>NaN</td>\n",
       "      <td>2</td>\n",
       "      <td>2846.153846</td>\n",
       "    </tr>\n",
       "    <tr>\n",
       "      <th>575</th>\n",
       "      <td>170.0</td>\n",
       "      <td>4.0</td>\n",
       "      <td>Appartement</td>\n",
       "      <td>221.0</td>\n",
       "      <td>0</td>\n",
       "      <td>3058.823529</td>\n",
       "    </tr>\n",
       "    <tr>\n",
       "      <th>583</th>\n",
       "      <td>130.0</td>\n",
       "      <td>4.0</td>\n",
       "      <td>Appartement</td>\n",
       "      <td>NaN</td>\n",
       "      <td>2</td>\n",
       "      <td>2838.461538</td>\n",
       "    </tr>\n",
       "    <tr>\n",
       "      <th>600</th>\n",
       "      <td>86.0</td>\n",
       "      <td>4.0</td>\n",
       "      <td>Appartement</td>\n",
       "      <td>NaN</td>\n",
       "      <td>2</td>\n",
       "      <td>4069.767442</td>\n",
       "    </tr>\n",
       "    <tr>\n",
       "      <th>682</th>\n",
       "      <td>109.0</td>\n",
       "      <td>4.0</td>\n",
       "      <td>Appartement</td>\n",
       "      <td>NaN</td>\n",
       "      <td>2</td>\n",
       "      <td>5504.587156</td>\n",
       "    </tr>\n",
       "    <tr>\n",
       "      <th>704</th>\n",
       "      <td>85.0</td>\n",
       "      <td>4.0</td>\n",
       "      <td>Appartement</td>\n",
       "      <td>NaN</td>\n",
       "      <td>2</td>\n",
       "      <td>3117.647059</td>\n",
       "    </tr>\n",
       "  </tbody>\n",
       "</table>\n",
       "</div>"
      ]
     },
     "execution_count": 12,
     "metadata": {},
     "output_type": "execute_result"
    }
   ],
   "execution_count": 12
  },
  {
   "metadata": {
    "ExecuteTime": {
     "end_time": "2025-06-26T07:30:55.931278Z",
     "start_time": "2025-06-26T07:30:55.929871Z"
    }
   },
   "cell_type": "code",
   "source": "",
   "id": "3c7b09c35c3ab91f",
   "outputs": [],
   "execution_count": null
  },
  {
   "metadata": {
    "ExecuteTime": {
     "end_time": "2025-06-26T07:30:55.961014Z",
     "start_time": "2025-06-26T07:30:55.959112Z"
    }
   },
   "cell_type": "code",
   "source": "df_appartements[\"Surface terrain\"] = df_appartements[\"Surface terrain\"].fillna(0)",
   "id": "5eba60868af8f9fc",
   "outputs": [],
   "execution_count": 13
  },
  {
   "metadata": {
    "ExecuteTime": {
     "end_time": "2025-06-26T07:30:56.003274Z",
     "start_time": "2025-06-26T07:30:55.997503Z"
    }
   },
   "cell_type": "code",
   "source": [
    "df_maisons = df_maisons[[\"Surface reelle bati\", \"Nombre pieces principales\", \"Type local\", \"Surface terrain\", \"Nombre de lots\", \"prix_m2\"]]\n",
    "df_maisons.head(25)"
   ],
   "id": "ba55a684112273bc",
   "outputs": [
    {
     "data": {
      "text/plain": [
       "     Surface reelle bati  Nombre pieces principales Type local  \\\n",
       "18                 165.0                        4.0     Maison   \n",
       "65                  64.0                        4.0     Maison   \n",
       "161                 70.0                        4.0     Maison   \n",
       "168                 62.0                        4.0     Maison   \n",
       "176                 72.0                        4.0     Maison   \n",
       "231                 80.0                        4.0     Maison   \n",
       "312                 65.0                        4.0     Maison   \n",
       "365                 88.0                        4.0     Maison   \n",
       "379                 93.0                        4.0     Maison   \n",
       "380                123.0                        4.0     Maison   \n",
       "396                 60.0                        4.0     Maison   \n",
       "397                 78.0                        4.0     Maison   \n",
       "409                112.0                        4.0     Maison   \n",
       "425                 75.0                        4.0     Maison   \n",
       "432                 87.0                        4.0     Maison   \n",
       "434                 70.0                        4.0     Maison   \n",
       "492                 75.0                        4.0     Maison   \n",
       "537                 77.0                        4.0     Maison   \n",
       "585                 97.0                        4.0     Maison   \n",
       "598                 91.0                        4.0     Maison   \n",
       "652                 98.0                        4.0     Maison   \n",
       "653                 90.0                        4.0     Maison   \n",
       "709                 50.0                        4.0     Maison   \n",
       "734                 86.0                        4.0     Maison   \n",
       "843                132.0                        4.0     Maison   \n",
       "\n",
       "     Surface terrain  Nombre de lots      prix_m2  \n",
       "18             121.0               0  1848.484848  \n",
       "65             127.0               0  3545.312500  \n",
       "161            192.0               0  2941.285714  \n",
       "168             96.0               0  2572.580645  \n",
       "176            135.0               0  3609.722222  \n",
       "231            182.0               0  2750.000000  \n",
       "312             47.0               0  3129.230769  \n",
       "365            117.0               0  3244.318182  \n",
       "379            131.0               0  3062.365591  \n",
       "380            153.0               0  2032.520325  \n",
       "396             39.0               0  3008.333333  \n",
       "397            230.0               0  2820.512821  \n",
       "409            127.0               1  4087.500000  \n",
       "425             60.0               0  3266.666667  \n",
       "432            100.0               0  2551.724138  \n",
       "434            133.0               0  4142.857143  \n",
       "492            178.0               0  4733.333333  \n",
       "537            167.0               0  2001.298701  \n",
       "585            221.0               0  2422.680412  \n",
       "598            121.0               0  2329.670330  \n",
       "652            127.0               1  3826.530612  \n",
       "653            251.0               0  4333.333333  \n",
       "709             84.0               0  3244.000000  \n",
       "734            127.0               1  2152.674419  \n",
       "843             81.0               0  4469.696970  "
      ],
      "text/html": [
       "<div>\n",
       "<style scoped>\n",
       "    .dataframe tbody tr th:only-of-type {\n",
       "        vertical-align: middle;\n",
       "    }\n",
       "\n",
       "    .dataframe tbody tr th {\n",
       "        vertical-align: top;\n",
       "    }\n",
       "\n",
       "    .dataframe thead th {\n",
       "        text-align: right;\n",
       "    }\n",
       "</style>\n",
       "<table border=\"1\" class=\"dataframe\">\n",
       "  <thead>\n",
       "    <tr style=\"text-align: right;\">\n",
       "      <th></th>\n",
       "      <th>Surface reelle bati</th>\n",
       "      <th>Nombre pieces principales</th>\n",
       "      <th>Type local</th>\n",
       "      <th>Surface terrain</th>\n",
       "      <th>Nombre de lots</th>\n",
       "      <th>prix_m2</th>\n",
       "    </tr>\n",
       "  </thead>\n",
       "  <tbody>\n",
       "    <tr>\n",
       "      <th>18</th>\n",
       "      <td>165.0</td>\n",
       "      <td>4.0</td>\n",
       "      <td>Maison</td>\n",
       "      <td>121.0</td>\n",
       "      <td>0</td>\n",
       "      <td>1848.484848</td>\n",
       "    </tr>\n",
       "    <tr>\n",
       "      <th>65</th>\n",
       "      <td>64.0</td>\n",
       "      <td>4.0</td>\n",
       "      <td>Maison</td>\n",
       "      <td>127.0</td>\n",
       "      <td>0</td>\n",
       "      <td>3545.312500</td>\n",
       "    </tr>\n",
       "    <tr>\n",
       "      <th>161</th>\n",
       "      <td>70.0</td>\n",
       "      <td>4.0</td>\n",
       "      <td>Maison</td>\n",
       "      <td>192.0</td>\n",
       "      <td>0</td>\n",
       "      <td>2941.285714</td>\n",
       "    </tr>\n",
       "    <tr>\n",
       "      <th>168</th>\n",
       "      <td>62.0</td>\n",
       "      <td>4.0</td>\n",
       "      <td>Maison</td>\n",
       "      <td>96.0</td>\n",
       "      <td>0</td>\n",
       "      <td>2572.580645</td>\n",
       "    </tr>\n",
       "    <tr>\n",
       "      <th>176</th>\n",
       "      <td>72.0</td>\n",
       "      <td>4.0</td>\n",
       "      <td>Maison</td>\n",
       "      <td>135.0</td>\n",
       "      <td>0</td>\n",
       "      <td>3609.722222</td>\n",
       "    </tr>\n",
       "    <tr>\n",
       "      <th>231</th>\n",
       "      <td>80.0</td>\n",
       "      <td>4.0</td>\n",
       "      <td>Maison</td>\n",
       "      <td>182.0</td>\n",
       "      <td>0</td>\n",
       "      <td>2750.000000</td>\n",
       "    </tr>\n",
       "    <tr>\n",
       "      <th>312</th>\n",
       "      <td>65.0</td>\n",
       "      <td>4.0</td>\n",
       "      <td>Maison</td>\n",
       "      <td>47.0</td>\n",
       "      <td>0</td>\n",
       "      <td>3129.230769</td>\n",
       "    </tr>\n",
       "    <tr>\n",
       "      <th>365</th>\n",
       "      <td>88.0</td>\n",
       "      <td>4.0</td>\n",
       "      <td>Maison</td>\n",
       "      <td>117.0</td>\n",
       "      <td>0</td>\n",
       "      <td>3244.318182</td>\n",
       "    </tr>\n",
       "    <tr>\n",
       "      <th>379</th>\n",
       "      <td>93.0</td>\n",
       "      <td>4.0</td>\n",
       "      <td>Maison</td>\n",
       "      <td>131.0</td>\n",
       "      <td>0</td>\n",
       "      <td>3062.365591</td>\n",
       "    </tr>\n",
       "    <tr>\n",
       "      <th>380</th>\n",
       "      <td>123.0</td>\n",
       "      <td>4.0</td>\n",
       "      <td>Maison</td>\n",
       "      <td>153.0</td>\n",
       "      <td>0</td>\n",
       "      <td>2032.520325</td>\n",
       "    </tr>\n",
       "    <tr>\n",
       "      <th>396</th>\n",
       "      <td>60.0</td>\n",
       "      <td>4.0</td>\n",
       "      <td>Maison</td>\n",
       "      <td>39.0</td>\n",
       "      <td>0</td>\n",
       "      <td>3008.333333</td>\n",
       "    </tr>\n",
       "    <tr>\n",
       "      <th>397</th>\n",
       "      <td>78.0</td>\n",
       "      <td>4.0</td>\n",
       "      <td>Maison</td>\n",
       "      <td>230.0</td>\n",
       "      <td>0</td>\n",
       "      <td>2820.512821</td>\n",
       "    </tr>\n",
       "    <tr>\n",
       "      <th>409</th>\n",
       "      <td>112.0</td>\n",
       "      <td>4.0</td>\n",
       "      <td>Maison</td>\n",
       "      <td>127.0</td>\n",
       "      <td>1</td>\n",
       "      <td>4087.500000</td>\n",
       "    </tr>\n",
       "    <tr>\n",
       "      <th>425</th>\n",
       "      <td>75.0</td>\n",
       "      <td>4.0</td>\n",
       "      <td>Maison</td>\n",
       "      <td>60.0</td>\n",
       "      <td>0</td>\n",
       "      <td>3266.666667</td>\n",
       "    </tr>\n",
       "    <tr>\n",
       "      <th>432</th>\n",
       "      <td>87.0</td>\n",
       "      <td>4.0</td>\n",
       "      <td>Maison</td>\n",
       "      <td>100.0</td>\n",
       "      <td>0</td>\n",
       "      <td>2551.724138</td>\n",
       "    </tr>\n",
       "    <tr>\n",
       "      <th>434</th>\n",
       "      <td>70.0</td>\n",
       "      <td>4.0</td>\n",
       "      <td>Maison</td>\n",
       "      <td>133.0</td>\n",
       "      <td>0</td>\n",
       "      <td>4142.857143</td>\n",
       "    </tr>\n",
       "    <tr>\n",
       "      <th>492</th>\n",
       "      <td>75.0</td>\n",
       "      <td>4.0</td>\n",
       "      <td>Maison</td>\n",
       "      <td>178.0</td>\n",
       "      <td>0</td>\n",
       "      <td>4733.333333</td>\n",
       "    </tr>\n",
       "    <tr>\n",
       "      <th>537</th>\n",
       "      <td>77.0</td>\n",
       "      <td>4.0</td>\n",
       "      <td>Maison</td>\n",
       "      <td>167.0</td>\n",
       "      <td>0</td>\n",
       "      <td>2001.298701</td>\n",
       "    </tr>\n",
       "    <tr>\n",
       "      <th>585</th>\n",
       "      <td>97.0</td>\n",
       "      <td>4.0</td>\n",
       "      <td>Maison</td>\n",
       "      <td>221.0</td>\n",
       "      <td>0</td>\n",
       "      <td>2422.680412</td>\n",
       "    </tr>\n",
       "    <tr>\n",
       "      <th>598</th>\n",
       "      <td>91.0</td>\n",
       "      <td>4.0</td>\n",
       "      <td>Maison</td>\n",
       "      <td>121.0</td>\n",
       "      <td>0</td>\n",
       "      <td>2329.670330</td>\n",
       "    </tr>\n",
       "    <tr>\n",
       "      <th>652</th>\n",
       "      <td>98.0</td>\n",
       "      <td>4.0</td>\n",
       "      <td>Maison</td>\n",
       "      <td>127.0</td>\n",
       "      <td>1</td>\n",
       "      <td>3826.530612</td>\n",
       "    </tr>\n",
       "    <tr>\n",
       "      <th>653</th>\n",
       "      <td>90.0</td>\n",
       "      <td>4.0</td>\n",
       "      <td>Maison</td>\n",
       "      <td>251.0</td>\n",
       "      <td>0</td>\n",
       "      <td>4333.333333</td>\n",
       "    </tr>\n",
       "    <tr>\n",
       "      <th>709</th>\n",
       "      <td>50.0</td>\n",
       "      <td>4.0</td>\n",
       "      <td>Maison</td>\n",
       "      <td>84.0</td>\n",
       "      <td>0</td>\n",
       "      <td>3244.000000</td>\n",
       "    </tr>\n",
       "    <tr>\n",
       "      <th>734</th>\n",
       "      <td>86.0</td>\n",
       "      <td>4.0</td>\n",
       "      <td>Maison</td>\n",
       "      <td>127.0</td>\n",
       "      <td>1</td>\n",
       "      <td>2152.674419</td>\n",
       "    </tr>\n",
       "    <tr>\n",
       "      <th>843</th>\n",
       "      <td>132.0</td>\n",
       "      <td>4.0</td>\n",
       "      <td>Maison</td>\n",
       "      <td>81.0</td>\n",
       "      <td>0</td>\n",
       "      <td>4469.696970</td>\n",
       "    </tr>\n",
       "  </tbody>\n",
       "</table>\n",
       "</div>"
      ]
     },
     "execution_count": 14,
     "metadata": {},
     "output_type": "execute_result"
    }
   ],
   "execution_count": 14
  },
  {
   "metadata": {
    "ExecuteTime": {
     "end_time": "2025-06-26T07:30:56.041350Z",
     "start_time": "2025-06-26T07:30:56.038738Z"
    }
   },
   "cell_type": "code",
   "source": [
    "# Je ne supprime pas les lignes avec des valeurs manquantes sur terrain Sinon le dataset ne permet plus de faire des estimations\n",
    "df_appartements.isna().sum()"
   ],
   "id": "4dff8c30c6c7b1d0",
   "outputs": [
    {
     "data": {
      "text/plain": [
       "Surface reelle bati          0\n",
       "Nombre pieces principales    0\n",
       "Type local                   0\n",
       "Surface terrain              0\n",
       "Nombre de lots               0\n",
       "prix_m2                      0\n",
       "dtype: int64"
      ]
     },
     "execution_count": 15,
     "metadata": {},
     "output_type": "execute_result"
    }
   ],
   "execution_count": 15
  },
  {
   "metadata": {
    "ExecuteTime": {
     "end_time": "2025-06-26T07:30:56.099768Z",
     "start_time": "2025-06-26T07:30:56.097198Z"
    }
   },
   "cell_type": "code",
   "source": [
    "# Je ne supprime pas les lignes avec des valeurs manquantes sur terrain Sinon le dataset ne permet plus de faire des estimations\n",
    "df_maisons.isna().sum()"
   ],
   "id": "e9287dc1c03a6bc4",
   "outputs": [
    {
     "data": {
      "text/plain": [
       "Surface reelle bati          0\n",
       "Nombre pieces principales    0\n",
       "Type local                   0\n",
       "Surface terrain              0\n",
       "Nombre de lots               0\n",
       "prix_m2                      0\n",
       "dtype: int64"
      ]
     },
     "execution_count": 16,
     "metadata": {},
     "output_type": "execute_result"
    }
   ],
   "execution_count": 16
  },
  {
   "metadata": {
    "ExecuteTime": {
     "end_time": "2025-06-26T07:30:56.189839Z",
     "start_time": "2025-06-26T07:30:56.187845Z"
    }
   },
   "cell_type": "code",
   "source": "df_appartements.shape[0]",
   "id": "4b1c1e5315fe9b74",
   "outputs": [
    {
     "data": {
      "text/plain": [
       "435"
      ]
     },
     "execution_count": 17,
     "metadata": {},
     "output_type": "execute_result"
    }
   ],
   "execution_count": 17
  },
  {
   "metadata": {
    "ExecuteTime": {
     "end_time": "2025-06-26T07:30:56.325362Z",
     "start_time": "2025-06-26T07:30:56.322993Z"
    }
   },
   "cell_type": "code",
   "source": [
    "def remove_outliers_iqr(df, column):\n",
    "    \"\"\"\n",
    "    Supprime les valeurs aberrantes d'une colonne numérique dans un DataFrame,\n",
    "    en utilisant la méthode de l'IQR. Modifie le DataFrame en place et affiche\n",
    "    le nombre de lignes supprimées.\n",
    "    \"\"\"\n",
    "    Q1 = df[column].quantile(0.25)\n",
    "    Q3 = df[column].quantile(0.75)\n",
    "    IQR = Q3 - Q1\n",
    "    lower_bound = Q1 - 1.5 * IQR\n",
    "    upper_bound = Q3 + 1.5 * IQR\n",
    "\n",
    "    outlier_indices = df[(df[column] < lower_bound) | (df[column] > upper_bound)].index\n",
    "    nb_outliers = len(outlier_indices)\n",
    "\n",
    "    df.drop(outlier_indices, inplace=True)\n",
    "    print(f\"{nb_outliers} valeur(s) aberrante(s) supprimée(s) dans la colonne '{column}'.\")\n"
   ],
   "id": "b3afeab3cb61846f",
   "outputs": [],
   "execution_count": 18
  },
  {
   "metadata": {
    "ExecuteTime": {
     "end_time": "2025-06-26T07:30:56.362616Z",
     "start_time": "2025-06-26T07:30:56.359415Z"
    }
   },
   "cell_type": "code",
   "source": [
    "remove_outliers_iqr(df_appartements, \"prix_m2\")\n",
    "df_appartements.shape[0]"
   ],
   "id": "2bc09c2be6c21787",
   "outputs": [
    {
     "name": "stdout",
     "output_type": "stream",
     "text": [
      "49 valeur(s) aberrante(s) supprimée(s) dans la colonne 'prix_m2'.\n"
     ]
    },
    {
     "data": {
      "text/plain": [
       "386"
      ]
     },
     "execution_count": 19,
     "metadata": {},
     "output_type": "execute_result"
    }
   ],
   "execution_count": 19
  },
  {
   "metadata": {
    "ExecuteTime": {
     "end_time": "2025-06-26T07:30:56.400712Z",
     "start_time": "2025-06-26T07:30:56.397926Z"
    }
   },
   "cell_type": "code",
   "source": [
    "remove_outliers_iqr(df_appartements, \"Surface reelle bati\")\n",
    "df_appartements.shape[0]"
   ],
   "id": "5f4374c63a49503b",
   "outputs": [
    {
     "name": "stdout",
     "output_type": "stream",
     "text": [
      "23 valeur(s) aberrante(s) supprimée(s) dans la colonne 'Surface reelle bati'.\n"
     ]
    },
    {
     "data": {
      "text/plain": [
       "363"
      ]
     },
     "execution_count": 20,
     "metadata": {},
     "output_type": "execute_result"
    }
   ],
   "execution_count": 20
  },
  {
   "metadata": {
    "ExecuteTime": {
     "end_time": "2025-06-26T07:30:56.435572Z",
     "start_time": "2025-06-26T07:30:56.431933Z"
    }
   },
   "cell_type": "code",
   "source": [
    "remove_outliers_iqr(df_maisons, \"prix_m2\")\n",
    "df_maisons.shape[0]"
   ],
   "id": "c035d2473263c5c",
   "outputs": [
    {
     "name": "stdout",
     "output_type": "stream",
     "text": [
      "13 valeur(s) aberrante(s) supprimée(s) dans la colonne 'prix_m2'.\n"
     ]
    },
    {
     "data": {
      "text/plain": [
       "341"
      ]
     },
     "execution_count": 21,
     "metadata": {},
     "output_type": "execute_result"
    }
   ],
   "execution_count": 21
  },
  {
   "metadata": {
    "ExecuteTime": {
     "end_time": "2025-06-26T07:30:56.461122Z",
     "start_time": "2025-06-26T07:30:56.457934Z"
    }
   },
   "cell_type": "code",
   "source": [
    "remove_outliers_iqr(df_maisons, \"Surface reelle bati\")\n",
    "df_maisons.shape[0]"
   ],
   "id": "654d32889642e66c",
   "outputs": [
    {
     "name": "stdout",
     "output_type": "stream",
     "text": [
      "10 valeur(s) aberrante(s) supprimée(s) dans la colonne 'Surface reelle bati'.\n"
     ]
    },
    {
     "data": {
      "text/plain": [
       "331"
      ]
     },
     "execution_count": 22,
     "metadata": {},
     "output_type": "execute_result"
    }
   ],
   "execution_count": 22
  },
  {
   "metadata": {},
   "cell_type": "markdown",
   "source": "modele LinearRegression",
   "id": "b6da360400e435b7"
  },
  {
   "metadata": {
    "ExecuteTime": {
     "end_time": "2025-06-26T07:30:56.487291Z",
     "start_time": "2025-06-26T07:30:56.485308Z"
    }
   },
   "cell_type": "code",
   "source": "df_appartements[\"Type local\"] = df_appartements[\"Type local\"].map({\"Maison\": 0, \"Appartement\": 1})",
   "id": "907e71f7fa7fd6d",
   "outputs": [],
   "execution_count": 23
  },
  {
   "metadata": {
    "ExecuteTime": {
     "end_time": "2025-06-26T07:30:56.506482Z",
     "start_time": "2025-06-26T07:30:56.503847Z"
    }
   },
   "cell_type": "code",
   "source": [
    "X = df_appartements[['Surface reelle bati', 'Nombre pieces principales', 'Type local', 'Surface terrain', 'Nombre de lots']].values\n",
    "y = df_appartements[[\"prix_m2\"]].values\n",
    "\n",
    "\n",
    "from sklearn.model_selection import train_test_split\n",
    "X_train, X_test, y_train, y_test = train_test_split(X, y, test_size=0.2, random_state=42)"
   ],
   "id": "f1efe906e68ec38f",
   "outputs": [],
   "execution_count": 24
  },
  {
   "metadata": {
    "ExecuteTime": {
     "end_time": "2025-06-26T07:30:56.526275Z",
     "start_time": "2025-06-26T07:30:56.523804Z"
    }
   },
   "cell_type": "code",
   "source": [
    "scaler_X = StandardScaler()\n",
    "scaler_y = StandardScaler()\n",
    "\n",
    "X_train_scaled = scaler_X.fit_transform(X_train)\n",
    "y_train_scaled = scaler_y.fit_transform(y_train)\n",
    "\n",
    "X_test_scaled = scaler_X.transform(X_test)\n",
    "y_test_scaled = scaler_y.transform(y_test)\n"
   ],
   "id": "815d3bdcfced4f8",
   "outputs": [],
   "execution_count": 25
  },
  {
   "metadata": {
    "ExecuteTime": {
     "end_time": "2025-06-26T07:30:56.558419Z",
     "start_time": "2025-06-26T07:30:56.544325Z"
    }
   },
   "cell_type": "code",
   "source": [
    "from sklearn.linear_model import Ridge\n",
    "from sklearn.model_selection import GridSearchCV\n",
    "\n",
    "param_grid = {\n",
    "    'alpha': [0.01, 0.1, 1.0, 10.0, 100.0]\n",
    "}\n",
    "\n",
    "grid = GridSearchCV(Ridge(), param_grid, cv=5)\n",
    "grid.fit(X_train_scaled, y_train_scaled)\n",
    "\n",
    "model = grid.best_estimator_\n",
    "print(\"Meilleur paramètre alpha :\", grid.best_params_)"
   ],
   "id": "522427e21bd5e20d",
   "outputs": [
    {
     "name": "stdout",
     "output_type": "stream",
     "text": [
      "Meilleur paramètre alpha : {'alpha': 10.0}\n"
     ]
    }
   ],
   "execution_count": 26
  },
  {
   "metadata": {
    "ExecuteTime": {
     "end_time": "2025-06-26T07:30:56.649470Z",
     "start_time": "2025-06-26T07:30:56.573835Z"
    }
   },
   "cell_type": "code",
   "source": [
    "import matplotlib.pyplot as plt\n",
    "\n",
    "y_train_pred_scaled = model.predict(X_train_scaled)\n",
    "\n",
    "plt.scatter(X_train_scaled[:, 0], y_train_scaled, color='blue', label='Train')\n",
    "plt.plot(X_train_scaled[:, 0], y_train_pred_scaled, color='red', label='Régression')\n",
    "plt.title(\"Régression linéaire standardisée – Appartements\")\n",
    "plt.xlabel(\"Valeur foncière (standardisée)\")\n",
    "plt.ylabel(\"Prix m² (standardisé)\")\n",
    "plt.legend()\n",
    "plt.grid(True)\n",
    "plt.show()"
   ],
   "id": "33352803edca9815",
   "outputs": [
    {
     "name": "stderr",
     "output_type": "stream",
     "text": [
      "/Users/Simplon/Cours/api_rest/projets/IA&Immobilier/.venv/lib/python3.10/site-packages/sklearn/linear_model/_base.py:280: RuntimeWarning: divide by zero encountered in matmul\n",
      "  return X @ coef_ + self.intercept_\n",
      "/Users/Simplon/Cours/api_rest/projets/IA&Immobilier/.venv/lib/python3.10/site-packages/sklearn/linear_model/_base.py:280: RuntimeWarning: overflow encountered in matmul\n",
      "  return X @ coef_ + self.intercept_\n",
      "/Users/Simplon/Cours/api_rest/projets/IA&Immobilier/.venv/lib/python3.10/site-packages/sklearn/linear_model/_base.py:280: RuntimeWarning: invalid value encountered in matmul\n",
      "  return X @ coef_ + self.intercept_\n"
     ]
    },
    {
     "data": {
      "text/plain": [
       "<Figure size 640x480 with 1 Axes>"
      ],
      "image/png": "[encoded data removed]"
     },
     "metadata": {},
     "output_type": "display_data"
    }
   ],
   "execution_count": 27
  },
  {
   "metadata": {
    "ExecuteTime": {
     "end_time": "2025-06-26T07:30:56.670389Z",
     "start_time": "2025-06-26T07:30:56.667954Z"
    }
   },
   "cell_type": "code",
   "source": [
    "y_pred_scaled = model.predict(X_test_scaled)\n",
    "mse_linear_app = mean_squared_error(y_test_scaled, y_pred_scaled)\n",
    "\n",
    "print(\"MSE Appartements :\", mse_linear_app)\n",
    "print(\"RMSE Appartements :\", np.sqrt(mse_linear_app))\n",
    "print(\"R² Appartements :\", r2_score(y_test_scaled, y_pred_scaled))"
   ],
   "id": "d2636f369f3b3d53",
   "outputs": [
    {
     "name": "stdout",
     "output_type": "stream",
     "text": [
      "MSE Appartements : 1.1699058099176363\n",
      "RMSE Appartements : 1.0816218423819095\n",
      "R² Appartements : 0.07581375660963774\n"
     ]
    }
   ],
   "execution_count": 28
  },
  {
   "metadata": {
    "ExecuteTime": {
     "end_time": "2025-06-26T07:30:56.777618Z",
     "start_time": "2025-06-26T07:30:56.727201Z"
    }
   },
   "cell_type": "code",
   "source": [
    "plt.scatter(X_train_scaled[:, 0], y_train_scaled, color='green', label='Valeur cible')\n",
    "plt.plot(X_train_scaled[:, 0], y_train_pred_scaled, color='pink', label='Prédiction')\n",
    "plt.title(\"Valeurs réelles vs prédictions – Appartements\")\n",
    "plt.xlabel(\"Valeur foncière (standardisée)\")\n",
    "plt.ylabel(\"Prix m² (standardisé)\")\n",
    "plt.legend()\n",
    "plt.grid(True)\n",
    "plt.show()"
   ],
   "id": "604ffd2d995cbbce",
   "outputs": [
    {
     "data": {
      "text/plain": [
       "<Figure size 640x480 with 1 Axes>"
      ],
      "image/png": "[encoded data removed]"
     },
     "metadata": {},
     "output_type": "display_data"
    }
   ],
   "execution_count": 29
  },
  {
   "metadata": {
    "ExecuteTime": {
     "end_time": "2025-06-26T07:30:56.794343Z",
     "start_time": "2025-06-26T07:30:56.791612Z"
    }
   },
   "cell_type": "code",
   "source": [
    "import os\n",
    "\n",
    "# On récupère la racine du projet en remontant depuis ce fichier\n",
    "racine_projet = os.path.abspath(os.path.join(os.getcwd(), \"..\"))\n",
    "\n",
    "# Puis on construit le chemin \"data/sauvegardes\" à partir de là\n",
    "racine = os.path.join(racine_projet, \"data\", \"sauvegardes\")\n",
    "\n",
    "modeles = [\"LinearRegression\", \"DecisionTreeRegressor\", \"RandomForestRegressor\", \"XGBRegressor\"]\n",
    "types_bien = [\"appartements\", \"maisons\"]\n",
    "\n",
    "for modele in modeles:\n",
    "    for type_bien in types_bien:\n",
    "        os.makedirs(os.path.join(racine, modele, type_bien), exist_ok=True)\n"
   ],
   "id": "aa59e189b46a0ed3",
   "outputs": [],
   "execution_count": 30
  },
  {
   "metadata": {
    "ExecuteTime": {
     "end_time": "2025-06-26T07:30:56.813826Z",
     "start_time": "2025-06-26T07:30:56.810495Z"
    }
   },
   "cell_type": "code",
   "source": [
    "os.makedirs(\"../data/sauvegardes/LinearRegression/appartements\", exist_ok=True)\n",
    "\n",
    "joblib.dump(model, \"../data/sauvegardes/LinearRegression/appartements/app_model_LinearRegression.pkl\")\n",
    "joblib.dump(scaler_X, \"../data/sauvegardes/LinearRegression/appartements/app_scaler_X.pkl\")\n",
    "joblib.dump(scaler_y, \"../data/sauvegardes/LinearRegression/appartements/app_scaler_y.pkl\")\n"
   ],
   "id": "5660065fa7512ac1",
   "outputs": [
    {
     "data": {
      "text/plain": [
       "['../data/sauvegardes/LinearRegression/appartements/app_scaler_y.pkl']"
      ]
     },
     "execution_count": 31,
     "metadata": {},
     "output_type": "execute_result"
    }
   ],
   "execution_count": 31
  },
  {
   "metadata": {
    "ExecuteTime": {
     "end_time": "2025-06-26T07:30:56.832109Z",
     "start_time": "2025-06-26T07:30:56.830044Z"
    }
   },
   "cell_type": "code",
   "source": "df_maisons[\"Type local\"] = df_maisons[\"Type local\"].map({\"Maison\": 0, \"Appartement\": 1})",
   "id": "9e4ba1eb0922b2f2",
   "outputs": [],
   "execution_count": 32
  },
  {
   "metadata": {
    "ExecuteTime": {
     "end_time": "2025-06-26T07:30:56.855051Z",
     "start_time": "2025-06-26T07:30:56.852481Z"
    }
   },
   "cell_type": "code",
   "source": [
    "X = df_maisons[['Surface reelle bati', 'Nombre pieces principales', 'Type local', 'Surface terrain', 'Nombre de lots']].values\n",
    "y = df_maisons[[\"prix_m2\"]].values\n",
    "\n",
    "from sklearn.model_selection import train_test_split\n",
    "X_train, X_test, y_train, y_test = train_test_split(X, y, test_size=0.2, random_state=42)"
   ],
   "id": "40a1f5475b93efe3",
   "outputs": [],
   "execution_count": 33
  },
  {
   "metadata": {
    "ExecuteTime": {
     "end_time": "2025-06-26T07:30:56.876304Z",
     "start_time": "2025-06-26T07:30:56.873895Z"
    }
   },
   "cell_type": "code",
   "source": [
    "from sklearn.preprocessing import StandardScaler\n",
    "\n",
    "scaler_X = StandardScaler()\n",
    "scaler_y = StandardScaler()\n",
    "\n",
    "X_train_scaled = scaler_X.fit_transform(X_train)\n",
    "y_train_scaled = scaler_y.fit_transform(y_train)\n",
    "\n",
    "X_test_scaled = scaler_X.transform(X_test)\n",
    "y_test_scaled = scaler_y.transform(y_test)"
   ],
   "id": "23784570199ddfcd",
   "outputs": [],
   "execution_count": 34
  },
  {
   "metadata": {
    "ExecuteTime": {
     "end_time": "2025-06-26T07:30:56.910485Z",
     "start_time": "2025-06-26T07:30:56.895796Z"
    }
   },
   "cell_type": "code",
   "source": [
    "from sklearn.linear_model import Ridge\n",
    "from sklearn.model_selection import GridSearchCV\n",
    "\n",
    "param_grid = {\n",
    "    'alpha': [0.01, 0.1, 1.0, 10.0, 100.0]\n",
    "}\n",
    "\n",
    "grid = GridSearchCV(Ridge(), param_grid, cv=5)\n",
    "grid.fit(X_train_scaled, y_train_scaled)\n",
    "\n",
    "model = grid.best_estimator_\n",
    "print(\"Meilleur paramètre alpha :\", grid.best_params_)"
   ],
   "id": "d9daf12ac0addc75",
   "outputs": [
    {
     "name": "stdout",
     "output_type": "stream",
     "text": [
      "Meilleur paramètre alpha : {'alpha': 10.0}\n"
     ]
    }
   ],
   "execution_count": 35
  },
  {
   "metadata": {
    "ExecuteTime": {
     "end_time": "2025-06-26T07:30:56.966730Z",
     "start_time": "2025-06-26T07:30:56.923920Z"
    }
   },
   "cell_type": "code",
   "source": [
    "import matplotlib.pyplot as plt\n",
    "\n",
    "y_train_pred_scaled = model.predict(X_train_scaled)\n",
    "\n",
    "plt.scatter(X_train_scaled[:, 0], y_train_scaled, color='blue', label='Train')\n",
    "plt.plot(X_train_scaled[:, 0], y_train_pred_scaled, color='red', label='Régression')\n",
    "plt.title(\"Régression linéaire standardisée – Maisons\")\n",
    "plt.xlabel(\"Valeur foncière (standardisée)\")\n",
    "plt.ylabel(\"Prix m² (standardisé)\")\n",
    "plt.legend()\n",
    "plt.grid(True)\n",
    "plt.show()"
   ],
   "id": "b555c51b220f17f4",
   "outputs": [
    {
     "name": "stderr",
     "output_type": "stream",
     "text": [
      "/Users/Simplon/Cours/api_rest/projets/IA&Immobilier/.venv/lib/python3.10/site-packages/sklearn/linear_model/_base.py:280: RuntimeWarning: divide by zero encountered in matmul\n",
      "  return X @ coef_ + self.intercept_\n",
      "/Users/Simplon/Cours/api_rest/projets/IA&Immobilier/.venv/lib/python3.10/site-packages/sklearn/linear_model/_base.py:280: RuntimeWarning: overflow encountered in matmul\n",
      "  return X @ coef_ + self.intercept_\n",
      "/Users/Simplon/Cours/api_rest/projets/IA&Immobilier/.venv/lib/python3.10/site-packages/sklearn/linear_model/_base.py:280: RuntimeWarning: invalid value encountered in matmul\n",
      "  return X @ coef_ + self.intercept_\n"
     ]
    },
    {
     "data": {
      "text/plain": [
       "<Figure size 640x480 with 1 Axes>"
      ],
      "image/png": "[encoded data removed]"
     },
     "metadata": {},
     "output_type": "display_data"
    }
   ],
   "execution_count": 36
  },
  {
   "metadata": {
    "ExecuteTime": {
     "end_time": "2025-06-26T07:30:56.983517Z",
     "start_time": "2025-06-26T07:30:56.981096Z"
    }
   },
   "cell_type": "code",
   "source": [
    "from sklearn.metrics import mean_squared_error, r2_score\n",
    "import numpy as np\n",
    "\n",
    "y_pred_scaled = model.predict(X_test_scaled)\n",
    "mse_linear_mais = mean_squared_error(y_test_scaled, y_pred_scaled)\n",
    "\n",
    "print(\"MSE Maisons :\", mse_linear_mais)\n",
    "print(\"RMSE Maisons :\", np.sqrt(mse_linear_mais))\n",
    "print(\"R² Maisons :\", r2_score(y_test_scaled, y_pred_scaled))"
   ],
   "id": "79e74a8983dc7a20",
   "outputs": [
    {
     "name": "stdout",
     "output_type": "stream",
     "text": [
      "MSE Maisons : 0.9218534516958302\n",
      "RMSE Maisons : 0.9601319970169884\n",
      "R² Maisons : -0.12071993281522153\n"
     ]
    }
   ],
   "execution_count": 37
  },
  {
   "metadata": {
    "ExecuteTime": {
     "end_time": "2025-06-26T07:30:57.047417Z",
     "start_time": "2025-06-26T07:30:57.004016Z"
    }
   },
   "cell_type": "code",
   "source": [
    "plt.scatter(X_train_scaled[:, 0], y_train_scaled,  color='green', label='Valeur cible')\n",
    "plt.scatter(X_train_scaled[:, 0], y_train_pred_scaled, color='pink', label='Prédiction')\n",
    "plt.title(\"Valeurs réelles vs prédictions – Maisons\")\n",
    "plt.xlabel(\"Valeur foncière (standardisée)\")\n",
    "plt.ylabel(\"Prix m² (standardisé)\")\n",
    "plt.legend()\n",
    "plt.grid(True)\n",
    "plt.show()"
   ],
   "id": "a06abaf782ab749",
   "outputs": [
    {
     "data": {
      "text/plain": [
       "<Figure size 640x480 with 1 Axes>"
      ],
      "image/png": "[encoded data removed]"
     },
     "metadata": {},
     "output_type": "display_data"
    }
   ],
   "execution_count": 38
  },
  {
   "metadata": {
    "ExecuteTime": {
     "end_time": "2025-06-26T07:30:57.065104Z",
     "start_time": "2025-06-26T07:30:57.061681Z"
    }
   },
   "cell_type": "code",
   "source": [
    "os.makedirs(\"../data/sauvegardes/LinearRegression/maisons\", exist_ok=True)\n",
    "\n",
    "joblib.dump(model, \"../data/sauvegardes/LinearRegression/maisons/app_model_LinearRegression.pkl\")\n",
    "joblib.dump(scaler_X, \"../data/sauvegardes/LinearRegression/maisons/app_scaler_X.pkl\")\n",
    "joblib.dump(scaler_y, \"../data/sauvegardes/LinearRegression/maisons/app_scaler_y.pkl\")"
   ],
   "id": "7e549b5541ed296c",
   "outputs": [
    {
     "data": {
      "text/plain": [
       "['../data/sauvegardes/LinearRegression/maisons/app_scaler_y.pkl']"
      ]
     },
     "execution_count": 39,
     "metadata": {},
     "output_type": "execute_result"
    }
   ],
   "execution_count": 39
  },
  {
   "metadata": {},
   "cell_type": "markdown",
   "source": "modèle DecisionTreeRegressor",
   "id": "a0ffe468279e213b"
  },
  {
   "metadata": {
    "ExecuteTime": {
     "end_time": "2025-06-26T07:30:57.128017Z",
     "start_time": "2025-06-26T07:30:57.078544Z"
    }
   },
   "cell_type": "code",
   "source": [
    "import numpy as np\n",
    "import matplotlib.pyplot as plt\n",
    "from sklearn.model_selection import train_test_split\n",
    "from sklearn.preprocessing import StandardScaler\n",
    "from sklearn.tree import DecisionTreeRegressor\n",
    "from sklearn.metrics import mean_squared_error, r2_score\n"
   ],
   "id": "105b227f7c1f6588",
   "outputs": [],
   "execution_count": 40
  },
  {
   "metadata": {
    "ExecuteTime": {
     "end_time": "2025-06-26T07:30:57.162801Z",
     "start_time": "2025-06-26T07:30:57.160110Z"
    }
   },
   "cell_type": "code",
   "source": [
    "X = df_appartements[['Surface reelle bati', 'Nombre pieces principales', 'Type local', 'Surface terrain', 'Nombre de lots']].values\n",
    "y = df_appartements[[\"prix_m2\"]].values\n",
    "\n",
    "from sklearn.model_selection import train_test_split\n",
    "X_train, X_test, y_train, y_test = train_test_split(X, y, test_size=0.2, random_state=42)"
   ],
   "id": "3b3419a0432b6cd2",
   "outputs": [],
   "execution_count": 41
  },
  {
   "metadata": {
    "ExecuteTime": {
     "end_time": "2025-06-26T07:30:57.179851Z",
     "start_time": "2025-06-26T07:30:57.177538Z"
    }
   },
   "cell_type": "code",
   "source": [
    "scaler_X = StandardScaler()\n",
    "scaler_y = StandardScaler()\n",
    "\n",
    "X_train_scaled = scaler_X.fit_transform(X_train)\n",
    "y_train_scaled = scaler_y.fit_transform(y_train)\n",
    "\n",
    "X_test_scaled = scaler_X.transform(X_test)\n",
    "y_test_scaled = scaler_y.transform(y_test)"
   ],
   "id": "cd17ddff6529b622",
   "outputs": [],
   "execution_count": 42
  },
  {
   "metadata": {
    "ExecuteTime": {
     "end_time": "2025-06-26T07:30:57.233151Z",
     "start_time": "2025-06-26T07:30:57.195449Z"
    }
   },
   "cell_type": "code",
   "source": [
    "from sklearn.tree import DecisionTreeRegressor\n",
    "from sklearn.model_selection import GridSearchCV\n",
    "\n",
    "param_grid = {\n",
    "    'max_depth': [2, 4, 6, 8, 10],\n",
    "    'min_samples_split': [2, 5, 10]\n",
    "}\n",
    "\n",
    "grid = GridSearchCV(DecisionTreeRegressor(random_state=42), param_grid, cv=5)\n",
    "grid.fit(X_train_scaled, y_train_scaled)\n",
    "\n",
    "model = grid.best_estimator_\n",
    "print(\"Meilleurs paramètres (Appartements) :\", grid.best_params_)"
   ],
   "id": "4456483e3458611e",
   "outputs": [
    {
     "name": "stdout",
     "output_type": "stream",
     "text": [
      "Meilleurs paramètres (Appartements) : {'max_depth': 2, 'min_samples_split': 2}\n"
     ]
    }
   ],
   "execution_count": 43
  },
  {
   "metadata": {
    "ExecuteTime": {
     "end_time": "2025-06-26T07:30:57.293145Z",
     "start_time": "2025-06-26T07:30:57.249076Z"
    }
   },
   "cell_type": "code",
   "source": [
    "import matplotlib.pyplot as plt\n",
    "\n",
    "y_train_pred_scaled = model.predict(X_train_scaled)\n",
    "\n",
    "plt.scatter(X_train_scaled[:, 0], y_train_scaled,  color='blue', label='Train')\n",
    "plt.scatter(X_train_scaled[:, 0], y_train_pred_scaled, color='red', label='Prédiction')\n",
    "plt.title(\"Arbre de décision – Entraînement (Appartements)\")\n",
    "plt.xlabel(\"Valeur foncière (standardisée)\")\n",
    "plt.ylabel(\"Prix m² (standardisé)\")\n",
    "plt.legend()\n",
    "plt.grid(True)\n",
    "plt.show()"
   ],
   "id": "f5edeb83648c65fd",
   "outputs": [
    {
     "data": {
      "text/plain": [
       "<Figure size 640x480 with 1 Axes>"
      ],
      "image/png": "[encoded data removed]"
     },
     "metadata": {},
     "output_type": "display_data"
    }
   ],
   "execution_count": 44
  },
  {
   "metadata": {
    "ExecuteTime": {
     "end_time": "2025-06-26T07:30:57.309946Z",
     "start_time": "2025-06-26T07:30:57.307162Z"
    }
   },
   "cell_type": "code",
   "source": [
    "from sklearn.metrics import mean_squared_error, r2_score\n",
    "import numpy as np\n",
    "\n",
    "y_pred_scaled = model.predict(X_test_scaled)\n",
    "mse_tree_app = mean_squared_error(y_test_scaled, y_pred_scaled)\n",
    "\n",
    "print(\"MSE Appartements :\", mse_tree_app)\n",
    "print(\"RMSE Appartements :\", np.sqrt(mse_tree_app))\n",
    "print(\"R² Appartements :\", r2_score(y_test_scaled, y_pred_scaled))"
   ],
   "id": "fd28b8cc4429d5a4",
   "outputs": [
    {
     "name": "stdout",
     "output_type": "stream",
     "text": [
      "MSE Appartements : 1.2816819884464796\n",
      "RMSE Appartements : 1.132113946759106\n",
      "R² Appartements : -0.012485665155243408\n"
     ]
    }
   ],
   "execution_count": 45
  },
  {
   "metadata": {
    "ExecuteTime": {
     "end_time": "2025-06-26T07:30:57.369662Z",
     "start_time": "2025-06-26T07:30:57.324638Z"
    }
   },
   "cell_type": "code",
   "source": [
    "plt.scatter(X_train_scaled[:, 0], y_train_scaled,  color='green', label='Valeur cible')\n",
    "plt.scatter(X_train_scaled[:, 0], y_train_pred_scaled,  color='pink', label='Prédiction')\n",
    "plt.title(\"Arbre de décision – Prédictions (Appartements)\")\n",
    "plt.xlabel(\"Valeur foncière (standardisée)\")\n",
    "plt.ylabel(\"Prix m² (standardisé)\")\n",
    "plt.legend()\n",
    "plt.grid(True)\n",
    "plt.show()"
   ],
   "id": "ec595e5f9d30ac9d",
   "outputs": [
    {
     "data": {
      "text/plain": [
       "<Figure size 640x480 with 1 Axes>"
      ],
      "image/png": "[encoded data removed]"
     },
     "metadata": {},
     "output_type": "display_data"
    }
   ],
   "execution_count": 46
  },
  {
   "metadata": {
    "ExecuteTime": {
     "end_time": "2025-06-26T07:30:57.388135Z",
     "start_time": "2025-06-26T07:30:57.384469Z"
    }
   },
   "cell_type": "code",
   "source": [
    "os.makedirs(\"../data/sauvegardes/DecisionTreeRegressor/appartements\", exist_ok=True)\n",
    "\n",
    "joblib.dump(model, \"../data/sauvegardes/DecisionTreeRegressor/appartements/app_model_DecisionTreeRegressor.pkl\")\n",
    "joblib.dump(scaler_X, \"../data/sauvegardes/DecisionTreeRegressor/appartements/app_scaler_X.pkl\")\n",
    "joblib.dump(scaler_y, \"../data/sauvegardes/DecisionTreeRegressor/appartements/app_scaler_y.pkl\")"
   ],
   "id": "42a92cc1e6712abb",
   "outputs": [
    {
     "data": {
      "text/plain": [
       "['../data/sauvegardes/DecisionTreeRegressor/appartements/app_scaler_y.pkl']"
      ]
     },
     "execution_count": 47,
     "metadata": {},
     "output_type": "execute_result"
    }
   ],
   "execution_count": 47
  },
  {
   "metadata": {
    "ExecuteTime": {
     "end_time": "2025-06-26T07:30:57.407472Z",
     "start_time": "2025-06-26T07:30:57.404879Z"
    }
   },
   "cell_type": "code",
   "source": [
    "X = df_maisons[['Surface reelle bati', 'Nombre pieces principales', 'Type local', 'Surface terrain', 'Nombre de lots']].values\n",
    "y = df_maisons[[\"prix_m2\"]].values\n",
    "\n",
    "from sklearn.model_selection import train_test_split\n",
    "X_train, X_test, y_train, y_test = train_test_split(X, y, test_size=0.2, random_state=42)"
   ],
   "id": "4c7e1c4bddf3216e",
   "outputs": [],
   "execution_count": 48
  },
  {
   "metadata": {
    "ExecuteTime": {
     "end_time": "2025-06-26T07:30:57.422969Z",
     "start_time": "2025-06-26T07:30:57.420651Z"
    }
   },
   "cell_type": "code",
   "source": [
    "from sklearn.preprocessing import StandardScaler\n",
    "\n",
    "scaler_X = StandardScaler()\n",
    "scaler_y = StandardScaler()\n",
    "\n",
    "X_train_scaled = scaler_X.fit_transform(X_train)\n",
    "y_train_scaled = scaler_y.fit_transform(y_train)\n",
    "\n",
    "X_test_scaled = scaler_X.transform(X_test)\n",
    "y_test_scaled = scaler_y.transform(y_test)"
   ],
   "id": "ea4ca0ac058a65b",
   "outputs": [],
   "execution_count": 49
  },
  {
   "metadata": {
    "ExecuteTime": {
     "end_time": "2025-06-26T07:30:57.477208Z",
     "start_time": "2025-06-26T07:30:57.437697Z"
    }
   },
   "cell_type": "code",
   "source": [
    "from sklearn.tree import DecisionTreeRegressor\n",
    "from sklearn.model_selection import GridSearchCV\n",
    "\n",
    "param_grid = {\n",
    "    'max_depth': [2, 4, 6, 8, 10],\n",
    "    'min_samples_split': [2, 5, 10]\n",
    "}\n",
    "\n",
    "grid = GridSearchCV(DecisionTreeRegressor(random_state=42), param_grid, cv=5)\n",
    "grid.fit(X_train_scaled, y_train_scaled)\n",
    "\n",
    "model = grid.best_estimator_\n",
    "print(\"Meilleurs paramètres (Maisons) :\", grid.best_params_)"
   ],
   "id": "d602ed45d1c4cec6",
   "outputs": [
    {
     "name": "stdout",
     "output_type": "stream",
     "text": [
      "Meilleurs paramètres (Maisons) : {'max_depth': 2, 'min_samples_split': 10}\n"
     ]
    }
   ],
   "execution_count": 50
  },
  {
   "metadata": {
    "ExecuteTime": {
     "end_time": "2025-06-26T07:30:57.535213Z",
     "start_time": "2025-06-26T07:30:57.491179Z"
    }
   },
   "cell_type": "code",
   "source": [
    "import matplotlib.pyplot as plt\n",
    "\n",
    "y_train_pred_scaled = model.predict(X_train_scaled)\n",
    "\n",
    "plt.scatter(X_train_scaled[:, 0], y_train_scaled, color='blue', label='Train')\n",
    "plt.scatter(X_train_scaled[:, 0], y_train_pred_scaled, color='red', label='Prédiction')\n",
    "plt.title(\"Arbre de décision – Entraînement (Maisons)\")\n",
    "plt.xlabel(\"Valeur foncière (standardisée)\")\n",
    "plt.ylabel(\"Prix m² (standardisé)\")\n",
    "plt.legend()\n",
    "plt.grid(True)\n",
    "plt.show()"
   ],
   "id": "6024442fbbaddaf",
   "outputs": [
    {
     "data": {
      "text/plain": [
       "<Figure size 640x480 with 1 Axes>"
      ],
      "image/png": "[encoded data removed]"
     },
     "metadata": {},
     "output_type": "display_data"
    }
   ],
   "execution_count": 51
  },
  {
   "metadata": {
    "ExecuteTime": {
     "end_time": "2025-06-26T07:30:57.552251Z",
     "start_time": "2025-06-26T07:30:57.549615Z"
    }
   },
   "cell_type": "code",
   "source": [
    "from sklearn.metrics import mean_squared_error, r2_score\n",
    "import numpy as np\n",
    "\n",
    "y_pred_scaled = model.predict(X_test_scaled)\n",
    "mse_tree_mais = mean_squared_error(y_test_scaled, y_pred_scaled)\n",
    "\n",
    "print(\"MSE Maisons :\", mse_tree_mais)\n",
    "print(\"RMSE Maisons :\", np.sqrt(mse_tree_mais))\n",
    "print(\"R² Maisons :\", r2_score(y_test_scaled, y_pred_scaled))"
   ],
   "id": "b291b6fd1bae75fd",
   "outputs": [
    {
     "name": "stdout",
     "output_type": "stream",
     "text": [
      "MSE Maisons : 0.9109452756632195\n",
      "RMSE Maisons : 0.9544345318895474\n",
      "R² Maisons : -0.10745859470566077\n"
     ]
    }
   ],
   "execution_count": 52
  },
  {
   "metadata": {
    "ExecuteTime": {
     "end_time": "2025-06-26T07:30:57.613373Z",
     "start_time": "2025-06-26T07:30:57.568617Z"
    }
   },
   "cell_type": "code",
   "source": [
    "plt.scatter(X_train_scaled[:, 0], y_train_scaled, color='green', label='Valeur cible')\n",
    "plt.scatter(X_train_scaled[:, 0], y_train_pred_scaled,color='pink', label='Prédiction')\n",
    "plt.title(\"Arbre de décision – Prédictions (Maisons)\")\n",
    "plt.xlabel(\"Valeur foncière (standardisée)\")\n",
    "plt.ylabel(\"Prix m² (standardisé)\")\n",
    "plt.legend()\n",
    "plt.grid(True)\n",
    "plt.show()"
   ],
   "id": "59b688bcf8647324",
   "outputs": [
    {
     "data": {
      "text/plain": [
       "<Figure size 640x480 with 1 Axes>"
      ],
      "image/png": "[encoded data removed]"
     },
     "metadata": {},
     "output_type": "display_data"
    }
   ],
   "execution_count": 53
  },
  {
   "metadata": {
    "ExecuteTime": {
     "end_time": "2025-06-26T07:30:57.645704Z",
     "start_time": "2025-06-26T07:30:57.642331Z"
    }
   },
   "cell_type": "code",
   "source": [
    "os.makedirs(\"../data/sauvegardes/DecisionTreeRegressor/maisons\", exist_ok=True)\n",
    "\n",
    "joblib.dump(model, \"../data/sauvegardes/DecisionTreeRegressor/maisons/app_model_DecisionTreeRegressor.pkl\")\n",
    "joblib.dump(scaler_X, \"../data/sauvegardes/DecisionTreeRegressor/maisons/app_scaler_X.pkl\")\n",
    "joblib.dump(scaler_y, \"../data/sauvegardes/DecisionTreeRegressor/maisons/app_scaler_y.pkl\")"
   ],
   "id": "4b85c2022b92e4f0",
   "outputs": [
    {
     "data": {
      "text/plain": [
       "['../data/sauvegardes/DecisionTreeRegressor/maisons/app_scaler_y.pkl']"
      ]
     },
     "execution_count": 54,
     "metadata": {},
     "output_type": "execute_result"
    }
   ],
   "execution_count": 54
  },
  {
   "metadata": {},
   "cell_type": "markdown",
   "source": "modèle RandomForestRegressor",
   "id": "9d30688d383cdb9c"
  },
  {
   "metadata": {
    "ExecuteTime": {
     "end_time": "2025-06-26T07:30:57.722095Z",
     "start_time": "2025-06-26T07:30:57.719468Z"
    }
   },
   "cell_type": "code",
   "source": [
    "X = df_appartements[['Surface reelle bati', 'Nombre pieces principales', 'Type local', 'Surface terrain', 'Nombre de lots']].values\n",
    "y = df_appartements[[\"prix_m2\"]].values\n",
    "\n",
    "from sklearn.model_selection import train_test_split\n",
    "X_train, X_test, y_train, y_test = train_test_split(X, y, test_size=0.2, random_state=42)"
   ],
   "id": "7e0d35dab2430e7d",
   "outputs": [],
   "execution_count": 55
  },
  {
   "metadata": {
    "ExecuteTime": {
     "end_time": "2025-06-26T07:30:57.748331Z",
     "start_time": "2025-06-26T07:30:57.745883Z"
    }
   },
   "cell_type": "code",
   "source": [
    "from sklearn.preprocessing import StandardScaler\n",
    "\n",
    "scaler_X = StandardScaler()\n",
    "scaler_y = StandardScaler()\n",
    "\n",
    "X_train_scaled = scaler_X.fit_transform(X_train)\n",
    "y_train_scaled = scaler_y.fit_transform(y_train)\n",
    "\n",
    "X_test_scaled = scaler_X.transform(X_test)\n",
    "y_test_scaled = scaler_y.transform(y_test)"
   ],
   "id": "25e82947abf14473",
   "outputs": [],
   "execution_count": 56
  },
  {
   "metadata": {
    "ExecuteTime": {
     "end_time": "2025-06-26T07:30:59.778919Z",
     "start_time": "2025-06-26T07:30:57.763294Z"
    }
   },
   "cell_type": "code",
   "source": [
    "from sklearn.ensemble import RandomForestRegressor\n",
    "from sklearn.model_selection import GridSearchCV\n",
    "\n",
    "param_grid = {\n",
    "    'n_estimators': [50, 100],\n",
    "    'max_depth': [None, 4, 6, 8],\n",
    "    'min_samples_split': [2, 5]\n",
    "}\n",
    "\n",
    "grid = GridSearchCV(RandomForestRegressor(random_state=42), param_grid, cv=5)\n",
    "grid.fit(X_train_scaled, y_train_scaled.ravel())\n",
    "\n",
    "model = grid.best_estimator_\n",
    "print(\"Meilleurs paramètres (Appartements) :\", grid.best_params_)"
   ],
   "id": "6b82e1bf9b2d4e4a",
   "outputs": [
    {
     "name": "stdout",
     "output_type": "stream",
     "text": [
      "Meilleurs paramètres (Appartements) : {'max_depth': 4, 'min_samples_split': 5, 'n_estimators': 50}\n"
     ]
    }
   ],
   "execution_count": 57
  },
  {
   "metadata": {
    "ExecuteTime": {
     "end_time": "2025-06-26T07:30:59.844641Z",
     "start_time": "2025-06-26T07:30:59.796181Z"
    }
   },
   "cell_type": "code",
   "source": [
    "import matplotlib.pyplot as plt\n",
    "\n",
    "y_train_pred_scaled = model.predict(X_train_scaled)\n",
    "\n",
    "plt.scatter(X_train_scaled[:, 0], y_train_scaled,  color='blue', label='Train')\n",
    "plt.scatter(X_train_scaled[:, 0], y_train_pred_scaled, color='red', label='Prédiction')\n",
    "plt.title(\"Forêt aléatoire – Entraînement (Appartements)\")\n",
    "plt.xlabel(\"Valeur foncière (standardisée)\")\n",
    "plt.ylabel(\"Prix m² (standardisé)\")\n",
    "plt.legend()\n",
    "plt.grid(True)\n",
    "plt.show()"
   ],
   "id": "b43d0282817a48b2",
   "outputs": [
    {
     "data": {
      "text/plain": [
       "<Figure size 640x480 with 1 Axes>"
      ],
      "image/png": "[encoded data removed]"
     },
     "metadata": {},
     "output_type": "display_data"
    }
   ],
   "execution_count": 58
  },
  {
   "metadata": {
    "ExecuteTime": {
     "end_time": "2025-06-26T07:30:59.864164Z",
     "start_time": "2025-06-26T07:30:59.859888Z"
    }
   },
   "cell_type": "code",
   "source": [
    "from sklearn.metrics import mean_squared_error, r2_score\n",
    "import numpy as np\n",
    "\n",
    "y_pred_scaled = model.predict(X_test_scaled)\n",
    "mse_forest_app = mean_squared_error(y_test_scaled, y_pred_scaled)\n",
    "\n",
    "print(\"MSE Appartements :\", mse_forest_app)\n",
    "print(\"RMSE Appartements :\", np.sqrt(mse_forest_app))\n",
    "print(\"R² Appartements :\", r2_score(y_test_scaled, y_pred_scaled))"
   ],
   "id": "a1a11cd2b8977fa4",
   "outputs": [
    {
     "name": "stdout",
     "output_type": "stream",
     "text": [
      "MSE Appartements : 1.164015340797107\n",
      "RMSE Appartements : 1.0788954262564594\n",
      "R² Appartements : 0.08046702910573056\n"
     ]
    }
   ],
   "execution_count": 59
  },
  {
   "metadata": {
    "ExecuteTime": {
     "end_time": "2025-06-26T07:30:59.929123Z",
     "start_time": "2025-06-26T07:30:59.881581Z"
    }
   },
   "cell_type": "code",
   "source": [
    "plt.scatter(X_train_scaled[:, 0], y_train_scaled, color='green', label='Valeur cible')\n",
    "plt.scatter(X_train_scaled[:, 0], y_train_pred_scaled, color='pink', label='Prédiction')\n",
    "plt.title(\"Forêt aléatoire – Prédictions (Appartements)\")\n",
    "plt.xlabel(\"Valeur foncière (standardisée)\")\n",
    "plt.ylabel(\"Prix m² (standardisé)\")\n",
    "plt.legend()\n",
    "plt.grid(True)\n",
    "plt.show()"
   ],
   "id": "2aaaa024f748dd8a",
   "outputs": [
    {
     "data": {
      "text/plain": [
       "<Figure size 640x480 with 1 Axes>"
      ],
      "image/png": "[encoded data removed]"
     },
     "metadata": {},
     "output_type": "display_data"
    }
   ],
   "execution_count": 60
  },
  {
   "metadata": {
    "ExecuteTime": {
     "end_time": "2025-06-26T07:30:59.951865Z",
     "start_time": "2025-06-26T07:30:59.943481Z"
    }
   },
   "cell_type": "code",
   "source": [
    "os.makedirs(\"../data/sauvegardes/RandomForestRegressor/appartements\", exist_ok=True)\n",
    "\n",
    "joblib.dump(model, \"../data/sauvegardes/RandomForestRegressor/appartements/app_model_RandomForestRegressor.pkl\")\n",
    "joblib.dump(scaler_X, \"../data/sauvegardes/RandomForestRegressor/appartements/app_scaler_X.pkl\")\n",
    "joblib.dump(scaler_y, \"../data/sauvegardes/RandomForestRegressor/appartements/app_scaler_y.pkl\")"
   ],
   "id": "3fcf11ce5ede7ce8",
   "outputs": [
    {
     "data": {
      "text/plain": [
       "['../data/sauvegardes/RandomForestRegressor/appartements/app_scaler_y.pkl']"
      ]
     },
     "execution_count": 61,
     "metadata": {},
     "output_type": "execute_result"
    }
   ],
   "execution_count": 61
  },
  {
   "metadata": {
    "ExecuteTime": {
     "end_time": "2025-06-26T07:30:59.969367Z",
     "start_time": "2025-06-26T07:30:59.966772Z"
    }
   },
   "cell_type": "code",
   "source": [
    "X = df_maisons[['Surface reelle bati', 'Nombre pieces principales', 'Type local', 'Surface terrain', 'Nombre de lots']].values\n",
    "y = df_maisons[[\"prix_m2\"]].values\n",
    "\n",
    "from sklearn.model_selection import train_test_split\n",
    "X_train, X_test, y_train, y_test = train_test_split(X, y, test_size=0.2, random_state=42)"
   ],
   "id": "fa80d7a5bc999489",
   "outputs": [],
   "execution_count": 62
  },
  {
   "metadata": {
    "ExecuteTime": {
     "end_time": "2025-06-26T07:30:59.986366Z",
     "start_time": "2025-06-26T07:30:59.983948Z"
    }
   },
   "cell_type": "code",
   "source": [
    "from sklearn.preprocessing import StandardScaler\n",
    "\n",
    "scaler_X = StandardScaler()\n",
    "scaler_y = StandardScaler()\n",
    "\n",
    "X_train_scaled = scaler_X.fit_transform(X_train)\n",
    "y_train_scaled = scaler_y.fit_transform(y_train)\n",
    "\n",
    "X_test_scaled = scaler_X.transform(X_test)\n",
    "y_test_scaled = scaler_y.transform(y_test)"
   ],
   "id": "2fe0606c694316cc",
   "outputs": [],
   "execution_count": 63
  },
  {
   "metadata": {
    "ExecuteTime": {
     "end_time": "2025-06-26T07:31:02.105642Z",
     "start_time": "2025-06-26T07:31:00.001455Z"
    }
   },
   "cell_type": "code",
   "source": [
    "from sklearn.ensemble import RandomForestRegressor\n",
    "from sklearn.model_selection import GridSearchCV\n",
    "\n",
    "param_grid = {\n",
    "    'n_estimators': [50, 100],\n",
    "    'max_depth': [None, 4, 6, 8],\n",
    "    'min_samples_split': [2, 5]\n",
    "}\n",
    "\n",
    "grid = GridSearchCV(RandomForestRegressor(random_state=42), param_grid, cv=5)\n",
    "grid.fit(X_train_scaled, y_train_scaled.ravel())\n",
    "\n",
    "model = grid.best_estimator_\n",
    "print(\"Meilleurs paramètres (Maisons) :\", grid.best_params_)"
   ],
   "id": "846e1a7a7ed670d9",
   "outputs": [
    {
     "name": "stdout",
     "output_type": "stream",
     "text": [
      "Meilleurs paramètres (Maisons) : {'max_depth': 4, 'min_samples_split': 5, 'n_estimators': 100}\n"
     ]
    }
   ],
   "execution_count": 64
  },
  {
   "metadata": {
    "ExecuteTime": {
     "end_time": "2025-06-26T07:31:02.170806Z",
     "start_time": "2025-06-26T07:31:02.120795Z"
    }
   },
   "cell_type": "code",
   "source": [
    "import matplotlib.pyplot as plt\n",
    "\n",
    "y_train_pred_scaled = model.predict(X_train_scaled)\n",
    "\n",
    "plt.scatter(X_train_scaled[:, 0], y_train_scaled,  color='blue', label='Train')\n",
    "plt.scatter(X_train_scaled[:, 0], y_train_pred_scaled,  color='red', label='Prédiction')\n",
    "plt.title(\"Forêt aléatoire – Entraînement (Maisons)\")\n",
    "plt.xlabel(\"Valeur foncière (standardisée)\")\n",
    "plt.ylabel(\"Prix m² (standardisé)\")\n",
    "plt.legend()\n",
    "plt.grid(True)\n",
    "plt.show()"
   ],
   "id": "895a975cadca3f76",
   "outputs": [
    {
     "data": {
      "text/plain": [
       "<Figure size 640x480 with 1 Axes>"
      ],
      "image/png": "[encoded data removed]"
     },
     "metadata": {},
     "output_type": "display_data"
    }
   ],
   "execution_count": 65
  },
  {
   "metadata": {
    "ExecuteTime": {
     "end_time": "2025-06-26T07:31:02.200010Z",
     "start_time": "2025-06-26T07:31:02.195183Z"
    }
   },
   "cell_type": "code",
   "source": [
    "from sklearn.metrics import mean_squared_error, r2_score\n",
    "import numpy as np\n",
    "\n",
    "y_pred_scaled = model.predict(X_test_scaled)\n",
    "mse_forest_mais = mean_squared_error(y_test_scaled, y_pred_scaled)\n",
    "\n",
    "print(\"MSE Maisons :\", mse_forest_mais)\n",
    "print(\"RMSE Maisons :\", np.sqrt(mse_forest_mais))\n",
    "print(\"R² Maisons :\", r2_score(y_test_scaled, y_pred_scaled))"
   ],
   "id": "eb4d85fde229c959",
   "outputs": [
    {
     "name": "stdout",
     "output_type": "stream",
     "text": [
      "MSE Maisons : 0.8659372352882017\n",
      "RMSE Maisons : 0.9305574862888384\n",
      "R² Maisons : -0.05274121214073868\n"
     ]
    }
   ],
   "execution_count": 66
  },
  {
   "metadata": {
    "ExecuteTime": {
     "end_time": "2025-06-26T07:31:02.302190Z",
     "start_time": "2025-06-26T07:31:02.255627Z"
    }
   },
   "cell_type": "code",
   "source": [
    "plt.scatter(X_train_scaled[:, 0], y_train_scaled, color='green', label='Valeur cible')\n",
    "plt.scatter(X_train_scaled[:, 0], y_train_pred_scaled, color='pink', label='Prédiction')\n",
    "plt.title(\"Forêt aléatoire – Prédictions (Maisons)\")\n",
    "plt.xlabel(\"Valeur foncière (standardisée)\")\n",
    "plt.ylabel(\"Prix m² (standardisé)\")\n",
    "plt.legend()\n",
    "plt.grid(True)\n",
    "plt.show()"
   ],
   "id": "62bd711bd902b242",
   "outputs": [
    {
     "data": {
      "text/plain": [
       "<Figure size 640x480 with 1 Axes>"
      ],
      "image/png": "[encoded data removed]"
     },
     "metadata": {},
     "output_type": "display_data"
    }
   ],
   "execution_count": 67
  },
  {
   "metadata": {
    "ExecuteTime": {
     "end_time": "2025-06-26T07:31:02.329119Z",
     "start_time": "2025-06-26T07:31:02.316398Z"
    }
   },
   "cell_type": "code",
   "source": [
    "os.makedirs(\"../data/sauvegardes/RandomForestRegressor/maisons\", exist_ok=True)\n",
    "\n",
    "joblib.dump(model, \"../data/sauvegardes/RandomForestRegressor/maisons/app_model_RandomForestRegressor.pkl\")\n",
    "joblib.dump(scaler_X, \"../data/sauvegardes/RandomForestRegressor/maisons/app_scaler_X.pkl\")\n",
    "joblib.dump(scaler_y, \"../data/sauvegardes/RandomForestRegressor/maisons/app_scaler_y.pkl\")"
   ],
   "id": "8bc3a2c90bd9868f",
   "outputs": [
    {
     "data": {
      "text/plain": [
       "['../data/sauvegardes/RandomForestRegressor/maisons/app_scaler_y.pkl']"
      ]
     },
     "execution_count": 68,
     "metadata": {},
     "output_type": "execute_result"
    }
   ],
   "execution_count": 68
  },
  {
   "metadata": {},
   "cell_type": "markdown",
   "source": "modèle XGBoost",
   "id": "626308dd58e2eb4a"
  },
  {
   "metadata": {
    "ExecuteTime": {
     "end_time": "2025-06-26T07:31:02.345046Z",
     "start_time": "2025-06-26T07:31:02.342529Z"
    }
   },
   "cell_type": "code",
   "source": [
    "X = df_appartements[['Surface reelle bati', 'Nombre pieces principales', 'Type local', 'Surface terrain', 'Nombre de lots']].values\n",
    "y = df_appartements[[\"prix_m2\"]].values\n",
    "\n",
    "from sklearn.model_selection import train_test_split\n",
    "X_train, X_test, y_train, y_test = train_test_split(X, y, test_size=0.2, random_state=42)"
   ],
   "id": "f48c766f5fff537e",
   "outputs": [],
   "execution_count": 69
  },
  {
   "metadata": {
    "ExecuteTime": {
     "end_time": "2025-06-26T07:31:02.361637Z",
     "start_time": "2025-06-26T07:31:02.359173Z"
    }
   },
   "cell_type": "code",
   "source": [
    "from sklearn.preprocessing import StandardScaler\n",
    "\n",
    "scaler_X = StandardScaler()\n",
    "scaler_y = StandardScaler()\n",
    "\n",
    "X_train_scaled = scaler_X.fit_transform(X_train)\n",
    "y_train_scaled = scaler_y.fit_transform(y_train)\n",
    "\n",
    "X_test_scaled = scaler_X.transform(X_test)\n",
    "y_test_scaled = scaler_y.transform(y_test)"
   ],
   "id": "cd4553856d9c5291",
   "outputs": [],
   "execution_count": 70
  },
  {
   "metadata": {
    "ExecuteTime": {
     "end_time": "2025-06-26T07:31:11.642575Z",
     "start_time": "2025-06-26T07:31:02.376588Z"
    }
   },
   "cell_type": "code",
   "source": [
    "import xgboost as xgb\n",
    "from sklearn.model_selection import GridSearchCV\n",
    "\n",
    "param_grid = {\n",
    "    'n_estimators': [50, 100],\n",
    "    'max_depth': [2, 4, 6],\n",
    "    'learning_rate': [0.01, 0.1, 0.3]\n",
    "}\n",
    "\n",
    "grid = GridSearchCV(\n",
    "    xgb.XGBRegressor(objective='reg:squarederror', random_state=42),\n",
    "    param_grid,\n",
    "    cv=5\n",
    ")\n",
    "grid.fit(X_train_scaled, y_train_scaled.ravel())\n",
    "\n",
    "model = grid.best_estimator_\n",
    "print(\"Meilleurs paramètres (Appartements) :\", grid.best_params_)"
   ],
   "id": "3c128231b43d2c39",
   "outputs": [
    {
     "name": "stdout",
     "output_type": "stream",
     "text": [
      "Meilleurs paramètres (Appartements) : {'learning_rate': 0.01, 'max_depth': 2, 'n_estimators': 100}\n"
     ]
    }
   ],
   "execution_count": 71
  },
  {
   "metadata": {
    "ExecuteTime": {
     "end_time": "2025-06-26T07:31:11.704599Z",
     "start_time": "2025-06-26T07:31:11.657855Z"
    }
   },
   "cell_type": "code",
   "source": [
    "import matplotlib.pyplot as plt\n",
    "\n",
    "y_train_pred_scaled = model.predict(X_train_scaled)\n",
    "\n",
    "plt.scatter(X_train_scaled[:, 0], y_train_scaled, color='blue', label='Train')\n",
    "plt.scatter(X_train_scaled[:, 0], y_train_pred_scaled, color='red', label='Prédiction')\n",
    "plt.title(\"XGBoost – Entraînement (Appartements)\")\n",
    "plt.xlabel(\"Valeur foncière (standardisée)\")\n",
    "plt.ylabel(\"Prix m² (standardisé)\")\n",
    "plt.legend()\n",
    "plt.grid(True)\n",
    "plt.show()"
   ],
   "id": "e77ad64111cba7f6",
   "outputs": [
    {
     "data": {
      "text/plain": [
       "<Figure size 640x480 with 1 Axes>"
      ],
      "image/png": "[encoded data removed]"
     },
     "metadata": {},
     "output_type": "display_data"
    }
   ],
   "execution_count": 72
  },
  {
   "metadata": {
    "ExecuteTime": {
     "end_time": "2025-06-26T07:31:11.738225Z",
     "start_time": "2025-06-26T07:31:11.735282Z"
    }
   },
   "cell_type": "code",
   "source": [
    "from sklearn.metrics import mean_squared_error, r2_score\n",
    "import numpy as np\n",
    "\n",
    "y_pred_scaled = model.predict(X_test_scaled)\n",
    "mse_xgb_app = mean_squared_error(y_test_scaled, y_pred_scaled)\n",
    "\n",
    "print(\"MSE Appartements :\", mse_xgb_app)\n",
    "print(\"RMSE Appartements :\", np.sqrt(mse_xgb_app))\n",
    "print(\"R² Appartements :\", r2_score(y_test_scaled, y_pred_scaled))"
   ],
   "id": "adca9dc0b29da979",
   "outputs": [
    {
     "name": "stdout",
     "output_type": "stream",
     "text": [
      "MSE Appartements : 1.2467587101011357\n",
      "RMSE Appartements : 1.116583498938228\n",
      "R² Appartements : 0.015102550192735542\n"
     ]
    }
   ],
   "execution_count": 73
  },
  {
   "metadata": {
    "ExecuteTime": {
     "end_time": "2025-06-26T07:31:11.869147Z",
     "start_time": "2025-06-26T07:31:11.819564Z"
    }
   },
   "cell_type": "code",
   "source": [
    "plt.scatter(X_train_scaled[:, 0], y_train_scaled, color='green', label='Valeur cible')\n",
    "plt.scatter(X_train_scaled[:, 0], y_train_pred_scaled, color='pink', label='Prédiction')\n",
    "plt.title(\"XGBoost – Prédictions (Appartements)\")\n",
    "plt.xlabel(\"Valeur foncière (standardisée)\")\n",
    "plt.ylabel(\"Prix m² (standardisé)\")\n",
    "plt.legend()\n",
    "plt.grid(True)\n",
    "plt.show()"
   ],
   "id": "5fbdafc701ac71ce",
   "outputs": [
    {
     "data": {
      "text/plain": [
       "<Figure size 640x480 with 1 Axes>"
      ],
      "image/png": "[encoded data removed]"
     },
     "metadata": {},
     "output_type": "display_data"
    }
   ],
   "execution_count": 74
  },
  {
   "metadata": {
    "ExecuteTime": {
     "end_time": "2025-06-26T07:31:11.888555Z",
     "start_time": "2025-06-26T07:31:11.884626Z"
    }
   },
   "cell_type": "code",
   "source": [
    "os.makedirs(\"../data/sauvegardes/XGBRegressor/appartements\", exist_ok=True)\n",
    "\n",
    "joblib.dump(model, \"../data/sauvegardes/XGBRegressor/appartements/app_model_XGBoost.pkl\")\n",
    "joblib.dump(scaler_X, \"../data/sauvegardes/XGBRegressor/appartements/app_scaler_X.pkl\")\n",
    "joblib.dump(scaler_y, \"../data/sauvegardes/XGBRegressor/appartements/app_scaler_y.pkl\")"
   ],
   "id": "50d978d7541ba368",
   "outputs": [
    {
     "data": {
      "text/plain": [
       "['../data/sauvegardes/XGBRegressor/appartements/app_scaler_y.pkl']"
      ]
     },
     "execution_count": 75,
     "metadata": {},
     "output_type": "execute_result"
    }
   ],
   "execution_count": 75
  },
  {
   "metadata": {
    "ExecuteTime": {
     "end_time": "2025-06-26T07:31:11.907401Z",
     "start_time": "2025-06-26T07:31:11.904779Z"
    }
   },
   "cell_type": "code",
   "source": [
    "X = df_maisons[['Surface reelle bati', 'Nombre pieces principales', 'Type local', 'Surface terrain', 'Nombre de lots']].values\n",
    "y = df_maisons[[\"prix_m2\"]].values\n",
    "\n",
    "from sklearn.model_selection import train_test_split\n",
    "X_train, X_test, y_train, y_test = train_test_split(X, y, test_size=0.2, random_state=42)"
   ],
   "id": "a56ce50098603ee",
   "outputs": [],
   "execution_count": 76
  },
  {
   "metadata": {
    "ExecuteTime": {
     "end_time": "2025-06-26T07:31:11.927033Z",
     "start_time": "2025-06-26T07:31:11.923861Z"
    }
   },
   "cell_type": "code",
   "source": [
    "from sklearn.preprocessing import StandardScaler\n",
    "\n",
    "scaler_X = StandardScaler()\n",
    "scaler_y = StandardScaler()\n",
    "\n",
    "X_train_scaled = scaler_X.fit_transform(X_train)\n",
    "y_train_scaled = scaler_y.fit_transform(y_train)\n",
    "\n",
    "X_test_scaled = scaler_X.transform(X_test)\n",
    "y_test_scaled = scaler_y.transform(y_test)"
   ],
   "id": "d21ca43580c6f2f2",
   "outputs": [],
   "execution_count": 77
  },
  {
   "metadata": {
    "ExecuteTime": {
     "end_time": "2025-06-26T07:31:21.135292Z",
     "start_time": "2025-06-26T07:31:11.947372Z"
    }
   },
   "cell_type": "code",
   "source": [
    "import xgboost as xgb\n",
    "from sklearn.model_selection import GridSearchCV\n",
    "\n",
    "param_grid = {\n",
    "    'n_estimators': [50, 100],\n",
    "    'max_depth': [2, 4, 6],\n",
    "    'learning_rate': [0.01, 0.1, 0.3]\n",
    "}\n",
    "\n",
    "grid = GridSearchCV(\n",
    "    xgb.XGBRegressor(objective='reg:squarederror', random_state=42),\n",
    "    param_grid,\n",
    "    cv=5\n",
    ")\n",
    "grid.fit(X_train_scaled, y_train_scaled.ravel())\n",
    "\n",
    "model = grid.best_estimator_\n",
    "print(\"Meilleurs paramètres (Maisons) :\", grid.best_params_)"
   ],
   "id": "5736669cb2c5d29f",
   "outputs": [
    {
     "name": "stdout",
     "output_type": "stream",
     "text": [
      "Meilleurs paramètres (Maisons) : {'learning_rate': 0.01, 'max_depth': 2, 'n_estimators': 50}\n"
     ]
    }
   ],
   "execution_count": 78
  },
  {
   "metadata": {
    "ExecuteTime": {
     "end_time": "2025-06-26T07:31:21.196765Z",
     "start_time": "2025-06-26T07:31:21.151428Z"
    }
   },
   "cell_type": "code",
   "source": [
    "import matplotlib.pyplot as plt\n",
    "\n",
    "y_train_pred_scaled = model.predict(X_train_scaled)\n",
    "\n",
    "plt.scatter(X_train_scaled[:, 0], y_train_scaled, color='blue', label='Train')\n",
    "plt.scatter(X_train_scaled[:, 0], y_train_pred_scaled, color='red', label='Prédiction')\n",
    "plt.title(\"XGBoost – Entraînement (Maisons)\")\n",
    "plt.xlabel(\"Valeur foncière (standardisée)\")\n",
    "plt.ylabel(\"Prix m² (standardisé)\")\n",
    "plt.legend()\n",
    "plt.grid(True)\n",
    "plt.show()"
   ],
   "id": "1207143009cf59ad",
   "outputs": [
    {
     "data": {
      "text/plain": [
       "<Figure size 640x480 with 1 Axes>"
      ],
      "image/png": "[encoded data removed]"
     },
     "metadata": {},
     "output_type": "display_data"
    }
   ],
   "execution_count": 79
  },
  {
   "metadata": {
    "ExecuteTime": {
     "end_time": "2025-06-26T07:31:21.215313Z",
     "start_time": "2025-06-26T07:31:21.212143Z"
    }
   },
   "cell_type": "code",
   "source": [
    "from sklearn.metrics import mean_squared_error, r2_score\n",
    "import numpy as np\n",
    "\n",
    "y_pred_scaled = model.predict(X_test_scaled)\n",
    "mse_xgb_mais = mean_squared_error(y_test_scaled, y_pred_scaled)\n",
    "\n",
    "print(\"MSE Maisons :\", mse_xgb_mais)\n",
    "print(\"RMSE Maisons :\", np.sqrt(mse_xgb_mais))\n",
    "print(\"R² Maisons :\", r2_score(y_test_scaled, y_pred_scaled))"
   ],
   "id": "7a929c9d67a43bc6",
   "outputs": [
    {
     "name": "stdout",
     "output_type": "stream",
     "text": [
      "MSE Maisons : 0.873094756384792\n",
      "RMSE Maisons : 0.934395396170589\n",
      "R² Maisons : -0.06144278672153325\n"
     ]
    }
   ],
   "execution_count": 80
  },
  {
   "metadata": {
    "ExecuteTime": {
     "end_time": "2025-06-26T07:31:21.286630Z",
     "start_time": "2025-06-26T07:31:21.239366Z"
    }
   },
   "cell_type": "code",
   "source": [
    "plt.scatter(X_train_scaled[:, 0], y_train_scaled, color='green', label='Valeur cible')\n",
    "plt.scatter(X_train_scaled[:, 0], y_train_pred_scaled, color='pink', label='Prédiction')\n",
    "plt.title(\"XGBoost – Prédictions (Maisons)\")\n",
    "plt.xlabel(\"Valeur foncière (standardisée)\")\n",
    "plt.ylabel(\"Prix m² (standardisé)\")\n",
    "plt.legend()\n",
    "plt.grid(True)\n",
    "plt.show()"
   ],
   "id": "28c8bc63e008770f",
   "outputs": [
    {
     "data": {
      "text/plain": [
       "<Figure size 640x480 with 1 Axes>"
      ],
      "image/png": "[encoded data removed]"
     },
     "metadata": {},
     "output_type": "display_data"
    }
   ],
   "execution_count": 81
  },
  {
   "metadata": {
    "ExecuteTime": {
     "end_time": "2025-06-26T07:31:21.325948Z",
     "start_time": "2025-06-26T07:31:21.322612Z"
    }
   },
   "cell_type": "code",
   "source": [
    "os.makedirs(\"../data/sauvegardes/XGBRegressor/maisons\", exist_ok=True)\n",
    "\n",
    "joblib.dump(model, \"../data/sauvegardes/XGBRegressor/maisons/app_model_XGBoost.pkl\")\n",
    "joblib.dump(scaler_X, \"../data/sauvegardes/XGBRegressor/maisons/app_scaler_X.pkl\")\n",
    "joblib.dump(scaler_y, \"../data/sauvegardes/XGBRegressor/maisons/app_scaler_y.pkl\")"
   ],
   "id": "6ddabf8caa3ef5e",
   "outputs": [
    {
     "data": {
      "text/plain": [
       "['../data/sauvegardes/XGBRegressor/maisons/app_scaler_y.pkl']"
      ]
     },
     "execution_count": 82,
     "metadata": {},
     "output_type": "execute_result"
    }
   ],
   "execution_count": 82
  },
  {
   "metadata": {
    "ExecuteTime": {
     "end_time": "2025-06-26T07:31:21.430990Z",
     "start_time": "2025-06-26T07:31:21.389185Z"
    }
   },
   "cell_type": "code",
   "source": [
    "import pandas as pd\n",
    "\n",
    "# Tableau comparatif avec MSE pour Appartements & Maisons\n",
    "comparatif = pd.DataFrame({\n",
    "    \"Modèle\": [\n",
    "        \"Régression linéaire : LinearRegression\",\n",
    "        \"Arbre de décision : DecisionTreeRegressor\",\n",
    "        \"Forêt aléatoire : RandomForestRegressor\",\n",
    "        \"XGBoost : XGBRegressor\"\n",
    "    ],\n",
    "    \"MSE Appartements\": [\n",
    "        mse_linear_app,\n",
    "        mse_tree_app,\n",
    "        mse_forest_app,\n",
    "        mse_xgb_app\n",
    "    ],\n",
    "    \"MSE Maisons\": [\n",
    "        mse_linear_mais,\n",
    "        mse_tree_mais,\n",
    "        mse_forest_mais,\n",
    "        mse_xgb_mais\n",
    "    ]\n",
    "})\n",
    "\n",
    "# Mise en forme\n",
    "comparatif.set_index(\"Modèle\", inplace=True)\n",
    "\n",
    "# Stylisation propre et lisible\n",
    "styled_comparatif = comparatif.style\\\n",
    "    .format(\"{:.4f}\")\\\n",
    "    .highlight_min(axis=0, color=\"#C1F0C1\")\\\n",
    "    .highlight_max(axis=0, color=\"#F8C8DC\")\\\n",
    "    .set_properties(**{'color': 'black', 'background-color': 'white'})\\\n",
    "    .set_caption(\"📊 Comparatif des MSE pour Appartements et Maisons\")\\\n",
    "    .set_table_styles([\n",
    "        {\"selector\": \"caption\", \"props\": [(\"font-size\", \"16px\"), (\"font-weight\", \"bold\")]},\n",
    "        {\"selector\": \"th\", \"props\": [(\"color\", \"black\"), (\"background-color\", \"white\")]},\n",
    "        {\"selector\": \"td\", \"props\": [(\"color\", \"black\"), (\"background-color\", \"white\")]}\n",
    "    ])\n",
    "\n",
    "# Affichage du tableau\n",
    "display(styled_comparatif)\n"
   ],
   "id": "3e99591f11dfacf0",
   "outputs": [
    {
     "data": {
      "text/plain": [
       "<pandas.io.formats.style.Styler at 0x10f84e3e0>"
      ],
      "text/html": [
       "<style type=\"text/css\">\n",
       "#T_92360 caption {\n",
       "  font-size: 16px;\n",
       "  font-weight: bold;\n",
       "}\n",
       "#T_92360 th {\n",
       "  color: black;\n",
       "  background-color: white;\n",
       "}\n",
       "#T_92360 td {\n",
       "  color: black;\n",
       "  background-color: white;\n",
       "}\n",
       "#T_92360_row0_col0, #T_92360_row1_col1, #T_92360_row3_col0, #T_92360_row3_col1 {\n",
       "  color: black;\n",
       "  background-color: white;\n",
       "}\n",
       "#T_92360_row0_col1, #T_92360_row1_col0 {\n",
       "  background-color: #F8C8DC;\n",
       "  color: black;\n",
       "  background-color: white;\n",
       "}\n",
       "#T_92360_row2_col0, #T_92360_row2_col1 {\n",
       "  background-color: #C1F0C1;\n",
       "  color: black;\n",
       "  background-color: white;\n",
       "}\n",
       "</style>\n",
       "<table id=\"T_92360\">\n",
       "  <caption>📊 Comparatif des MSE pour Appartements et Maisons</caption>\n",
       "  <thead>\n",
       "    <tr>\n",
       "      <th class=\"blank level0\" >&nbsp;</th>\n",
       "      <th id=\"T_92360_level0_col0\" class=\"col_heading level0 col0\" >MSE Appartements</th>\n",
       "      <th id=\"T_92360_level0_col1\" class=\"col_heading level0 col1\" >MSE Maisons</th>\n",
       "    </tr>\n",
       "    <tr>\n",
       "      <th class=\"index_name level0\" >Modèle</th>\n",
       "      <th class=\"blank col0\" >&nbsp;</th>\n",
       "      <th class=\"blank col1\" >&nbsp;</th>\n",
       "    </tr>\n",
       "  </thead>\n",
       "  <tbody>\n",
       "    <tr>\n",
       "      <th id=\"T_92360_level0_row0\" class=\"row_heading level0 row0\" >Régression linéaire : LinearRegression</th>\n",
       "      <td id=\"T_92360_row0_col0\" class=\"data row0 col0\" >1.1699</td>\n",
       "      <td id=\"T_92360_row0_col1\" class=\"data row0 col1\" >0.9219</td>\n",
       "    </tr>\n",
       "    <tr>\n",
       "      <th id=\"T_92360_level0_row1\" class=\"row_heading level0 row1\" >Arbre de décision : DecisionTreeRegressor</th>\n",
       "      <td id=\"T_92360_row1_col0\" class=\"data row1 col0\" >1.2817</td>\n",
       "      <td id=\"T_92360_row1_col1\" class=\"data row1 col1\" >0.9109</td>\n",
       "    </tr>\n",
       "    <tr>\n",
       "      <th id=\"T_92360_level0_row2\" class=\"row_heading level0 row2\" >Forêt aléatoire : RandomForestRegressor</th>\n",
       "      <td id=\"T_92360_row2_col0\" class=\"data row2 col0\" >1.1640</td>\n",
       "      <td id=\"T_92360_row2_col1\" class=\"data row2 col1\" >0.8659</td>\n",
       "    </tr>\n",
       "    <tr>\n",
       "      <th id=\"T_92360_level0_row3\" class=\"row_heading level0 row3\" >XGBoost : XGBRegressor</th>\n",
       "      <td id=\"T_92360_row3_col0\" class=\"data row3 col0\" >1.2468</td>\n",
       "      <td id=\"T_92360_row3_col1\" class=\"data row3 col1\" >0.8731</td>\n",
       "    </tr>\n",
       "  </tbody>\n",
       "</table>\n"
      ]
     },
     "metadata": {},
     "output_type": "display_data"
    }
   ],
   "execution_count": 83
  }
 ],
 "metadata": {
  "kernelspec": {
   "display_name": "Python 3",
   "language": "python",
   "name": "python3"
  },
  "language_info": {
   "codemirror_mode": {
    "name": "ipython",
    "version": 2
   },
   "file_extension": ".py",
   "mimetype": "text/x-python",
   "name": "python",
   "nbconvert_exporter": "python",
   "pygments_lexer": "ipython2",
   "version": "2.7.6"
  }
 },
 "nbformat": 4,
 "nbformat_minor": 5
}
